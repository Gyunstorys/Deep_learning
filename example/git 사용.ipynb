{
 "cells": [
  {
   "cell_type": "markdown",
   "metadata": {},
   "source": [
    "git 시작하기\n",
    "```bash\n",
    "git init\n",
    "```\n",
    "git 에서 파일추가\n",
    "```bash\n",
    "git add --all\n",
    "git commit -m \"첫 번째 commit\"\n",
    "```\n",
    "\n",
    "github에 추가\n",
    "```bash\n",
    "git remote add origin https://github.com/user/repo.git\n",
    "git push origin master\n",
    "```\n",
    "\n",
    "github에서 받기\n",
    "```bash\n",
    "git clone https://github.com/user/repo.git\n",
    "```"
   ]
  }
 ],
 "metadata": {
  "anaconda-cloud": {},
  "kernelspec": {
   "display_name": "Python [default]",
   "language": "python",
   "name": "python3"
  },
  "language_info": {
   "codemirror_mode": {
    "name": "ipython",
    "version": 3
   },
   "file_extension": ".py",
   "mimetype": "text/x-python",
   "name": "python",
   "nbconvert_exporter": "python",
   "pygments_lexer": "ipython3",
   "version": "3.5.2"
  }
 },
 "nbformat": 4,
 "nbformat_minor": 1
}
