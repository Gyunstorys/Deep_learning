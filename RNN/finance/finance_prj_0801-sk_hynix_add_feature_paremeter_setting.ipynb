{
 "cells": [
  {
   "cell_type": "markdown",
   "metadata": {},
   "source": [
    "## RNN for finance 17.08.01"
   ]
  },
  {
   "cell_type": "markdown",
   "metadata": {},
   "source": [
    "### 10湲?源?쒗븳, ?먯쭊??
   ]
  },
  {
   "cell_type": "code",
   "execution_count": 1,
   "metadata": {
    "collapsed": true
   },
   "outputs": [],
   "source": [
    "import pandas_datareader.data as web"
   ]
  },
  {
   "cell_type": "code",
   "execution_count": 2,
   "metadata": {
    "collapsed": true
   },
   "outputs": [],
   "source": [
    "import pandas as pd"
   ]
  },
  {
   "cell_type": "code",
   "execution_count": 3,
   "metadata": {
    "collapsed": true
   },
   "outputs": [],
   "source": [
    "import datetime as dt"
   ]
  },
  {
   "cell_type": "code",
   "execution_count": 4,
   "metadata": {
    "collapsed": true
   },
   "outputs": [],
   "source": [
    "import numpy as np"
   ]
  },
  {
   "cell_type": "code",
   "execution_count": 5,
   "metadata": {
    "collapsed": true
   },
   "outputs": [],
   "source": [
    "import tensorflow as tf\n",
    "import matplotlib\n",
    "import os\n",
    "import matplotlib.pyplot as plt"
   ]
  },
  {
   "cell_type": "markdown",
   "metadata": {},
   "source": [
    "#### ?쒖옉?쇱꽕?? : 2017.01.02"
   ]
  },
  {
   "cell_type": "code",
   "execution_count": 6,
   "metadata": {
    "collapsed": true
   },
   "outputs": [],
   "source": [
    "start = dt.datetime(2017,1,2)"
   ]
  },
  {
   "cell_type": "code",
   "execution_count": 7,
   "metadata": {
    "collapsed": true
   },
   "outputs": [],
   "source": [
    "now = dt.datetime.now()\n",
    "year = now.year\n",
    "month = now.month\n",
    "day = now.day"
   ]
  },
  {
   "cell_type": "markdown",
   "metadata": {},
   "source": [
    "#### 留덉?留???: ?꾩옱 ???????ъ슜"
   ]
  },
  {
   "cell_type": "code",
   "execution_count": 8,
   "metadata": {
    "collapsed": true
   },
   "outputs": [],
   "source": [
    "end = dt.datetime(year,month,day)"
   ]
  },
  {
   "cell_type": "markdown",
   "metadata": {},
   "source": [
    "肄붿뒪??200 醫낅ぉ(以묒뿉???쒓?珥앹븸 10議곗씠??"
   ]
  },
  {
   "cell_type": "markdown",
   "metadata": {},
   "source": [
    "?쇱꽦?꾩옄, sk?섏씠?됱뒪, ?꾨?李? posco, ?쒓뎅?꾨젰, naver, ?쇱꽦臾쇱궛, ?좏븳吏二? ?쇱꽦?앸챸, kb湲덉쑖, ?꾨?紐⑤퉬?? LG?뷀븰, sk?붾젅肄? sk\n",
    ",?쇱꽦諛붿씠?ㅻ줈吏곸뒪, ?꾨え?덊띁?쒗뵿, sk?대끂踰좎씠?? kt&g, lg?앺솢嫄닿컯, ?섎굹湲덉쑖吏二? 湲곗븘李? ?쇱꽦?먯뒪?붿뿉?? ?쇱꽦?붿옱, S-Oil, LG, ?곕━???n",
    ",濡?뜲耳誘몄뭡, ?룸쭏釉붽쾶?꾩쫰, ?쇱꽦SDI, LG?붿뒪?뚮젅?? lg?꾩옄, ?꾨え?늛, "
   ]
  },
  {
   "cell_type": "markdown",
   "metadata": {},
   "source": [
    "### ?곸쐞10媛?(肄붿뒪???쒓?珥앹븸 湲곗? ?곸쐞 10媛?"
   ]
  },
  {
   "cell_type": "code",
   "execution_count": 9,
   "metadata": {
    "collapsed": false
   },
   "outputs": [],
   "source": [
    "samsung_elec = \"KRX:005930\"\n",
    "sk_hynix = \"KRX:000660\"\n",
    "hyundat_motor = \"KRX:005380\"\n",
    "posco = \"KRX:005490\"\n",
    "kepco = \"KRX:015760\"\n",
    "naver = \"KRX:035420\"\n",
    "samsung_cnt = \"KRX:028260\"\n",
    "shinhan_finance = \"KRX:055550\"\n",
    "samsung_life_ins = \"KRX:032830\"\n",
    "kb_finance = \"KRX:105560\""
   ]
  },
  {
   "cell_type": "markdown",
   "metadata": {},
   "source": [
    "top10=[\"KRX:005930\",\n",
    "\"KRX:000660\",\n",
    "\"KRX:005380\",\n",
    "\"KRX:005490\",\n",
    "\"KRX:015760\",\n",
    "\"KRX:035420\",\n",
    "\"KRX:028260\",\n",
    "\"KRX:055550\",\n",
    "\"KRX:032830\",\n",
    "\"KRX:105560\"]"
   ]
  },
  {
   "cell_type": "markdown",
   "metadata": {},
   "source": [
    "#### 二쇨??뺣낫 遺덈윭?ㅺ린"
   ]
  },
  {
   "cell_type": "code",
   "execution_count": 10,
   "metadata": {
    "collapsed": false
   },
   "outputs": [],
   "source": [
    "samsung_elec = web.DataReader(samsung_elec, \"google\", start, end)\n",
    "sk_hynix = web.DataReader(sk_hynix, \"google\", start, end)\n",
    "hyundat_motor = web.DataReader(hyundat_motor, \"google\", start, end)\n",
    "posco = web.DataReader(posco, \"google\", start, end)\n",
    "kepco = web.DataReader(kepco, \"google\", start, end)\n",
    "naver = web.DataReader(naver, \"google\", start, end)\n",
    "samsung_cnt = web.DataReader(samsung_cnt, \"google\", start, end)\n",
    "shinhan_finance = web.DataReader(shinhan_finance, \"google\", start, end)\n",
    "samsung_life_ins = web.DataReader(samsung_life_ins, \"google\", start, end)\n",
    "kb_finance = web.DataReader(kb_finance, \"google\", start, end)"
   ]
  },
  {
   "cell_type": "markdown",
   "metadata": {},
   "source": [
    "## 嫄곕옒?湲?異붽? (嫄곕옒??* 二쇨?)"
   ]
  },
  {
   "cell_type": "code",
   "execution_count": 11,
   "metadata": {
    "collapsed": true
   },
   "outputs": [],
   "source": [
    "samsung_elec['trading_value'] = samsung_elec.Close*samsung_elec.Volume\n",
    "sk_hynix['trading_value'] = sk_hynix.Close*sk_hynix.Volume\n",
    "hyundat_motor['trading_value'] = hyundat_motor.Close*hyundat_motor.Volume\n",
    "posco['trading_value'] = posco.Close*posco.Volume\n",
    "kepco['trading_value'] = kepco.Close*kepco.Volume\n",
    "naver['trading_value'] = naver.Close*naver.Volume\n",
    "samsung_cnt['trading_value'] = samsung_cnt.Close*samsung_cnt.Volume\n",
    "shinhan_finance['trading_value'] = shinhan_finance.Close*shinhan_finance.Volume\n",
    "samsung_life_ins['trading_value'] = samsung_life_ins.Close*samsung_life_ins.Volume\n",
    "kb_finance['trading_value'] = kb_finance.Close*kb_finance.Volume"
   ]
  },
  {
   "cell_type": "markdown",
   "metadata": {},
   "source": [
    "### sk ?섏씠?됱뒪 遺꾩꽍?대낫湲?
   ]
  },
  {
   "cell_type": "code",
   "execution_count": 12,
   "metadata": {
    "collapsed": false,
    "scrolled": false
   },
   "outputs": [
    {
     "data": {
      "text/html": [
       "<div>\n",
       "<table border=\"1\" class=\"dataframe\">\n",
       "  <thead>\n",
       "    <tr style=\"text-align: right;\">\n",
       "      <th></th>\n",
       "      <th>Open</th>\n",
       "      <th>High</th>\n",
       "      <th>Low</th>\n",
       "      <th>Close</th>\n",
       "      <th>Volume</th>\n",
       "      <th>trading_value</th>\n",
       "    </tr>\n",
       "    <tr>\n",
       "      <th>Date</th>\n",
       "      <th></th>\n",
       "      <th></th>\n",
       "      <th></th>\n",
       "      <th></th>\n",
       "      <th></th>\n",
       "      <th></th>\n",
       "    </tr>\n",
       "  </thead>\n",
       "  <tbody>\n",
       "    <tr>\n",
       "      <th>2017-01-02</th>\n",
       "      <td>44750.0</td>\n",
       "      <td>46000.0</td>\n",
       "      <td>44600.0</td>\n",
       "      <td>45800.0</td>\n",
       "      <td>1539274</td>\n",
       "      <td>7.049875e+10</td>\n",
       "    </tr>\n",
       "    <tr>\n",
       "      <th>2017-01-03</th>\n",
       "      <td>46200.0</td>\n",
       "      <td>47300.0</td>\n",
       "      <td>46200.0</td>\n",
       "      <td>47250.0</td>\n",
       "      <td>2645111</td>\n",
       "      <td>1.249815e+11</td>\n",
       "    </tr>\n",
       "    <tr>\n",
       "      <th>2017-01-04</th>\n",
       "      <td>47000.0</td>\n",
       "      <td>47150.0</td>\n",
       "      <td>46200.0</td>\n",
       "      <td>46500.0</td>\n",
       "      <td>2625142</td>\n",
       "      <td>1.220691e+11</td>\n",
       "    </tr>\n",
       "    <tr>\n",
       "      <th>2017-01-05</th>\n",
       "      <td>47000.0</td>\n",
       "      <td>47500.0</td>\n",
       "      <td>46850.0</td>\n",
       "      <td>46950.0</td>\n",
       "      <td>2370891</td>\n",
       "      <td>1.113133e+11</td>\n",
       "    </tr>\n",
       "    <tr>\n",
       "      <th>2017-01-06</th>\n",
       "      <td>47700.0</td>\n",
       "      <td>48450.0</td>\n",
       "      <td>47600.0</td>\n",
       "      <td>48000.0</td>\n",
       "      <td>3077566</td>\n",
       "      <td>1.477232e+11</td>\n",
       "    </tr>\n",
       "  </tbody>\n",
       "</table>\n",
       "</div>"
      ],
      "text/plain": [
       "               Open     High      Low    Close   Volume  trading_value\n",
       "Date                                                                  \n",
       "2017-01-02  44750.0  46000.0  44600.0  45800.0  1539274   7.049875e+10\n",
       "2017-01-03  46200.0  47300.0  46200.0  47250.0  2645111   1.249815e+11\n",
       "2017-01-04  47000.0  47150.0  46200.0  46500.0  2625142   1.220691e+11\n",
       "2017-01-05  47000.0  47500.0  46850.0  46950.0  2370891   1.113133e+11\n",
       "2017-01-06  47700.0  48450.0  47600.0  48000.0  3077566   1.477232e+11"
      ]
     },
     "execution_count": 12,
     "metadata": {},
     "output_type": "execute_result"
    }
   ],
   "source": [
    "sk_hynix.head()"
   ]
  },
  {
   "cell_type": "code",
   "execution_count": 13,
   "metadata": {
    "collapsed": false,
    "scrolled": true
   },
   "outputs": [
    {
     "data": {
      "text/plain": [
       "(1539274, 2645111)"
      ]
     },
     "execution_count": 13,
     "metadata": {},
     "output_type": "execute_result"
    }
   ],
   "source": [
    "sk_hynix.Volume[0], sk_hynix.Volume[1]"
   ]
  },
  {
   "cell_type": "code",
   "execution_count": 14,
   "metadata": {
    "collapsed": false,
    "scrolled": false
   },
   "outputs": [
    {
     "data": {
      "text/plain": [
       "144"
      ]
     },
     "execution_count": 14,
     "metadata": {},
     "output_type": "execute_result"
    }
   ],
   "source": [
    "len(sk_hynix)"
   ]
  },
  {
   "cell_type": "markdown",
   "metadata": {},
   "source": [
    "### ?꾩씪?鍮?嫄곕옒??利앷컧???앹꽦"
   ]
  },
  {
   "cell_type": "code",
   "execution_count": 15,
   "metadata": {
    "collapsed": false
   },
   "outputs": [],
   "source": [
    "i=0\n",
    "volume_percent_li=[1]\n",
    "for i in range(len(sk_hynix)-1):\n",
    "    volume_percent_li.append( (sk_hynix.Volume[i+1]/sk_hynix.Volume[i]) )"
   ]
  },
  {
   "cell_type": "code",
   "execution_count": 16,
   "metadata": {
    "collapsed": false
   },
   "outputs": [
    {
     "data": {
      "text/plain": [
       "144"
      ]
     },
     "execution_count": 16,
     "metadata": {},
     "output_type": "execute_result"
    }
   ],
   "source": [
    "len(volume_percent_li)"
   ]
  },
  {
   "cell_type": "code",
   "execution_count": 17,
   "metadata": {
    "collapsed": false,
    "scrolled": true
   },
   "outputs": [],
   "source": [
    "se = pd.Series(volume_percent_li)"
   ]
  },
  {
   "cell_type": "code",
   "execution_count": 18,
   "metadata": {
    "collapsed": false
   },
   "outputs": [
    {
     "data": {
      "text/plain": [
       "pandas.core.series.Series"
      ]
     },
     "execution_count": 18,
     "metadata": {},
     "output_type": "execute_result"
    }
   ],
   "source": [
    "type(se)"
   ]
  },
  {
   "cell_type": "code",
   "execution_count": 19,
   "metadata": {
    "collapsed": true
   },
   "outputs": [],
   "source": [
    "sk_hynix['volume_percent'] = se.values"
   ]
  },
  {
   "cell_type": "code",
   "execution_count": 20,
   "metadata": {
    "collapsed": false,
    "scrolled": false
   },
   "outputs": [
    {
     "data": {
      "text/html": [
       "<div>\n",
       "<table border=\"1\" class=\"dataframe\">\n",
       "  <thead>\n",
       "    <tr style=\"text-align: right;\">\n",
       "      <th></th>\n",
       "      <th>Open</th>\n",
       "      <th>High</th>\n",
       "      <th>Low</th>\n",
       "      <th>Close</th>\n",
       "      <th>Volume</th>\n",
       "      <th>trading_value</th>\n",
       "      <th>volume_percent</th>\n",
       "    </tr>\n",
       "    <tr>\n",
       "      <th>Date</th>\n",
       "      <th></th>\n",
       "      <th></th>\n",
       "      <th></th>\n",
       "      <th></th>\n",
       "      <th></th>\n",
       "      <th></th>\n",
       "      <th></th>\n",
       "    </tr>\n",
       "  </thead>\n",
       "  <tbody>\n",
       "    <tr>\n",
       "      <th>2017-01-02</th>\n",
       "      <td>44750.0</td>\n",
       "      <td>46000.0</td>\n",
       "      <td>44600.0</td>\n",
       "      <td>45800.0</td>\n",
       "      <td>1539274</td>\n",
       "      <td>7.049875e+10</td>\n",
       "      <td>1.000000</td>\n",
       "    </tr>\n",
       "    <tr>\n",
       "      <th>2017-01-03</th>\n",
       "      <td>46200.0</td>\n",
       "      <td>47300.0</td>\n",
       "      <td>46200.0</td>\n",
       "      <td>47250.0</td>\n",
       "      <td>2645111</td>\n",
       "      <td>1.249815e+11</td>\n",
       "      <td>1.718415</td>\n",
       "    </tr>\n",
       "    <tr>\n",
       "      <th>2017-01-04</th>\n",
       "      <td>47000.0</td>\n",
       "      <td>47150.0</td>\n",
       "      <td>46200.0</td>\n",
       "      <td>46500.0</td>\n",
       "      <td>2625142</td>\n",
       "      <td>1.220691e+11</td>\n",
       "      <td>0.992451</td>\n",
       "    </tr>\n",
       "    <tr>\n",
       "      <th>2017-01-05</th>\n",
       "      <td>47000.0</td>\n",
       "      <td>47500.0</td>\n",
       "      <td>46850.0</td>\n",
       "      <td>46950.0</td>\n",
       "      <td>2370891</td>\n",
       "      <td>1.113133e+11</td>\n",
       "      <td>0.903148</td>\n",
       "    </tr>\n",
       "    <tr>\n",
       "      <th>2017-01-06</th>\n",
       "      <td>47700.0</td>\n",
       "      <td>48450.0</td>\n",
       "      <td>47600.0</td>\n",
       "      <td>48000.0</td>\n",
       "      <td>3077566</td>\n",
       "      <td>1.477232e+11</td>\n",
       "      <td>1.298063</td>\n",
       "    </tr>\n",
       "  </tbody>\n",
       "</table>\n",
       "</div>"
      ],
      "text/plain": [
       "               Open     High      Low    Close   Volume  trading_value  \\\n",
       "Date                                                                     \n",
       "2017-01-02  44750.0  46000.0  44600.0  45800.0  1539274   7.049875e+10   \n",
       "2017-01-03  46200.0  47300.0  46200.0  47250.0  2645111   1.249815e+11   \n",
       "2017-01-04  47000.0  47150.0  46200.0  46500.0  2625142   1.220691e+11   \n",
       "2017-01-05  47000.0  47500.0  46850.0  46950.0  2370891   1.113133e+11   \n",
       "2017-01-06  47700.0  48450.0  47600.0  48000.0  3077566   1.477232e+11   \n",
       "\n",
       "            volume_percent  \n",
       "Date                        \n",
       "2017-01-02        1.000000  \n",
       "2017-01-03        1.718415  \n",
       "2017-01-04        0.992451  \n",
       "2017-01-05        0.903148  \n",
       "2017-01-06        1.298063  "
      ]
     },
     "execution_count": 20,
     "metadata": {},
     "output_type": "execute_result"
    }
   ],
   "source": [
    "sk_hynix.head()"
   ]
  },
  {
   "cell_type": "markdown",
   "metadata": {},
   "source": [
    "### 肄붿뒪??吏??異붽?"
   ]
  },
  {
   "cell_type": "code",
   "execution_count": 21,
   "metadata": {
    "collapsed": true
   },
   "outputs": [],
   "source": [
    "kospi = web.DataReader(\"KRX:KOSPI\",\"google\",start,end)"
   ]
  },
  {
   "cell_type": "code",
   "execution_count": 22,
   "metadata": {
    "collapsed": false,
    "scrolled": false
   },
   "outputs": [
    {
     "data": {
      "text/html": [
       "<div>\n",
       "<table border=\"1\" class=\"dataframe\">\n",
       "  <thead>\n",
       "    <tr style=\"text-align: right;\">\n",
       "      <th></th>\n",
       "      <th>Open</th>\n",
       "      <th>High</th>\n",
       "      <th>Low</th>\n",
       "      <th>Close</th>\n",
       "      <th>Volume</th>\n",
       "    </tr>\n",
       "    <tr>\n",
       "      <th>Date</th>\n",
       "      <th></th>\n",
       "      <th></th>\n",
       "      <th></th>\n",
       "      <th></th>\n",
       "      <th></th>\n",
       "    </tr>\n",
       "  </thead>\n",
       "  <tbody>\n",
       "    <tr>\n",
       "      <th>2017-01-02</th>\n",
       "      <td>2022.23</td>\n",
       "      <td>2031.79</td>\n",
       "      <td>2015.68</td>\n",
       "      <td>2026.16</td>\n",
       "      <td>229874000</td>\n",
       "    </tr>\n",
       "    <tr>\n",
       "      <th>2017-01-03</th>\n",
       "      <td>2034.31</td>\n",
       "      <td>2044.07</td>\n",
       "      <td>2028.47</td>\n",
       "      <td>2043.97</td>\n",
       "      <td>268127000</td>\n",
       "    </tr>\n",
       "    <tr>\n",
       "      <th>2017-01-04</th>\n",
       "      <td>2046.29</td>\n",
       "      <td>2046.29</td>\n",
       "      <td>2040.61</td>\n",
       "      <td>2045.64</td>\n",
       "      <td>371488000</td>\n",
       "    </tr>\n",
       "    <tr>\n",
       "      <th>2017-01-05</th>\n",
       "      <td>2045.52</td>\n",
       "      <td>2046.50</td>\n",
       "      <td>2039.49</td>\n",
       "      <td>2041.95</td>\n",
       "      <td>541343000</td>\n",
       "    </tr>\n",
       "    <tr>\n",
       "      <th>2017-01-06</th>\n",
       "      <td>2048.11</td>\n",
       "      <td>2051.84</td>\n",
       "      <td>2045.66</td>\n",
       "      <td>2049.12</td>\n",
       "      <td>455350000</td>\n",
       "    </tr>\n",
       "  </tbody>\n",
       "</table>\n",
       "</div>"
      ],
      "text/plain": [
       "               Open     High      Low    Close     Volume\n",
       "Date                                                     \n",
       "2017-01-02  2022.23  2031.79  2015.68  2026.16  229874000\n",
       "2017-01-03  2034.31  2044.07  2028.47  2043.97  268127000\n",
       "2017-01-04  2046.29  2046.29  2040.61  2045.64  371488000\n",
       "2017-01-05  2045.52  2046.50  2039.49  2041.95  541343000\n",
       "2017-01-06  2048.11  2051.84  2045.66  2049.12  455350000"
      ]
     },
     "execution_count": 22,
     "metadata": {},
     "output_type": "execute_result"
    }
   ],
   "source": [
    "kospi.head()"
   ]
  },
  {
   "cell_type": "code",
   "execution_count": 23,
   "metadata": {
    "collapsed": false
   },
   "outputs": [],
   "source": [
    "kospi_index = kospi['Close']"
   ]
  },
  {
   "cell_type": "code",
   "execution_count": 24,
   "metadata": {
    "collapsed": false
   },
   "outputs": [],
   "source": [
    "sk_hynix['kospi'] = kospi_index.values"
   ]
  },
  {
   "cell_type": "markdown",
   "metadata": {},
   "source": [
    "#### ?꾩꽦???곗씠?곗뀑"
   ]
  },
  {
   "cell_type": "markdown",
   "metadata": {},
   "source": [
    "Open   ?쒓?  \n",
    "High   怨좉?  \n",
    "Low    ?媛  \n",
    "Close  醫낃?\n",
    "Volume 嫄곕옒?? \n",
    "trading_value 嫄곕옒?湲?( 嫄곕옒??怨깊븯湲?醫낃?)  \n",
    "volume_percent 嫄곕옒??利앷컧  \n",
    "kospi  肄붿뒪?쇱???
   ]
  },
  {
   "cell_type": "code",
   "execution_count": 25,
   "metadata": {
    "collapsed": false,
    "scrolled": false
   },
   "outputs": [
    {
     "data": {
      "text/html": [
       "<div>\n",
       "<table border=\"1\" class=\"dataframe\">\n",
       "  <thead>\n",
       "    <tr style=\"text-align: right;\">\n",
       "      <th></th>\n",
       "      <th>Open</th>\n",
       "      <th>High</th>\n",
       "      <th>Low</th>\n",
       "      <th>Close</th>\n",
       "      <th>Volume</th>\n",
       "      <th>trading_value</th>\n",
       "      <th>volume_percent</th>\n",
       "      <th>kospi</th>\n",
       "    </tr>\n",
       "    <tr>\n",
       "      <th>Date</th>\n",
       "      <th></th>\n",
       "      <th></th>\n",
       "      <th></th>\n",
       "      <th></th>\n",
       "      <th></th>\n",
       "      <th></th>\n",
       "      <th></th>\n",
       "      <th></th>\n",
       "    </tr>\n",
       "  </thead>\n",
       "  <tbody>\n",
       "    <tr>\n",
       "      <th>2017-01-02</th>\n",
       "      <td>44750.0</td>\n",
       "      <td>46000.0</td>\n",
       "      <td>44600.0</td>\n",
       "      <td>45800.0</td>\n",
       "      <td>1539274</td>\n",
       "      <td>7.049875e+10</td>\n",
       "      <td>1.000000</td>\n",
       "      <td>2026.16</td>\n",
       "    </tr>\n",
       "    <tr>\n",
       "      <th>2017-01-03</th>\n",
       "      <td>46200.0</td>\n",
       "      <td>47300.0</td>\n",
       "      <td>46200.0</td>\n",
       "      <td>47250.0</td>\n",
       "      <td>2645111</td>\n",
       "      <td>1.249815e+11</td>\n",
       "      <td>1.718415</td>\n",
       "      <td>2043.97</td>\n",
       "    </tr>\n",
       "    <tr>\n",
       "      <th>2017-01-04</th>\n",
       "      <td>47000.0</td>\n",
       "      <td>47150.0</td>\n",
       "      <td>46200.0</td>\n",
       "      <td>46500.0</td>\n",
       "      <td>2625142</td>\n",
       "      <td>1.220691e+11</td>\n",
       "      <td>0.992451</td>\n",
       "      <td>2045.64</td>\n",
       "    </tr>\n",
       "    <tr>\n",
       "      <th>2017-01-05</th>\n",
       "      <td>47000.0</td>\n",
       "      <td>47500.0</td>\n",
       "      <td>46850.0</td>\n",
       "      <td>46950.0</td>\n",
       "      <td>2370891</td>\n",
       "      <td>1.113133e+11</td>\n",
       "      <td>0.903148</td>\n",
       "      <td>2041.95</td>\n",
       "    </tr>\n",
       "    <tr>\n",
       "      <th>2017-01-06</th>\n",
       "      <td>47700.0</td>\n",
       "      <td>48450.0</td>\n",
       "      <td>47600.0</td>\n",
       "      <td>48000.0</td>\n",
       "      <td>3077566</td>\n",
       "      <td>1.477232e+11</td>\n",
       "      <td>1.298063</td>\n",
       "      <td>2049.12</td>\n",
       "    </tr>\n",
       "  </tbody>\n",
       "</table>\n",
       "</div>"
      ],
      "text/plain": [
       "               Open     High      Low    Close   Volume  trading_value  \\\n",
       "Date                                                                     \n",
       "2017-01-02  44750.0  46000.0  44600.0  45800.0  1539274   7.049875e+10   \n",
       "2017-01-03  46200.0  47300.0  46200.0  47250.0  2645111   1.249815e+11   \n",
       "2017-01-04  47000.0  47150.0  46200.0  46500.0  2625142   1.220691e+11   \n",
       "2017-01-05  47000.0  47500.0  46850.0  46950.0  2370891   1.113133e+11   \n",
       "2017-01-06  47700.0  48450.0  47600.0  48000.0  3077566   1.477232e+11   \n",
       "\n",
       "            volume_percent    kospi  \n",
       "Date                                 \n",
       "2017-01-02        1.000000  2026.16  \n",
       "2017-01-03        1.718415  2043.97  \n",
       "2017-01-04        0.992451  2045.64  \n",
       "2017-01-05        0.903148  2041.95  \n",
       "2017-01-06        1.298063  2049.12  "
      ]
     },
     "execution_count": 25,
     "metadata": {},
     "output_type": "execute_result"
    }
   ],
   "source": [
    "sk_hynix.head()"
   ]
  },
  {
   "cell_type": "markdown",
   "metadata": {},
   "source": [
    "### Dr.Kim code (deep learning for everyone)"
   ]
  },
  {
   "cell_type": "markdown",
   "metadata": {},
   "source": [
    "source : https://github.com/hunkim/DeepLearningZeroToAll/blob/master/lab-12-5-rnn_stock_prediction.py"
   ]
  },
  {
   "cell_type": "markdown",
   "metadata": {},
   "source": [
    "def MinMaxScaler(data):\n",
    "    ''' Min Max Normalization\n",
    "    Parameters\n",
    "    ----------\n",
    "    data : numpy.ndarray\n",
    "        input data to be normalized\n",
    "        shape: [Batch size, dimension]\n",
    "    Returns\n",
    "    ----------\n",
    "    data : numpy.ndarry\n",
    "        normalized data\n",
    "        shape: [Batch size, dimension]\n",
    "    References\n",
    "    ----------\n",
    "    .. [1] http://sebastianraschka.com/Articles/2014_about_feature_scaling.html\n",
    "    '''\n",
    "    numerator = data - np.min(data, 0)\n",
    "    denominator = np.max(data, 0) - np.min(data, 0)\n",
    "    # noise term prevents the zero division\n",
    "    return numerator / (denominator + 1e-7)"
   ]
  },
  {
   "cell_type": "markdown",
   "metadata": {},
   "source": [
    "# train Parameters\n",
    "seq_length = 7\n",
    "data_dim = 5\n",
    "hidden_dim = 10\n",
    "output_dim = 1\n",
    "learning_rate = 0.01\n",
    "iterations = 500\n"
   ]
  },
  {
   "cell_type": "markdown",
   "metadata": {},
   "source": [
    "# Open, High, Low, Volume, Close\n",
    "xy = np.loadtxt('data-02-stock_daily.csv', delimiter=',')\n",
    "xy = xy[::-1]  # reverse order (chronically ordered)\n",
    "xy = MinMaxScaler(xy)\n",
    "x = xy\n",
    "y = xy[:, [-1]]  # Close as label"
   ]
  },
  {
   "cell_type": "markdown",
   "metadata": {},
   "source": [
    "# build a dataset\n",
    "dataX = []\n",
    "dataY = []\n",
    "for i in range(0, len(y) - seq_length):\n",
    "    _x = x[i:i + seq_length]\n",
    "    _y = y[i + seq_length]  # Next close price\n",
    "    print(_x, \"->\", _y)\n",
    "    dataX.append(_x)\n",
    "    dataY.append(_y)"
   ]
  },
  {
   "cell_type": "markdown",
   "metadata": {},
   "source": [
    "# train/test split\n",
    "train_size = int(len(dataY) * 0.7)\n",
    "test_size = len(dataY) - train_size\n",
    "trainX, testX = np.array(dataX[0:train_size]), np.array(\n",
    "    dataX[train_size:len(dataX)])\n",
    "trainY, testY = np.array(dataY[0:train_size]), np.array(\n",
    "    dataY[train_size:len(dataY)])"
   ]
  },
  {
   "cell_type": "markdown",
   "metadata": {},
   "source": [
    "# input place holders\n",
    "X = tf.placeholder(tf.float32, [None, seq_length, data_dim])\n",
    "Y = tf.placeholder(tf.float32, [None, 1])"
   ]
  },
  {
   "cell_type": "markdown",
   "metadata": {},
   "source": [
    "# build a LSTM network\n",
    "cell = tf.contrib.rnn.BasicLSTMCell(\n",
    "    num_units=hidden_dim, state_is_tuple=True, activation=tf.tanh)\n",
    "outputs, _states = tf.nn.dynamic_rnn(cell, X, dtype=tf.float32)\n",
    "Y_pred = tf.contrib.layers.fully_connected(\n",
    "    outputs[:, -1], output_dim, activation_fn=None)  # We use the last cell's output"
   ]
  },
  {
   "cell_type": "markdown",
   "metadata": {},
   "source": [
    "# cost/loss\n",
    "loss = tf.reduce_sum(tf.square(Y_pred - Y))  # sum of the squares\n",
    "# optimizer\n",
    "optimizer = tf.train.AdamOptimizer(learning_rate)\n",
    "train = optimizer.minimize(loss)"
   ]
  },
  {
   "cell_type": "markdown",
   "metadata": {},
   "source": [
    "# RMSE\n",
    "targets = tf.placeholder(tf.float32, [None, 1])\n",
    "predictions = tf.placeholder(tf.float32, [None, 1])\n",
    "rmse = tf.sqrt(tf.reduce_mean(tf.square(targets - predictions)))"
   ]
  },
  {
   "cell_type": "markdown",
   "metadata": {},
   "source": [
    "with tf.Session() as sess:\n",
    "    init = tf.global_variables_initializer()\n",
    "    sess.run(init)\n",
    "\n",
    "    # Training step\n",
    "    for i in range(iterations):\n",
    "        _, step_loss = sess.run([train, loss], feed_dict={\n",
    "                                X: trainX, Y: trainY})\n",
    "        print(\"[step: {}] loss: {}\".format(i, step_loss))\n",
    "\n",
    "    # Test step\n",
    "    test_predict = sess.run(Y_pred, feed_dict={X: testX})\n",
    "    rmse_val = sess.run(rmse, feed_dict={\n",
    "                    targets: testY, predictions: test_predict})\n",
    "    print(\"RMSE: {}\".format(rmse_val))\n",
    "\n",
    "    # Plot predictions\n",
    "    plt.plot(testY)\n",
    "    plt.plot(test_predict)\n",
    "    plt.xlabel(\"Time Period\")\n",
    "    plt.ylabel(\"Stock Price\")\n",
    "    plt.show()"
   ]
  },
  {
   "cell_type": "markdown",
   "metadata": {},
   "source": [
    "## apply to korean stock (sk hynix)"
   ]
  },
  {
   "cell_type": "markdown",
   "metadata": {},
   "source": [
    "?뺢퇋?? \n",
    "?곸젅??learning rate瑜?李얠븘???ｌ뼱??input ?곗씠??媛꾩쓽 李⑥씠媛 ?щ㈃ ?숈뒿???쒕?濡??덈릺??寃쎌슦媛 ?덉쓬  \n",
    "?뺢퇋??normalization)???듯빐 媛믪쓣 蹂寃? \n",
    "  \n",
    "?뺢퇋??????以??섎굹??MinMaxScaler() -> 紐⑤뱺 媛믪쓣 0怨?1?ъ씠濡?留뚮뱺??"
   ]
  },
  {
   "cell_type": "markdown",
   "metadata": {},
   "source": [
    "遺꾩옄 : 蹂?? 理쒖냼媛? \n",
    "遺꾨え : 理쒕?媛?- 理쒖냼媛?
   ]
  },
  {
   "cell_type": "markdown",
   "metadata": {},
   "source": [
    "## $\\frac{data-minValue}{maxValue-minValue}$"
   ]
  },
  {
   "cell_type": "code",
   "execution_count": 26,
   "metadata": {
    "collapsed": true
   },
   "outputs": [],
   "source": [
    "# minmax ?뺢퇋??n",
    "def MinMaxScaler(data):\n",
    "    ''' Min Max Normalization\n",
    "    Parameters\n",
    "    ----------\n",
    "    data : numpy.ndarray\n",
    "        input data to be normalized\n",
    "        shape: [Batch size, dimension]\n",
    "    Returns\n",
    "    ----------\n",
    "    data : numpy.ndarry\n",
    "        normalized data\n",
    "        shape: [Batch size, dimension]\n",
    "    References\n",
    "    ----------\n",
    "    .. [1] http://sebastianraschka.com/Articles/2014_about_feature_scaling.html\n",
    "    '''\n",
    "    numerator = data - np.min(data, 0)\n",
    "    denominator = np.max(data, 0) - np.min(data, 0)\n",
    "    # noise term prevents the zero division\n",
    "    return numerator / (denominator + 1e-7)"
   ]
  },
  {
   "cell_type": "code",
   "execution_count": 27,
   "metadata": {
    "collapsed": true
   },
   "outputs": [],
   "source": [
    "# train Parameters\n",
    "seq_length = 5 #(7->5)\n",
    "data_dim = 8  #嫄곕옒?湲? 嫄곕옒??蹂?붿쑉, 肄붿뒪?쇱???異붽? #(5->8)\n",
    "hidden_dim = 10\n",
    "output_dim = 1\n",
    "learning_rate = 0.01  #(0.01)\n",
    "iterations = 500  #(500->600)"
   ]
  },
  {
   "cell_type": "code",
   "execution_count": 28,
   "metadata": {
    "collapsed": false
   },
   "outputs": [],
   "source": [
    "sk_hynix_input = sk_hynix.as_matrix()  # pandas df -> numpy array"
   ]
  },
  {
   "cell_type": "code",
   "execution_count": 29,
   "metadata": {
    "collapsed": false
   },
   "outputs": [],
   "source": [
    "## sk_hynix = sk_hynix[::-1]  # reverse order (chronically ordered) , ?쒓컙??留뚮뱾湲??꾩슂X\n",
    "\n",
    "sk_hynix_input = MinMaxScaler(sk_hynix_input)\n",
    "sk_hynix_x = sk_hynix_input\n",
    "sk_hynix_y = sk_hynix_input[:, [3]]  # Close as label\n"
   ]
  },
  {
   "cell_type": "code",
   "execution_count": 30,
   "metadata": {
    "collapsed": false
   },
   "outputs": [
    {
     "name": "stdout",
     "output_type": "stream",
     "text": [
      "[[ 0.          0.          0.          0.          0.0007007   0.\n",
      "   0.29069068  0.        ]\n",
      " [ 0.05150977  0.04814815  0.06060606  0.05330882  0.13828197  0.09577415\n",
      "   0.67695252  0.04186943]\n",
      " [ 0.07992895  0.04259259  0.06060606  0.02573529  0.13579755  0.09065452\n",
      "   0.28663168  0.04579543]\n",
      " [ 0.07992895  0.05555556  0.08522727  0.04227941  0.10416525  0.07174716\n",
      "   0.23861721  0.03712062]\n",
      " [ 0.10479574  0.09074074  0.11363636  0.08088235  0.1920853   0.1357513\n",
      "   0.45094685  0.05397654]] -> [ 0.13786765]\n",
      "[[ 0.05150977  0.04814815  0.06060606  0.05330882  0.13828197  0.09577415\n",
      "   0.67695252  0.04186943]\n",
      " [ 0.07992895  0.04259259  0.06060606  0.02573529  0.13579755  0.09065452\n",
      "   0.28663168  0.04579543]\n",
      " [ 0.07992895  0.05555556  0.08522727  0.04227941  0.10416525  0.07174716\n",
      "   0.23861721  0.03712062]\n",
      " [ 0.10479574  0.09074074  0.11363636  0.08088235  0.1920853   0.1357513\n",
      "   0.45094685  0.05397654]\n",
      " [ 0.13321492  0.13888889  0.13636364  0.13786765  0.26958844  0.19839732\n",
      "   0.39952111  0.05317723]] -> [ 0.14522059]\n",
      "[[ 1.          1.          0.96590909  0.90441176  0.55385421  0.61678807\n",
      "   0.65488627  0.9726591 ]\n",
      " [ 0.88277087  0.88518519  0.83712121  0.77205882  1.          1.\n",
      "   0.61281627  0.95998778]\n",
      " [ 0.78330373  0.87037037  0.84090909  0.83088235  0.57394939  0.61516587\n",
      "   0.09832536  0.98051108]\n",
      " [ 0.81882771  0.81111111  0.74242424  0.69117647  0.80181022  0.78208592\n",
      "   0.45088743  0.88118579]\n",
      " [ 0.6731794   0.74074074  0.72348485  0.74264706  0.39857248  0.42568766\n",
      "   0.0722737   0.88522933]] -> [ 0.72426471]\n"
     ]
    }
   ],
   "source": [
    "# build a dataset\n",
    "sk_hynix_dataX = []\n",
    "sk_hynix_dataY = []\n",
    "for i in range(0, len(sk_hynix_y) - seq_length):\n",
    "    _sk_hynix_x = sk_hynix_x[i:i + seq_length]\n",
    "    _sk_hynix_y = sk_hynix_y[i + seq_length]  # Next close price\n",
    "    \n",
    "    if i<2 :\n",
    "        print(_sk_hynix_x, \"->\", _sk_hynix_y)\n",
    "    elif i>(len(sk_hynix_y) - seq_length)-2:\n",
    "        print(_sk_hynix_x, \"->\", _sk_hynix_y)\n",
    "    \n",
    "    \n",
    "    sk_hynix_dataX.append(_sk_hynix_x)\n",
    "    sk_hynix_dataY.append(_sk_hynix_y)"
   ]
  },
  {
   "cell_type": "code",
   "execution_count": 31,
   "metadata": {
    "collapsed": false
   },
   "outputs": [],
   "source": [
    "# train/test split\n",
    "train_size = int(len(sk_hynix_dataY) * 0.7)\n",
    "\n",
    "test_size = len(sk_hynix_dataY) - train_size\n",
    "\n",
    "sk_hynix_trainX, sk_hynix_testX = np.array(sk_hynix_dataX[0:train_size]), np.array(\n",
    "    sk_hynix_dataX[train_size:len(sk_hynix_dataX)])\n",
    "\n",
    "sk_hynix_trainY, sk_hynix_testY = np.array(sk_hynix_dataY[0:train_size]), np.array(\n",
    "    sk_hynix_dataY[train_size:len(sk_hynix_dataY)])"
   ]
  },
  {
   "cell_type": "code",
   "execution_count": 32,
   "metadata": {
    "collapsed": true
   },
   "outputs": [],
   "source": [
    "# input place holders\n",
    "sk_hynix_X = tf.placeholder(tf.float32, [None, seq_length, data_dim])\n",
    "\n",
    "sk_hynix_Y = tf.placeholder(tf.float32, [None, 1])"
   ]
  },
  {
   "cell_type": "code",
   "execution_count": 33,
   "metadata": {
    "collapsed": false
   },
   "outputs": [],
   "source": [
    "# build a LSTM network\n",
    "cell = tf.contrib.rnn.BasicLSTMCell(\n",
    "    num_units=hidden_dim, \n",
    "    state_is_tuple=True, \n",
    "    activation=tf.tanh\n",
    ")\n",
    "\n",
    "outputs, _states = tf.nn.dynamic_rnn(cell, sk_hynix_X, dtype=tf.float32)\n",
    "\n",
    "sk_hynix_Y_pred = tf.contrib.layers.fully_connected(\n",
    "    outputs[:, -1], \n",
    "    output_dim, \n",
    "    activation_fn=None\n",
    ")  \n",
    "# We use the last cell's output"
   ]
  },
  {
   "cell_type": "code",
   "execution_count": 34,
   "metadata": {
    "collapsed": false
   },
   "outputs": [
    {
     "data": {
      "text/plain": [
       "TensorShape([Dimension(None), Dimension(5), Dimension(10)])"
      ]
     },
     "execution_count": 34,
     "metadata": {},
     "output_type": "execute_result"
    }
   ],
   "source": [
    "np.shape(outputs)"
   ]
  },
  {
   "cell_type": "code",
   "execution_count": 35,
   "metadata": {
    "collapsed": false
   },
   "outputs": [
    {
     "data": {
      "text/plain": [
       "(2,)"
      ]
     },
     "execution_count": 35,
     "metadata": {},
     "output_type": "execute_result"
    }
   ],
   "source": [
    "np.shape(_states)"
   ]
  },
  {
   "cell_type": "code",
   "execution_count": 36,
   "metadata": {
    "collapsed": false
   },
   "outputs": [
    {
     "data": {
      "text/plain": [
       "LSTMStateTuple(c=<tf.Tensor 'rnn/while/Exit_2:0' shape=(?, 10) dtype=float32>, h=<tf.Tensor 'rnn/while/Exit_3:0' shape=(?, 10) dtype=float32>)"
      ]
     },
     "execution_count": 36,
     "metadata": {},
     "output_type": "execute_result"
    }
   ],
   "source": [
    "_states"
   ]
  },
  {
   "cell_type": "code",
   "execution_count": 37,
   "metadata": {
    "collapsed": false
   },
   "outputs": [],
   "source": [
    "# cost/loss\n",
    "loss = tf.reduce_sum(tf.square(sk_hynix_Y_pred - sk_hynix_Y))  # sum of the squares\n",
    "\n",
    "# optimizer\n",
    "optimizer = tf.train.AdamOptimizer(learning_rate)\n",
    "\n",
    "train = optimizer.minimize(loss)\n"
   ]
  },
  {
   "cell_type": "code",
   "execution_count": 38,
   "metadata": {
    "collapsed": true
   },
   "outputs": [],
   "source": [
    "# RMSE\n",
    "targets = tf.placeholder(tf.float32, [None, 1])\n",
    "\n",
    "predictions = tf.placeholder(tf.float32, [None, 1])\n",
    "\n",
    "rmse = tf.sqrt(tf.reduce_mean(tf.square(targets - predictions)))"
   ]
  },
  {
   "cell_type": "code",
   "execution_count": 44,
   "metadata": {
    "collapsed": false,
    "scrolled": true
   },
   "outputs": [
    {
     "name": "stdout",
     "output_type": "stream",
     "text": [
      "[step: 0] loss: 7.511236667633057\n",
      "[step: 1] loss: 2.987740993499756\n",
      "[step: 2] loss: 0.8067034482955933\n",
      "[step: 3] loss: 0.29421088099479675\n",
      "[step: 4] loss: 0.7921159267425537\n",
      "[step: 496] loss: 0.0923556536436081\n",
      "[step: 497] loss: 0.09221036732196808\n",
      "[step: 498] loss: 0.09206502139568329\n",
      "[step: 499] loss: 0.09191956371068954\n",
      "RMSE: 0.05798937752842903\n",
      " \n",
      " \n",
      " \n",
      " \n",
      " \n",
      " \n",
      " \n",
      " \n",
      " \n",
      " \n",
      " \n",
      " \n",
      " \n",
      " \n",
      " \n",
      " \n",
      " \n",
      " \n",
      " \n",
      " \n"
     ]
    },
    {
     "data": {
      "image/png": "iVBORw0KGgoAAAANSUhEUgAAAh4AAAGHCAYAAAD/QltcAAAABHNCSVQICAgIfAhkiAAAAAlwSFlz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\nYII=\n",
      "text/plain": [
       "<matplotlib.figure.Figure at 0x100ddfd0>"
      ]
     },
     "metadata": {},
     "output_type": "display_data"
    }
   ],
   "source": [
    "with tf.Session() as sess:\n",
    "    init = tf.global_variables_initializer()\n",
    "    sess.run(init)\n",
    "\n",
    "    # Training step\n",
    "    for i in range(iterations):\n",
    "        _, step_loss = sess.run([train, loss], feed_dict={\n",
    "                                sk_hynix_X: sk_hynix_trainX, sk_hynix_Y: sk_hynix_trainY})\n",
    "        \n",
    "        if (i<5):\n",
    "            print(\"[step: {}] loss: {}\".format(i, step_loss))\n",
    "            \n",
    "        elif(i>iterations-5):\n",
    "            print(\"[step: {}] loss: {}\".format(i, step_loss))\n",
    "       \n",
    "            \n",
    "\n",
    "    # Test step\n",
    "    test_predict = sess.run(sk_hynix_Y_pred, feed_dict={sk_hynix_X: sk_hynix_testX})\n",
    "    \n",
    "    rmse_val = sess.run(rmse, feed_dict={\n",
    "                    targets: sk_hynix_testY, predictions: test_predict})\n",
    "    \n",
    "    print(\"RMSE: {}\".format(rmse_val))\n",
    "  \n",
    "    for i in range(0,20):\n",
    "        print(\" \")\n",
    "    \n",
    "    # Plot predictions\n",
    "    \n",
    "    plt.title('sk hynix stock prediction test')\n",
    "    plt.plot(sk_hynix_testY, color='red', label='actual')\n",
    "    plt.plot(test_predict, color='blue', label='prediction')\n",
    "    plt.xlabel(\"Time Period\")\n",
    "    plt.ylabel(\"Stock Price\")\n",
    "    plt.show()"
   ]
  },
  {
   "cell_type": "code",
   "execution_count": 41,
   "metadata": {
    "collapsed": false
   },
   "outputs": [
    {
     "name": "stdout",
     "output_type": "stream",
     "text": [
      "red : actual\n",
      "blue:prediction\n"
     ]
    }
   ],
   "source": [
    "print('red : actual')\n",
    "print('blue:prediction')"
   ]
  },
  {
   "cell_type": "code",
   "execution_count": null,
   "metadata": {
    "collapsed": true
   },
   "outputs": [],
   "source": []
  }
 ],
 "metadata": {
  "anaconda-cloud": {},
  "kernelspec": {
   "display_name": "Python [default]",
   "language": "python",
   "name": "python3"
  },
  "language_info": {
   "codemirror_mode": {
    "name": "ipython",
    "version": 3
   },
   "file_extension": ".py",
   "mimetype": "text/x-python",
   "name": "python",
   "nbconvert_exporter": "python",
   "pygments_lexer": "ipython3",
   "version": "3.5.2"
  }
 },
 "nbformat": 4,
 "nbformat_minor": 1
}
