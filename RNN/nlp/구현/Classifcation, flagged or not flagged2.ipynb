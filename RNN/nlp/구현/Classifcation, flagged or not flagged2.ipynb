{
 "cells": [
  {
   "cell_type": "markdown",
   "metadata": {},
   "source": [
    "YBIGTA 10기 노혜미 박승리"
   ]
  },
  {
   "cell_type": "markdown",
   "metadata": {},
   "source": [
    "# Gensim을 이용한 문서간 유사도 구하기"
   ]
  },
  {
   "cell_type": "code",
   "execution_count": 1,
   "metadata": {
    "collapsed": true
   },
   "outputs": [],
   "source": [
    "import pandas as pd\n",
    "import numpy as np\n",
    "import pprint as pprint"
   ]
  },
  {
   "cell_type": "markdown",
   "metadata": {},
   "source": [
    "### 데이터 읽기"
   ]
  },
  {
   "cell_type": "code",
   "execution_count": 2,
   "metadata": {
    "collapsed": true
   },
   "outputs": [],
   "source": [
    "pd.set_option('Display.max_rows', 200)"
   ]
  },
  {
   "cell_type": "code",
   "execution_count": 3,
   "metadata": {
    "collapsed": true
   },
   "outputs": [],
   "source": [
    "data = pd.read_csv('Sheet_1.csv')"
   ]
  },
  {
   "cell_type": "code",
   "execution_count": 51,
   "metadata": {},
   "outputs": [
    {
     "data": {
      "text/html": [
       "<div>\n",
       "<style>\n",
       "    .dataframe thead tr:only-child th {\n",
       "        text-align: right;\n",
       "    }\n",
       "\n",
       "    .dataframe thead th {\n",
       "        text-align: left;\n",
       "    }\n",
       "\n",
       "    .dataframe tbody tr th {\n",
       "        vertical-align: top;\n",
       "    }\n",
       "</style>\n",
       "<table border=\"1\" class=\"dataframe\">\n",
       "  <thead>\n",
       "    <tr style=\"text-align: right;\">\n",
       "      <th></th>\n",
       "      <th>response_id</th>\n",
       "      <th>class</th>\n",
       "      <th>response_text</th>\n",
       "      <th>Unnamed: 3</th>\n",
       "      <th>Unnamed: 4</th>\n",
       "      <th>Unnamed: 5</th>\n",
       "      <th>Unnamed: 6</th>\n",
       "      <th>Unnamed: 7</th>\n",
       "    </tr>\n",
       "  </thead>\n",
       "  <tbody>\n",
       "    <tr>\n",
       "      <th>0</th>\n",
       "      <td>response_1</td>\n",
       "      <td>not_flagged</td>\n",
       "      <td>I try and avoid this sort of conflict</td>\n",
       "      <td>NaN</td>\n",
       "      <td>NaN</td>\n",
       "      <td>NaN</td>\n",
       "      <td>NaN</td>\n",
       "      <td>NaN</td>\n",
       "    </tr>\n",
       "    <tr>\n",
       "      <th>1</th>\n",
       "      <td>response_2</td>\n",
       "      <td>flagged</td>\n",
       "      <td>Had a friend open up to me about his mental ad...</td>\n",
       "      <td>NaN</td>\n",
       "      <td>NaN</td>\n",
       "      <td>NaN</td>\n",
       "      <td>NaN</td>\n",
       "      <td>NaN</td>\n",
       "    </tr>\n",
       "    <tr>\n",
       "      <th>2</th>\n",
       "      <td>response_3</td>\n",
       "      <td>flagged</td>\n",
       "      <td>I saved a girl from suicide once. She was goin...</td>\n",
       "      <td>NaN</td>\n",
       "      <td>NaN</td>\n",
       "      <td>NaN</td>\n",
       "      <td>NaN</td>\n",
       "      <td>NaN</td>\n",
       "    </tr>\n",
       "    <tr>\n",
       "      <th>3</th>\n",
       "      <td>response_4</td>\n",
       "      <td>not_flagged</td>\n",
       "      <td>i cant think of one really...i think i may hav...</td>\n",
       "      <td>NaN</td>\n",
       "      <td>NaN</td>\n",
       "      <td>NaN</td>\n",
       "      <td>NaN</td>\n",
       "      <td>NaN</td>\n",
       "    </tr>\n",
       "    <tr>\n",
       "      <th>4</th>\n",
       "      <td>response_5</td>\n",
       "      <td>not_flagged</td>\n",
       "      <td>Only really one friend who doesn't fit into th...</td>\n",
       "      <td></td>\n",
       "      <td>NaN</td>\n",
       "      <td>NaN</td>\n",
       "      <td>NaN</td>\n",
       "      <td>NaN</td>\n",
       "    </tr>\n",
       "    <tr>\n",
       "      <th>5</th>\n",
       "      <td>response_6</td>\n",
       "      <td>not_flagged</td>\n",
       "      <td>a couple of years ago my friends was going to ...</td>\n",
       "      <td>NaN</td>\n",
       "      <td>NaN</td>\n",
       "      <td>NaN</td>\n",
       "      <td>NaN</td>\n",
       "      <td>NaN</td>\n",
       "    </tr>\n",
       "    <tr>\n",
       "      <th>6</th>\n",
       "      <td>response_7</td>\n",
       "      <td>flagged</td>\n",
       "      <td>Roommate when he was going through death and l...</td>\n",
       "      <td>NaN</td>\n",
       "      <td>NaN</td>\n",
       "      <td>NaN</td>\n",
       "      <td>NaN</td>\n",
       "      <td>NaN</td>\n",
       "    </tr>\n",
       "    <tr>\n",
       "      <th>7</th>\n",
       "      <td>response_8</td>\n",
       "      <td>flagged</td>\n",
       "      <td>i've had a couple of friends (you could say mo...</td>\n",
       "      <td>NaN</td>\n",
       "      <td>NaN</td>\n",
       "      <td>NaN</td>\n",
       "      <td>NaN</td>\n",
       "      <td>NaN</td>\n",
       "    </tr>\n",
       "    <tr>\n",
       "      <th>8</th>\n",
       "      <td>response_9</td>\n",
       "      <td>not_flagged</td>\n",
       "      <td>Listened to someone talk about relationship tr...</td>\n",
       "      <td>NaN</td>\n",
       "      <td>NaN</td>\n",
       "      <td>NaN</td>\n",
       "      <td>NaN</td>\n",
       "      <td>NaN</td>\n",
       "    </tr>\n",
       "    <tr>\n",
       "      <th>9</th>\n",
       "      <td>response_10</td>\n",
       "      <td>flagged</td>\n",
       "      <td>I will always listen. I comforted my sister wh...</td>\n",
       "      <td>NaN</td>\n",
       "      <td>NaN</td>\n",
       "      <td>NaN</td>\n",
       "      <td>NaN</td>\n",
       "      <td>NaN</td>\n",
       "    </tr>\n",
       "  </tbody>\n",
       "</table>\n",
       "</div>"
      ],
      "text/plain": [
       "   response_id        class  \\\n",
       "0   response_1  not_flagged   \n",
       "1   response_2      flagged   \n",
       "2   response_3      flagged   \n",
       "3   response_4  not_flagged   \n",
       "4   response_5  not_flagged   \n",
       "5   response_6  not_flagged   \n",
       "6   response_7      flagged   \n",
       "7   response_8      flagged   \n",
       "8   response_9  not_flagged   \n",
       "9  response_10      flagged   \n",
       "\n",
       "                                       response_text Unnamed: 3  Unnamed: 4  \\\n",
       "0              I try and avoid this sort of conflict        NaN         NaN   \n",
       "1  Had a friend open up to me about his mental ad...        NaN         NaN   \n",
       "2  I saved a girl from suicide once. She was goin...        NaN         NaN   \n",
       "3  i cant think of one really...i think i may hav...        NaN         NaN   \n",
       "4  Only really one friend who doesn't fit into th...                    NaN   \n",
       "5  a couple of years ago my friends was going to ...        NaN         NaN   \n",
       "6  Roommate when he was going through death and l...        NaN         NaN   \n",
       "7  i've had a couple of friends (you could say mo...        NaN         NaN   \n",
       "8  Listened to someone talk about relationship tr...        NaN         NaN   \n",
       "9  I will always listen. I comforted my sister wh...        NaN         NaN   \n",
       "\n",
       "  Unnamed: 5  Unnamed: 6 Unnamed: 7  \n",
       "0        NaN         NaN        NaN  \n",
       "1        NaN         NaN        NaN  \n",
       "2        NaN         NaN        NaN  \n",
       "3        NaN         NaN        NaN  \n",
       "4        NaN         NaN        NaN  \n",
       "5        NaN         NaN        NaN  \n",
       "6        NaN         NaN        NaN  \n",
       "7        NaN         NaN        NaN  \n",
       "8        NaN         NaN        NaN  \n",
       "9        NaN         NaN        NaN  "
      ]
     },
     "execution_count": 51,
     "metadata": {},
     "output_type": "execute_result"
    }
   ],
   "source": [
    "data.head(10)"
   ]
  },
  {
   "cell_type": "code",
   "execution_count": 11,
   "metadata": {},
   "outputs": [
    {
     "data": {
      "text/html": [
       "<div>\n",
       "<style>\n",
       "    .dataframe thead tr:only-child th {\n",
       "        text-align: right;\n",
       "    }\n",
       "\n",
       "    .dataframe thead th {\n",
       "        text-align: left;\n",
       "    }\n",
       "\n",
       "    .dataframe tbody tr th {\n",
       "        vertical-align: top;\n",
       "    }\n",
       "</style>\n",
       "<table border=\"1\" class=\"dataframe\">\n",
       "  <thead>\n",
       "    <tr style=\"text-align: right;\">\n",
       "      <th></th>\n",
       "      <th>response_text</th>\n",
       "    </tr>\n",
       "    <tr>\n",
       "      <th>class</th>\n",
       "      <th></th>\n",
       "    </tr>\n",
       "  </thead>\n",
       "  <tbody>\n",
       "    <tr>\n",
       "      <th>flagged</th>\n",
       "      <td>25</td>\n",
       "    </tr>\n",
       "    <tr>\n",
       "      <th>not_flagged</th>\n",
       "      <td>55</td>\n",
       "    </tr>\n",
       "  </tbody>\n",
       "</table>\n",
       "</div>"
      ],
      "text/plain": [
       "             response_text\n",
       "class                     \n",
       "flagged                 25\n",
       "not_flagged             55"
      ]
     },
     "execution_count": 11,
     "metadata": {},
     "output_type": "execute_result"
    }
   ],
   "source": [
    "data[['class', 'response_text']].groupby('class').count()"
   ]
  },
  {
   "cell_type": "code",
   "execution_count": 12,
   "metadata": {
    "collapsed": true
   },
   "outputs": [],
   "source": [
    "x = data['response_text']\n",
    "y = data['class']"
   ]
  },
  {
   "cell_type": "code",
   "execution_count": 52,
   "metadata": {
    "scrolled": true
   },
   "outputs": [
    {
     "data": {
      "text/plain": [
       "[0, 1, 1, 0, 0, 0, 1, 1, 0, 1]"
      ]
     },
     "execution_count": 52,
     "metadata": {},
     "output_type": "execute_result"
    }
   ],
   "source": [
    "y_list = [1 if x == 'flagged' else 0 for x in y]\n",
    "y_list[:10]\n",
    "\n",
    "# 'flagged' -> 1, 'not_flagged' -> 0으로 변환"
   ]
  },
  {
   "cell_type": "markdown",
   "metadata": {},
   "source": [
    "### doc2vec의 형태로 전환\n",
    "\n",
    "#### 문장에서 punctuation을 제거하여 list로 만들어주기"
   ]
  },
  {
   "cell_type": "markdown",
   "metadata": {},
   "source": [
    "![rnn link](http://i.imgur.com/BLi84oR.png)"
   ]
  },
  {
   "cell_type": "code",
   "execution_count": 53,
   "metadata": {},
   "outputs": [
    {
     "data": {
      "text/plain": [
       "['I try and avoid this sort of conflict',\n",
       " 'Had a friend open up to me about his mental addiction to weed and how it was taking over his life and making him depressed',\n",
       " 'I saved a girl from suicide once. She was going to swallow a bunch of pills and I talked her out of it in a very calm, loving way.',\n",
       " 'i cant think of one really...i think i may have indirectly',\n",
       " 'Only really one friend who doesn\\'t fit into the any of the above categories. Her therapist calls it spiraling.\" Anyway she pretty much calls me any time she is frustrated by something with  her boyfriend to ask me if it\\'s logical or not. Before they would just fight and he would call her crazy. Now she asks me if it\\'s ok he didn\\'t say \"please\" when he said  \"hand me the remote.\"',\n",
       " 'a couple of years ago my friends was going to switch school because of low self esteem too. I helped him overcome that shit too',\n",
       " 'Roommate when he was going through death and loss of a gf. Did anything to get him out of his bedroom.',\n",
       " \"i've had a couple of friends (you could say more than friends) with quite severe depression/ emotional problems. i helped for a while but eventually both relationships started to suffer as a result of both our personal problems\",\n",
       " 'Listened to someone talk about relationship troubles. Offered some advice from personal experience.',\n",
       " 'I will always listen. I comforted my sister when she lost her virgity the same night she walked in on her boyfriend cutting himself, and then our parents found out she threw a house part. Simply bring supportive was my focus.']"
      ]
     },
     "execution_count": 53,
     "metadata": {},
     "output_type": "execute_result"
    }
   ],
   "source": [
    "x.tolist()[:10]"
   ]
  },
  {
   "cell_type": "markdown",
   "metadata": {},
   "source": [
    "정규표현식을 사용한다."
   ]
  },
  {
   "cell_type": "code",
   "execution_count": 54,
   "metadata": {},
   "outputs": [
    {
     "data": {
      "text/plain": [
       "[['I', 'try', 'and', 'avoid', 'this', 'sort', 'of', 'conflict'],\n",
       " ['Had',\n",
       "  'a',\n",
       "  'friend',\n",
       "  'open',\n",
       "  'up',\n",
       "  'to',\n",
       "  'me',\n",
       "  'about',\n",
       "  'his',\n",
       "  'mental',\n",
       "  'addiction',\n",
       "  'to',\n",
       "  'weed',\n",
       "  'and',\n",
       "  'how',\n",
       "  'it',\n",
       "  'was',\n",
       "  'taking',\n",
       "  'over',\n",
       "  'his',\n",
       "  'life',\n",
       "  'and',\n",
       "  'making',\n",
       "  'him',\n",
       "  'depressed'],\n",
       " ['I',\n",
       "  'saved',\n",
       "  'a',\n",
       "  'girl',\n",
       "  'from',\n",
       "  'suicide',\n",
       "  'once',\n",
       "  'She',\n",
       "  'was',\n",
       "  'going',\n",
       "  'to',\n",
       "  'swallow',\n",
       "  'a',\n",
       "  'bunch',\n",
       "  'of',\n",
       "  'pills',\n",
       "  'and',\n",
       "  'I',\n",
       "  'talked',\n",
       "  'her',\n",
       "  'out',\n",
       "  'of',\n",
       "  'it',\n",
       "  'in',\n",
       "  'a',\n",
       "  'very',\n",
       "  'calm',\n",
       "  'loving',\n",
       "  'way'],\n",
       " ['i',\n",
       "  'cant',\n",
       "  'think',\n",
       "  'of',\n",
       "  'one',\n",
       "  'really',\n",
       "  'i',\n",
       "  'think',\n",
       "  'i',\n",
       "  'may',\n",
       "  'have',\n",
       "  'indirectly'],\n",
       " ['Only',\n",
       "  'really',\n",
       "  'one',\n",
       "  'friend',\n",
       "  'who',\n",
       "  'doesn',\n",
       "  't',\n",
       "  'fit',\n",
       "  'into',\n",
       "  'the',\n",
       "  'any',\n",
       "  'of',\n",
       "  'the',\n",
       "  'above',\n",
       "  'categories',\n",
       "  'Her',\n",
       "  'therapist',\n",
       "  'calls',\n",
       "  'it',\n",
       "  'spiraling',\n",
       "  'Anyway',\n",
       "  'she',\n",
       "  'pretty',\n",
       "  'much',\n",
       "  'calls',\n",
       "  'me',\n",
       "  'any',\n",
       "  'time',\n",
       "  'she',\n",
       "  'is',\n",
       "  'frustrated',\n",
       "  'by',\n",
       "  'something',\n",
       "  'with',\n",
       "  'her',\n",
       "  'boyfriend',\n",
       "  'to',\n",
       "  'ask',\n",
       "  'me',\n",
       "  'if',\n",
       "  'it',\n",
       "  's',\n",
       "  'logical',\n",
       "  'or',\n",
       "  'not',\n",
       "  'Before',\n",
       "  'they',\n",
       "  'would',\n",
       "  'just',\n",
       "  'fight',\n",
       "  'and',\n",
       "  'he',\n",
       "  'would',\n",
       "  'call',\n",
       "  'her',\n",
       "  'crazy',\n",
       "  'Now',\n",
       "  'she',\n",
       "  'asks',\n",
       "  'me',\n",
       "  'if',\n",
       "  'it',\n",
       "  's',\n",
       "  'ok',\n",
       "  'he',\n",
       "  'didn',\n",
       "  't',\n",
       "  'say',\n",
       "  'please',\n",
       "  'when',\n",
       "  'he',\n",
       "  'said',\n",
       "  'hand',\n",
       "  'me',\n",
       "  'the',\n",
       "  'remote'],\n",
       " ['a',\n",
       "  'couple',\n",
       "  'of',\n",
       "  'years',\n",
       "  'ago',\n",
       "  'my',\n",
       "  'friends',\n",
       "  'was',\n",
       "  'going',\n",
       "  'to',\n",
       "  'switch',\n",
       "  'school',\n",
       "  'because',\n",
       "  'of',\n",
       "  'low',\n",
       "  'self',\n",
       "  'esteem',\n",
       "  'too',\n",
       "  'I',\n",
       "  'helped',\n",
       "  'him',\n",
       "  'overcome',\n",
       "  'that',\n",
       "  'shit',\n",
       "  'too'],\n",
       " ['Roommate',\n",
       "  'when',\n",
       "  'he',\n",
       "  'was',\n",
       "  'going',\n",
       "  'through',\n",
       "  'death',\n",
       "  'and',\n",
       "  'loss',\n",
       "  'of',\n",
       "  'a',\n",
       "  'gf',\n",
       "  'Did',\n",
       "  'anything',\n",
       "  'to',\n",
       "  'get',\n",
       "  'him',\n",
       "  'out',\n",
       "  'of',\n",
       "  'his',\n",
       "  'bedroom'],\n",
       " ['i',\n",
       "  've',\n",
       "  'had',\n",
       "  'a',\n",
       "  'couple',\n",
       "  'of',\n",
       "  'friends',\n",
       "  'you',\n",
       "  'could',\n",
       "  'say',\n",
       "  'more',\n",
       "  'than',\n",
       "  'friends',\n",
       "  'with',\n",
       "  'quite',\n",
       "  'severe',\n",
       "  'depression',\n",
       "  'emotional',\n",
       "  'problems',\n",
       "  'i',\n",
       "  'helped',\n",
       "  'for',\n",
       "  'a',\n",
       "  'while',\n",
       "  'but',\n",
       "  'eventually',\n",
       "  'both',\n",
       "  'relationships',\n",
       "  'started',\n",
       "  'to',\n",
       "  'suffer',\n",
       "  'as',\n",
       "  'a',\n",
       "  'result',\n",
       "  'of',\n",
       "  'both',\n",
       "  'our',\n",
       "  'personal',\n",
       "  'problems'],\n",
       " ['Listened',\n",
       "  'to',\n",
       "  'someone',\n",
       "  'talk',\n",
       "  'about',\n",
       "  'relationship',\n",
       "  'troubles',\n",
       "  'Offered',\n",
       "  'some',\n",
       "  'advice',\n",
       "  'from',\n",
       "  'personal',\n",
       "  'experience'],\n",
       " ['I',\n",
       "  'will',\n",
       "  'always',\n",
       "  'listen',\n",
       "  'I',\n",
       "  'comforted',\n",
       "  'my',\n",
       "  'sister',\n",
       "  'when',\n",
       "  'she',\n",
       "  'lost',\n",
       "  'her',\n",
       "  'virgity',\n",
       "  'the',\n",
       "  'same',\n",
       "  'night',\n",
       "  'she',\n",
       "  'walked',\n",
       "  'in',\n",
       "  'on',\n",
       "  'her',\n",
       "  'boyfriend',\n",
       "  'cutting',\n",
       "  'himself',\n",
       "  'and',\n",
       "  'then',\n",
       "  'our',\n",
       "  'parents',\n",
       "  'found',\n",
       "  'out',\n",
       "  'she',\n",
       "  'threw',\n",
       "  'a',\n",
       "  'house',\n",
       "  'part',\n",
       "  'Simply',\n",
       "  'bring',\n",
       "  'supportive',\n",
       "  'was',\n",
       "  'my',\n",
       "  'focus']]"
      ]
     },
     "execution_count": 54,
     "metadata": {},
     "output_type": "execute_result"
    }
   ],
   "source": [
    "import re\n",
    "pattern = re.compile('\\w+')\n",
    "\n",
    "x_list = []\n",
    "\n",
    "for ls in x.tolist():\n",
    "    ls = pattern.findall(ls)\n",
    "    x_list.append(ls)\n",
    "    \n",
    "x_list[:10]"
   ]
  },
  {
   "cell_type": "markdown",
   "metadata": {},
   "source": [
    "#### 각 단어 별로 tokenize 해주기"
   ]
  },
  {
   "cell_type": "code",
   "execution_count": 16,
   "metadata": {
    "collapsed": true
   },
   "outputs": [],
   "source": [
    "x_tokens = [t for d in x_list for t in d]"
   ]
  },
  {
   "cell_type": "code",
   "execution_count": 56,
   "metadata": {},
   "outputs": [
    {
     "name": "stdout",
     "output_type": "stream",
     "text": [
      "['I', 'try', 'and', 'avoid', 'this', 'sort', 'of', 'conflict', 'Had', 'a', 'friend', 'open', 'up', 'to', 'me', 'about', 'his', 'mental', 'addiction', 'to', 'weed', 'and', 'how', 'it', 'was', 'taking', 'over', 'his', 'life', 'and', 'making', 'him', 'depressed', 'I', 'saved', 'a', 'girl', 'from', 'suicide', 'once', 'She', 'was', 'going', 'to', 'swallow', 'a', 'bunch', 'of', 'pills', 'and', 'I', 'talked', 'her', 'out', 'of', 'it', 'in', 'a', 'very', 'calm', 'loving', 'way', 'i', 'cant', 'think', 'of', 'one', 'really', 'i', 'think', 'i', 'may', 'have', 'indirectly', 'Only', 'really', 'one', 'friend', 'who', 'doesn', 't', 'fit', 'into', 'the', 'any', 'of', 'the', 'above', 'categories', 'Her', 'therapist', 'calls', 'it', 'spiraling', 'Anyway', 'she', 'pretty', 'much', 'calls', 'me', 'any', 'time', 'she', 'is', 'frustrated', 'by', 'something', 'with', 'her', 'boyfriend', 'to', 'ask', 'me', 'if', 'it', 's', 'logical', 'or', 'not', 'Before', 'they', 'would', 'just', 'fight', 'and', 'he', 'would', 'call', 'her', 'crazy', 'Now', 'she', 'asks', 'me', 'if', 'it', 's', 'ok', 'he', 'didn', 't', 'say', 'please', 'when', 'he', 'said', 'hand', 'me', 'the', 'remote', 'a', 'couple', 'of', 'years', 'ago', 'my', 'friends', 'was', 'going', 'to', 'switch', 'school', 'because', 'of', 'low', 'self', 'esteem', 'too', 'I', 'helped', 'him', 'overcome', 'that', 'shit', 'too', 'Roommate', 'when', 'he', 'was', 'going', 'through', 'death', 'and', 'loss', 'of', 'a', 'gf', 'Did', 'anything', 'to', 'get', 'him', 'out', 'of', 'his', 'bedroom', 'i', 've', 'had', 'a', 'couple', 'of', 'friends', 'you', 'could', 'say', 'more', 'than', 'friends', 'with', 'quite', 'severe', 'depression', 'emotional', 'problems', 'i', 'helped', 'for', 'a', 'while', 'but', 'eventually', 'both', 'relationships', 'started', 'to', 'suffer', 'as', 'a', 'result', 'of', 'both', 'our', 'personal', 'problems', 'Listened', 'to', 'someone', 'talk', 'about', 'relationship', 'troubles', 'Offered', 'some', 'advice', 'from', 'personal', 'experience', 'I', 'will', 'always', 'listen', 'I', 'comforted', 'my', 'sister', 'when', 'she', 'lost', 'her', 'virgity', 'the', 'same', 'night', 'she', 'walked', 'in', 'on', 'her', 'boyfriend', 'cutting', 'himself', 'and', 'then', 'our', 'parents', 'found', 'out', 'she', 'threw', 'a', 'house', 'part', 'Simply', 'bring', 'supportive', 'was', 'my', 'focus', 'Took', 'a', 'week', 'off', 'work', 'packed', 'up', 'the', 'car', 'and', 'picked', 'up', 'a', 'friend', 'who', 'was', 'on', 'the', 'verge', 'of', 'losing', 'it', 'and', 'went', 'camping', 'surfing', 'for', 'a', 'week', 'His', 'parents', 'were', 'a', 'big', 'part', 'of', 'the', 'problem', 'and', 'being', 'away', 'from', 'them', 'and', 'others', 'and', 'physical', 'activity', 'every', 'day', 'for', 'a', 'week', 'but', 'more', 'just', 'being', 'around', 'helped', 'i', 'feel', 'On', 'the', 'memorial', 'anniversary', 'of', 'my', 'friends', 'father', 'I', 'was', 'with', 'him', 'to', 'give', 'support', 'and', 'remind', 'him', 'that', 'he', 's', 'not', 'alone', 'Anxious', 'girlfriend', 'always', 'needs', 'my', 'help', 'Never', 'You', 'as', 'a', 'mom', 'ex', 'gf', 'was', 'a', 'cutter', 'suicidal', 'got', 'her', 'out', 'of', 'her', 'own', 'issues', 'while', 'slowly', 'dying', 'inside', 'I', 'have', 'helped', 'advise', 'friends', 'who', 'have', 'faced', 'circumstances', 'similar', 'to', 'mine', 'I', 've', 'helped', 'friends', 'out', 'before', 'A', 'friend', 'that', 'is', 'a', 'girl', 'and', 'just', 'talk', 'to', 'her', 'tryin', 'to', 'make', 'her', 'feel', 'better', 'expressing', 'concern', 'and', 'openness', 'to', 'friends', 'when', 'they', 'are', 'dealing', 'with', 'troubles', 'letting', 'them', 'know', 'they', 'can', 'fell', 'open', 'for', 'dialog', 'listening', 'to', 'girlfriend', 's', 'problems', 'Friend', 'was', 'thinking', 'about', 'suicide', 'after', 'a', 'few', 'days', 'I', 'managed', 'to', 'talk', 'her', 'down', 'Having', 'gone', 'through', 'depression', 'and', 'anxiety', 'myself', 'I', 'understand', 'the', 'struggles', 'and', 'have', 'a', 'few', 'personal', 'methods', 'to', 'cope', 'when', 'stuff', 'hits', 'Having', 'this', 'knowledge', 'has', 'allowed', 'me', 'to', 'help', 'several', 'people', 'on', 'the', 'internet', 'as', 'well', 'as', 'my', 'other', 'friends', 'when', 'they', 'have', 'faced', 'similar', 'issues', 'and', 'talk', 'to', 'me', 'about', 'them', 'I', 'understand', 'how', 'important', 'listening', 'is', 'and', 'offer', 'my', 'experiences', 'to', 'help', 'them', 'get', 'through', 'what', 'they', 'face', 'Sometimes', 'my', 'friends', 'bring', 'up', 'issues', 'they', 'are', 'having', 'with', 'themselves', 'and', 'I', 'feel', 'that', 'I', 'give', 'them', 'good', 'advice', 'and', 'make', 'them', 'feel', 'adequate', 'and', 'normal', 'I', 'just', 'try', 'to', 'be', 'kind', 'and', 'helpful', 'and', 'honest', 'never', 'i', 'guess', 'people', 'dont', 'see', 'me', 'as', 'a', 'guy', 'they', 'would', 'go', 'to', 'Last', 'year', 'my', 'best', 'friend', 'was', 'diagnosed', 'with', 'anxiety', 'disorder', 'and', 'depression', 'She', 'tried', 'to', 'commit', 'suicide', 'I', 'tried', 'my', 'best', 'to', 'be', 'there', 'for', 'her', 'the', 'entire', 'time', 'throughout', 'her', 'recovery', 'Cleaning', 'up', 'my', 'friend', 's', 'campsite', 'and', 'slightly', 'helping', 'him', 'while', 'he', 'was', 'living', 'all', 'summer', 'as', 'an', 'alcoholic', 'in', 'the', 'Mt', 'Hood', 'woods', 'i', 'listen', 'pretty', 'damn', 'well', 'better', 'at', 'that', 'as', 'apposed', 'to', 'telling', 'my', 'own', 'story', 'Helping', 'a', 'friend', 'through', 'dealing', 'with', 'his', 'alcoholic', 'mother', 'I', 'used', 'to', 'tutor', 'homeless', 'men', 'at', 'a', 'shelter', 'to', 'help', 'them', 'obtain', 'their', 'GED', 's', 'They', 'were', 'all', 'age', '50', 'and', 'some', 'of', 'them', 'were', 'even', 'reading', 'at', 'a', 'first', 'grade', 'level', 'I', 'am', 'a', 'high', 'school', 'teacher', 'so', 'almost', 'everyday', 'Friends', 'often', 'come', 'to', 'me', 'to', 'talk', 'about', 'the', 'issues', 'that', 'they', 're', 'facing', 'in', 'life', 'Summer', 'camp', 'countless', 'kids', 'have', 'the', 'same', 'issue', 'I', 'tell', 'them', 'i', 'how', 'it', 'is', 'when', 'you', 'cant', 'listen', 'or', 'are', 'restless', 'Haha', 'In', 'eight', 'grade', 'kid', 'got', 'rejected', 'twice', 'Wanted', 'her', 'to', 'sign', 'his', 'yearbook', 'but', 'he', 'was', 'too', 'nervous', 'I', 'told', 'him', 'she', 'doesn', 't', 'really', 'care', 'about', 'rejecting', 'him', 'and', 'she', 'thinks', 'no', 'less', 'of', 'him', 'He', 'did', 'it', 'Probably', 'more', 'but', 'that', 's', 'what', 'comes', 'up', 'off', 'the', 'top', 'of', 'my', 'head', 'Don', 't', 'have', 'a', 'specific', 'example', 'but', 'just', 'letting', 'people', 'know', 'you', 're', 'there', 'if', 'they', 'want', 'to', 'talk', 'Some', 'of', 'my', 'friends', 'have', 'gone', 'through', 'the', 'same', 'type', 'of', 'struggle', 'I', 'have', 'been', 'through', 'I', 'let', 'them', 'know', 'that', 'they', 'could', 'talk', 'to', 'me', 'about', 'anything', 'and', 'that', 'being', 'honest', 'with', 'yourself', 'even', 'if', 'the', 'truth', 'hurts', 'is', 'the', 'best', 'way', 'to', 'start', 'to', 'get', 'back', 'up', 'Friend', 'who', 'had', 'big', 'addiction', 'issues', 'ended', 'up', 'being', 'completely', 'isolated', 'skipped', 'school', 'and', 'had', 'a', 'very', 'low', 'self', 'esteem', 'I', 'convinced', 'him', 'to', 'go', 'see', 'a', 'doc', 'together', 'and', 'promised', 'him', 'that', 'i', 'would', 'go', 'through', 'everything', 'with', 'him', 'He', 'went', 'to', 'rehab', 'for', 'a', 'few', 'months', 'and', 'now', 'he', 's', 'clean', 'But', 'the', 'complete', 'lack', 'of', 'support', 'from', 'his', 'family', 'from', 'school', 'changed', 'him', 'I', 'think', 'it', 'was', 'too', 'late', 'when', 'I', 'helped', 'him', 'he', 'was', 'like', 'that', 'for', '5', 'months', 'and', 'he', 'll', 'never', 'be', 'the', 'same', 'as', 'before', 'I', 've', 'always', 'been', 'a', 'good', 'listener', 'for', 'people', 'and', 'I', 'think', 'a', 'lot', 'of', 'people', 'just', 'want', 'to', 'be', 'heard', 'and', 'not', 'necessarily', 'fixed', 'They', 'just', 'need', 'to', 'express', 'themselves', 'to', 'relief', 'their', 'thoughts', 'to', 'others', 'so', 'they', 're', 'not', 'trapped', 'so', 'much', 'within', 'the', 'confines', 'of', 'their', 'own', 'head', 'I', 've', 'always', 'lent', 'an', 'ear', 'for', 'someone', 'to', 'speak', 'to', 'One', 'of', 'my', 'best', 'friends', 'was', 'diagnosed', 'with', 'cancer', 'and', 'I', 'did', 'as', 'much', 'as', 'I', 'could', 'for', 'him', 'during', 'that', 'time', 'I', 'visited', 'him', 'almost', 'every', 'day', 'when', 'he', 'was', 'in', 'treatment', 'just', 'so', 'he', 'didn', 't', 'have', 'to', 'be', 'alone', 'or', 'anything', 'When', 'he', 'came', 'back', 'to', 'school', 'I', 'helped', 'him', 'get', 'caught', 'up', 'with', 'school', 'work', 'too', 'I', 'don', 't', 'think', 'I', 'm', 'qualified', 'to', 'be', 'a', 'serious', 'resource', 'for', 'someone', 'else', 'Many', 'times', 'for', 'my', 'one', 'friend', 'who', 'tried', 'hard', 'drugs', 'cocaine', 'and', 'was', 'dealing', 'with', 'depression', 'because', 'of', 'girls', 'A', 'lot', 'for', 'my', 'friends', 'When', 'they', 'have', 'had', 'girl', 'problems', 'or', 'have', 'just', 'been', 'down', 'in', 'the', 'dumps', 'about', 'life', 'I', 'always', 'try', 'to', 'look', 'on', 'the', 'positive', 'side', 'of', 'life', 'and', 'I', 'try', 'to', 'reflect', 'that', 'on', 'my', 'friends', 'lives', 'as', 'well', 'I', 'm', 'the', 'theripist', 'of', 'my', 'friends', 'they', 'always', 'come', 'to', 'me', 'Describe', 'Nah', 'My', 'brother', 'went', 'through', 'the', 'same', 'struggles', 'I', 'did', 'after', 'i', 'found', 'help', 'I', 'was', 'able', 'to', 'set', 'him', 'on', 'the', 'path', 'to', 'healing', 'Friend', 'got', 'dumped', 'by', 'girl', 'he', 'had', 'been', 'in', 'a', 'relationship', 'in', 'for', '2', 'years', 'I', 'stayed', 'by', 'his', 'side', 'until', 'he', 'stopped', 'feeling', 'bad', 'about', 'it', 'I', 'was', 'there', 'for', 'him', 'I', 'open', 'myself', 'to', 'any', 'friend', 'in', 'need', 'of', 'emotional', 'support', 'GF', 'and', 'I', 'help', 'her', 'through', 'a', 'lot', 'of', 'shit', 'because', 'I', 'myself', 'have', 'been', 'through', 'a', 'lot', 'of', 'shit', 'I', 'had', 'a', 'friend', 'that', 'would', 'go', 'off', 'about', 'girls', 'and', 'get', 'super', 'depressed', 'He', 'told', 'me', 'he', 'was', 'going', 'to', 'kill', 'himself', 'one', 'night', 'and', 'I', 'drove', '1n', 'hour', 'and', 'a', 'half', 'to', 'go', 'look', 'for', 'him', 'By', 'then', 'the', 'cops', 'had', 'already', 'taken', 'him', 'to', 'the', 'hospital', 'but', 'me', 'and', 'a', 'friend', 'went', 'and', 'hung', 'out', 'with', 'him', 'Also', 'been', 'there', 'to', 'help', 'try', 'and', 'talk', 'him', 'down', 'Another', 'person', 'I', 'hadnt', 'been', 'friends', 'with', 'for', 'years', 'cause', 'of', 'some', 'stuff', 'called', 'me', 'out', 'of', 'the', 'blue', 'on', 'thankgiving', 'last', 'year', 'I', 'called', 'back', 'and', 'got', 'a', 'hospital', 'number', 'so', 'I', 'knew', 'something', 'was', 'up', 'Ended', 'up', 'being', 'a', 'kid', 'who', 'I', 'was', 'friends', 'with', 'years', 'before', 'but', 'was', 'a', 'huge', 'douche', 'to', 'me', 'He', 'was', 'in', 'the', 'psych', 'ward', 'for', 'trying', 'to', 'kill', 'himself', 'I', 'got', 'a', 'hold', 'of', 'him', 'and', 'talked', 'to', 'him', 'for', 'a', 'while', 'Whenever', 'he', 'would', 'call', 'I', 'would', 'answer', 'and', 'be', 'there', 'even', 'though', 'I', 'still', 'had', 'the', 'shit', 'from', 'years', 'earlier', 'on', 'my', 'mind', 'There', 'are', 'people', 'that', 'I', 'might', 'not', 'want', 'to', 'be', 'around', 'but', 'if', 'it', 's', 'a', 'situation', 'like', 'this', 'I', 'll', 'be', 'there', 'for', 'people', 'My', 'goal', 'or', 'purpose', 'in', 'life', 'that', 's', 'sustained', 'my', 'survival', 'is', 'to', 'help', 'make', 'other', 'peoples', 'lives', 'a', 'little', 'bit', 'better', 'Make', 'people', 'laugh', 'when', 'they', 're', 'sad', 'help', 'people', 'out', 'when', 'nobody', 'else', 'will', 'Basically', 'treat', 'other', 'humans', 'even', 'strangers', 'with', 'the', 'respect', 'and', 'kindness', 'of', 'a', 'friend', 'That', 's', 'all', 'people', 'need', 'sometime', 'Let', 'people', 'talk', 'through', 'their', 'shit', 'with', 'me', 'and', 'offer', 'helpful', 'advice', 'if', 'I', 'can', 'I', 'm', 'still', 'swimming', 'in', 'my', 'own', 'shit', 'but', 'that', 's', 'enough', 'to', 'keep', 'me', 'going', 'keep', 'that', 'little', 'light', 'at', 'the', 'end', 'of', 'the', 'tunnel', 'switched', 'on', 'Idk', 'how', 'long', 'that', 'will', 'last', 'but', 'I', 'll', 'be', 'here', 'till', 'it', 'flickers', 'out', 'Sometimes', 'I', 'll', 'calm', 'my', 'friends', 'down', 'after', 'bad', 'stuff', 'happens', 'I', 'once', 'acted', 'as', 'a', 'resource', 'for', 'someone', 'who', 'was', 'struggling', 'in', 'school', 'and', 'I', 'helped', 'them', 'with', 'their', 'schoolwork', 'My', 'friend', 'was', 'going', 'through', 'a', 'period', 'of', 'intense', 'depression', 'and', 'i', 'made', 'sure', 'that', 'i', 'was', 'always', 'there', 'for', 'him', 'I', 'have', 'talked', 'though', 'some', 'major', 'blows', 'in', 'my', 'girlfriends', 'life', 'She', 'has', 'had', 'some', 'tough', 'times', 'and', 'I', 'helped', 'her', 'with', 'them', 'Talking', 'to', 'a', 'friend', 'over', 'a', 'break', 'up', 'I', 'care', 'about', 'other', 'people', 'more', 'than', 'myself', 'so', 'I', 'listen', 'and', 'help', 'them', 'through', 'tough', 'times', 'Over', 'the', 'internet', 'a', 'LOT', 'of', 'people', 'write', 'to', 'me', 'to', 'talk', 'about', 'their', 'problems', 'Its', 'often', 'girl', 'related', 'I', 'dont', 'know', 'I', 'guess', 'it', 'can', 'be', 'nice', 'to', 'rant', 'to', 'someone', 'you', 'dont', 'know', 'irl', 'someone', 'who', 'can', 'look', 'at', 'the', 'situation', 'a', 'little', 'bit', 'more', 'objective', 'I', 'think', 'a', 'lot', 'of', 'guys', 'also', 'feel', 'that', 'it', 'can', 'be', 'hard', 'to', 'talk', 'to', 'girl', 'friends', 'irl', 'about', 'their', 'innermost', 'feelings', 'sometimes', 'thats', 'the', 'feeling', 'I', 'get', 'at', 'least', 'My', 'friend', 'jokingly', 'refers', 'to', 'me', 'as', 'an', 'Agony', 'Aunt', 'Friends', 'sometimes', 'come', 'up', 'to', 'me', 'and', 'ask', 'for', 'advice', 'I', 'try', 'and', 'give', 'it', 'the', 'best', 'I', 'possibly', 'can', 'My', 'friend', 'dealt', 'with', 'anxiety', 'and', 'this', 'desire', 'for', 'everything', 'in', 'her', 'life', 'to', 'be', 'perfect', 'she', 'describes', 'it', 'as', 'caring', 'what', 'happens', 'to', 'much', 'but', 'either', 'way', 'I', 'simply', 'talked', 'to', 'her', 'and', 'when', 'she', 'would', 'try', 'and', 'change', 'the', 'subject', 'I', 'would', 'have', 'to', 'drag', 'her', 'back', 'in', 'due', 'the', 'fact', 'that', 'she', 'didn', 't', 'want', 'to', 'talk', 'about', 'it', 'but', 'in', 'reality', 'she', 'wouldn', 't', 'get', 'better', 'unless', 'i', 'pulled', 'her', 'back', 'into', 'it', 'and', 'helped', 'her', 'through', 'it', 'But', 'how', 'i', 'helped', 'was', 'by', 'basically', 'talking', 'to', 'her', 'and', 'giving', 'her', 'the', 'advice', 'she', 'needed', 'to', 'hear', 'not', 'the', 'one', 'she', 'wanted', 'to', 'such', 'as', 'oh', 'you', 'll', 'be', 'ok', 'this', 'will', 'all', 'blow', 'over', 'what', 'i', 'said', 'was', 'more', 'along', 'the', 'lines', 'of', 'being', 'so', 'blunt', 'that', 'many', 'may', 'find', 'it', 'rude', 'but', 'for', 'her', 'and', 'i', 'it', 'was', 'essential', 'to', 'making', 'any', 'progress', 'y', 'friend', 'dealt', 'with', 'anxiety', 'and', 'this', 'desire', 'for', 'everything', 'in', 'her', 'life', 'to', 'be', 'perfect', 'she', 'describes', 'it', 'as', 'caring', 'what', 'happens', 'to', 'much', 'but', 'either', 'way', 'I', 'simply', 'talked', 'to', 'her', 'and', 'when', 'Simply', 'being', 'there', 'as', 'a', 'friend', 'for', 'somebody', 'who', 's', 'struggling', 'I', 've', 'had', 'some', 'friends', 'come', 'to', 'me', 'saying', 'people', 'or', 'acquaintances', 'they', 've', 'known', 'who', 'have', 'killed', 'themselves', 'try', 'and', 'find', 'comfort', 'with', 'me', 'because', 'my', 'best', 'friend', 'killed', 'himself', 'my', 'junior', 'year', 'of', 'high', 'school', 'so', 'they', 've', 'come', 'to', 'me', 'hoping', 'to', 'find', 'some', 'answers', 'or', 'peace', 'in', 'the', 'turmoil', 'People', 'calling', 'talk', 'some', 'sense', 'into', 'them', 'maybe', 'facebook', 'chat', 'Having', 'self', 'harmed', 'in', 'the', 'past', 'I', 'shared', 'my', 'experience', 'with', 'a', 'friend', 'in', 'hopes', 'of', 'swaying', 'her', 'from', 'those', 'actions', 'Have', 'worked', 'through', 'problems', 'with', 'friends', 'When', 'my', 'friend', 'needed', 'help', 'when', 'she', 'was', 'going', 'through', 'some', 'tough', 'stuff', 'I', 'knew', 'that', 'she', 'needed', 'it', 'but', 'she', 'wouldn', 't', 'admit', 'it', 'So', 'I', 'brought', 'it', 'up', 'and', 'initiated', 'it', 'and', 'we', 'talked', 'about', 'it', 'and', 'it', 'really', 'helped', 'her', 'My', 'sister', 'has', 'some', 'pretty', 'severe', 'issues', 'with', 'her', 'mental', 'health', 'I', 'try', 'to', 'be', 'there', 'for', 'her', 'when', 'she', 'needs', 'it', 'and', 'I', 'd', 'like', 'to', 'think', 'its', 'helped', 'her', 'Helped', 'friends', 'through', 'stuff', 'I', 'helped', 'encourage', 'a', 'friend', 'to', 'go', 'to', 'therapy', 'and', 'often', 'listened', 'to', 'their', 'problem', 'to', 'let', 'them', 'know', 'there', 'was', 'someone', 'there', 'for', 'them', 'I', 'haven', 't', 'really', 'met', 'anyone', 'dealing', 'with', 'attention', 'issues', 'So', 'I', 'haven', 't', 'had', 'a', 'chance', 'to', 'help', 'unfortunately', 'there', 'are', 'too', 'many', 'to', 'remember', 'specifically', 'but', 'being', 'as', 'helpful', 'and', 'rational', 'as', 'possible', 'as', 'well', 'as', 'just', 'listening', 'with', 'people', 'that', 'need', 'it', 'is', 'a', 'fairly', 'common', 'occurrence', 'one', 'of', 'my', 'friends', 'was', 'feeling', 'down', 'so', 'he', 'came', 'over', 'and', 'talked', 'it', 'out', 'while', 'I', 'listened', 'and', 'gave', 'him', 'some', 'input', 'never', 'I', 'have', 'tried', 'but', 'am', 'absolutely', 'horrable', 'at', 'it', 'and', 'am', 'way', 'too', 'blunt', 'Ex', 'girlfriend', 'had', 'depression', 'and', 'anxiety', 'I', 'used', 'to', 'hold', 'her', 'and', 'listen', 'as', 'she', 'told', 'me', 'what', 'was', 'going', 'on', 'Always', 'I', 'don', 't', 'judge', 'people', 'to', 'much', 'and', 'can', 'listen', 'well', 'most', 'of', 'the', 'time', 'So', 'naturally', 'people', 'come', 'to', 'me', 'with', 'their', 'problems', 'My', 'grandmother', 'went', 'through', 'some', 'severe', 'depression', 'shortly', 'after', 'I', 'had', 'some', 'difficulties', 'Using', 'my', 'personal', 'experience', 'to', 'relate', 'with', 'her', 'and', 'share', 'what', 'I', 'used', 'to', 'get', 'better', 'was', 'helpful', 'to', 'comfort', 'her', 'Now', 'that', 'I', 've', 'been', 'through', 'it', 'although', 'i', 'm', 'not', 'even', 'where', 'I', 'd', 'like', 'to', 'be', 'I', 'm', 'extremely', 'open', 'about', 'sharing', 'my', 'experience', 'with', 'others', 'and', 'helping', 'friends', 'going', 'through', 'similar', 'situations', 'And', 'PLEASE', 'if', 'you', 'have', 'any', 'other', 'questions', 'about', 'my', 'situation', 'don', 't', 'hesitate', 'to', 'email', 'me', 'I', 'm', 'an', 'open', 'book', 'and', 'excited', 'to', 'see', 'how', 'many', 'people', 'you', 're', 'going', 'to', 'help', 'when', 'my', 'best', 'friends', 'mom', 'past', 'away', 'from', 'od', 'ing', 'when', 'he', 'was', 'in', 'grade', '5', 'As', 'a', 'camp', 'counselor', 'I', 'provide', 'stability', 'in', 'kids', 'lives', 'who', 'may', 'have', 'troubled', 'home', 'situations', 'My', 'now', 'girlfriend', 'used', 'to', 'have', 'serious', 'addiction', 'troubles', 'before', 'we', 'started', 'dating', 'and', 'felt', 'as', 'though', 'her', 'addiction', 'defined', 'her', 'as', 'a', 'person', 'She', 'thought', 'that', 'all', 'people', 'saw', 'when', 'they', 'looked', 'at', 'her', 'was', 'the', 'addiction', 'I', 'spent', 'many', 'nights', 'with', 'her', 'talking', 'and', 'letting', 'her', 'vent', 'I', 'was', 'one', 'of', 'the', 'only', 'people', 'supporting', 'her', 'and', 'she', 'felt', 'as', 'though', 'I', 'could', 'help', 'because', 'I', 'had', 'been', 'in', 'her', 'spot', 'The', 'one', 'person', 'I', 'ever', 'talked', 'to', 'it', 'was', 'because', 'we', 'were', 'both', 'going', 'through', 'the', 'same', 'thing', 'Us', 'talking', 'together', 'helped', 'it', 'was', 'important', 'to', 'realize', 'you', 'aren', 't', 'alone'] 2556\n"
     ]
    }
   ],
   "source": [
    "print(x_tokens, len(x_tokens))"
   ]
  },
  {
   "cell_type": "markdown",
   "metadata": {},
   "source": [
    "#### NLTK를 사용하여 간단한 분석을 해보자"
   ]
  },
  {
   "cell_type": "code",
   "execution_count": 18,
   "metadata": {
    "collapsed": true
   },
   "outputs": [],
   "source": [
    "import nltk"
   ]
  },
  {
   "cell_type": "code",
   "execution_count": 19,
   "metadata": {},
   "outputs": [
    {
     "data": {
      "text/plain": [
       "<Text: I try and avoid this sort of conflict...>"
      ]
     },
     "execution_count": 19,
     "metadata": {},
     "output_type": "execute_result"
    }
   ],
   "source": [
    "x_text = nltk.Text(x_tokens)\n",
    "x_text"
   ]
  },
  {
   "cell_type": "code",
   "execution_count": 20,
   "metadata": {},
   "outputs": [
    {
     "name": "stdout",
     "output_type": "stream",
     "text": [
      "2556\n"
     ]
    }
   ],
   "source": [
    "print(len(x_text.tokens)) # total number of x_tokens"
   ]
  },
  {
   "cell_type": "code",
   "execution_count": 21,
   "metadata": {},
   "outputs": [
    {
     "name": "stdout",
     "output_type": "stream",
     "text": [
      "725\n"
     ]
    }
   ],
   "source": [
    "print(len(set(x_text.tokens))) # unique number of x_tokens"
   ]
  },
  {
   "cell_type": "code",
   "execution_count": 22,
   "metadata": {},
   "outputs": [
    {
     "data": {
      "image/png": "[encoded data removed]",
      "text/plain": [
       "<matplotlib.figure.Figure at 0x2b0ab8631d0>"
      ]
     },
     "metadata": {},
     "output_type": "display_data"
    }
   ],
   "source": [
    "x_text.plot(10) ## most_common 10개 count"
   ]
  },
  {
   "cell_type": "markdown",
   "metadata": {},
   "source": [
    "#### x_list를 dov2vec형태로 변환한다"
   ]
  },
  {
   "cell_type": "code",
   "execution_count": 23,
   "metadata": {},
   "outputs": [
    {
     "name": "stderr",
     "output_type": "stream",
     "text": [
      "C:\\Users\\PARK SEONGRI\\AppData\\Local\\Continuum\\Anaconda3\\lib\\site-packages\\gensim\\utils.py:865: UserWarning: detected Windows; aliasing chunkize to chunkize_serial\n",
      "  warnings.warn(\"detected Windows; aliasing chunkize to chunkize_serial\")\n"
     ]
    }
   ],
   "source": [
    "from gensim.models.doc2vec import TaggedDocument"
   ]
  },
  {
   "cell_type": "markdown",
   "metadata": {},
   "source": [
    "x_list와 y_list를 합쳐준다"
   ]
  },
  {
   "cell_type": "code",
   "execution_count": 24,
   "metadata": {
    "collapsed": true
   },
   "outputs": [],
   "source": [
    "list_combined = []"
   ]
  },
  {
   "cell_type": "code",
   "execution_count": 25,
   "metadata": {
    "collapsed": true
   },
   "outputs": [],
   "source": [
    "for i in range(len(x_list)):\n",
    "    a = []\n",
    "    a.append(x_list[i])\n",
    "    a.append(y_list[i])\n",
    "    list_combined.append(a)"
   ]
  },
  {
   "cell_type": "code",
   "execution_count": 57,
   "metadata": {},
   "outputs": [
    {
     "data": {
      "text/plain": [
       "[[['I', 'try', 'and', 'avoid', 'this', 'sort', 'of', 'conflict'], 0],\n",
       " [['Had',\n",
       "   'a',\n",
       "   'friend',\n",
       "   'open',\n",
       "   'up',\n",
       "   'to',\n",
       "   'me',\n",
       "   'about',\n",
       "   'his',\n",
       "   'mental',\n",
       "   'addiction',\n",
       "   'to',\n",
       "   'weed',\n",
       "   'and',\n",
       "   'how',\n",
       "   'it',\n",
       "   'was',\n",
       "   'taking',\n",
       "   'over',\n",
       "   'his',\n",
       "   'life',\n",
       "   'and',\n",
       "   'making',\n",
       "   'him',\n",
       "   'depressed'],\n",
       "  1],\n",
       " [['I',\n",
       "   'saved',\n",
       "   'a',\n",
       "   'girl',\n",
       "   'from',\n",
       "   'suicide',\n",
       "   'once',\n",
       "   'She',\n",
       "   'was',\n",
       "   'going',\n",
       "   'to',\n",
       "   'swallow',\n",
       "   'a',\n",
       "   'bunch',\n",
       "   'of',\n",
       "   'pills',\n",
       "   'and',\n",
       "   'I',\n",
       "   'talked',\n",
       "   'her',\n",
       "   'out',\n",
       "   'of',\n",
       "   'it',\n",
       "   'in',\n",
       "   'a',\n",
       "   'very',\n",
       "   'calm',\n",
       "   'loving',\n",
       "   'way'],\n",
       "  1],\n",
       " [['i',\n",
       "   'cant',\n",
       "   'think',\n",
       "   'of',\n",
       "   'one',\n",
       "   'really',\n",
       "   'i',\n",
       "   'think',\n",
       "   'i',\n",
       "   'may',\n",
       "   'have',\n",
       "   'indirectly'],\n",
       "  0],\n",
       " [['Only',\n",
       "   'really',\n",
       "   'one',\n",
       "   'friend',\n",
       "   'who',\n",
       "   'doesn',\n",
       "   't',\n",
       "   'fit',\n",
       "   'into',\n",
       "   'the',\n",
       "   'any',\n",
       "   'of',\n",
       "   'the',\n",
       "   'above',\n",
       "   'categories',\n",
       "   'Her',\n",
       "   'therapist',\n",
       "   'calls',\n",
       "   'it',\n",
       "   'spiraling',\n",
       "   'Anyway',\n",
       "   'she',\n",
       "   'pretty',\n",
       "   'much',\n",
       "   'calls',\n",
       "   'me',\n",
       "   'any',\n",
       "   'time',\n",
       "   'she',\n",
       "   'is',\n",
       "   'frustrated',\n",
       "   'by',\n",
       "   'something',\n",
       "   'with',\n",
       "   'her',\n",
       "   'boyfriend',\n",
       "   'to',\n",
       "   'ask',\n",
       "   'me',\n",
       "   'if',\n",
       "   'it',\n",
       "   's',\n",
       "   'logical',\n",
       "   'or',\n",
       "   'not',\n",
       "   'Before',\n",
       "   'they',\n",
       "   'would',\n",
       "   'just',\n",
       "   'fight',\n",
       "   'and',\n",
       "   'he',\n",
       "   'would',\n",
       "   'call',\n",
       "   'her',\n",
       "   'crazy',\n",
       "   'Now',\n",
       "   'she',\n",
       "   'asks',\n",
       "   'me',\n",
       "   'if',\n",
       "   'it',\n",
       "   's',\n",
       "   'ok',\n",
       "   'he',\n",
       "   'didn',\n",
       "   't',\n",
       "   'say',\n",
       "   'please',\n",
       "   'when',\n",
       "   'he',\n",
       "   'said',\n",
       "   'hand',\n",
       "   'me',\n",
       "   'the',\n",
       "   'remote'],\n",
       "  0],\n",
       " [['a',\n",
       "   'couple',\n",
       "   'of',\n",
       "   'years',\n",
       "   'ago',\n",
       "   'my',\n",
       "   'friends',\n",
       "   'was',\n",
       "   'going',\n",
       "   'to',\n",
       "   'switch',\n",
       "   'school',\n",
       "   'because',\n",
       "   'of',\n",
       "   'low',\n",
       "   'self',\n",
       "   'esteem',\n",
       "   'too',\n",
       "   'I',\n",
       "   'helped',\n",
       "   'him',\n",
       "   'overcome',\n",
       "   'that',\n",
       "   'shit',\n",
       "   'too'],\n",
       "  0],\n",
       " [['Roommate',\n",
       "   'when',\n",
       "   'he',\n",
       "   'was',\n",
       "   'going',\n",
       "   'through',\n",
       "   'death',\n",
       "   'and',\n",
       "   'loss',\n",
       "   'of',\n",
       "   'a',\n",
       "   'gf',\n",
       "   'Did',\n",
       "   'anything',\n",
       "   'to',\n",
       "   'get',\n",
       "   'him',\n",
       "   'out',\n",
       "   'of',\n",
       "   'his',\n",
       "   'bedroom'],\n",
       "  1],\n",
       " [['i',\n",
       "   've',\n",
       "   'had',\n",
       "   'a',\n",
       "   'couple',\n",
       "   'of',\n",
       "   'friends',\n",
       "   'you',\n",
       "   'could',\n",
       "   'say',\n",
       "   'more',\n",
       "   'than',\n",
       "   'friends',\n",
       "   'with',\n",
       "   'quite',\n",
       "   'severe',\n",
       "   'depression',\n",
       "   'emotional',\n",
       "   'problems',\n",
       "   'i',\n",
       "   'helped',\n",
       "   'for',\n",
       "   'a',\n",
       "   'while',\n",
       "   'but',\n",
       "   'eventually',\n",
       "   'both',\n",
       "   'relationships',\n",
       "   'started',\n",
       "   'to',\n",
       "   'suffer',\n",
       "   'as',\n",
       "   'a',\n",
       "   'result',\n",
       "   'of',\n",
       "   'both',\n",
       "   'our',\n",
       "   'personal',\n",
       "   'problems'],\n",
       "  1],\n",
       " [['Listened',\n",
       "   'to',\n",
       "   'someone',\n",
       "   'talk',\n",
       "   'about',\n",
       "   'relationship',\n",
       "   'troubles',\n",
       "   'Offered',\n",
       "   'some',\n",
       "   'advice',\n",
       "   'from',\n",
       "   'personal',\n",
       "   'experience'],\n",
       "  0],\n",
       " [['I',\n",
       "   'will',\n",
       "   'always',\n",
       "   'listen',\n",
       "   'I',\n",
       "   'comforted',\n",
       "   'my',\n",
       "   'sister',\n",
       "   'when',\n",
       "   'she',\n",
       "   'lost',\n",
       "   'her',\n",
       "   'virgity',\n",
       "   'the',\n",
       "   'same',\n",
       "   'night',\n",
       "   'she',\n",
       "   'walked',\n",
       "   'in',\n",
       "   'on',\n",
       "   'her',\n",
       "   'boyfriend',\n",
       "   'cutting',\n",
       "   'himself',\n",
       "   'and',\n",
       "   'then',\n",
       "   'our',\n",
       "   'parents',\n",
       "   'found',\n",
       "   'out',\n",
       "   'she',\n",
       "   'threw',\n",
       "   'a',\n",
       "   'house',\n",
       "   'part',\n",
       "   'Simply',\n",
       "   'bring',\n",
       "   'supportive',\n",
       "   'was',\n",
       "   'my',\n",
       "   'focus'],\n",
       "  1]]"
      ]
     },
     "execution_count": 57,
     "metadata": {},
     "output_type": "execute_result"
    }
   ],
   "source": [
    "list_combined[:10]"
   ]
  },
  {
   "cell_type": "markdown",
   "metadata": {},
   "source": [
    "tagged list로 변환시킨다"
   ]
  },
  {
   "cell_type": "code",
   "execution_count": 27,
   "metadata": {
    "collapsed": true
   },
   "outputs": [],
   "source": [
    "tagged_docs = [TaggedDocument(d, [c]) for d,c in list_combined]"
   ]
  },
  {
   "cell_type": "code",
   "execution_count": 58,
   "metadata": {},
   "outputs": [
    {
     "data": {
      "text/plain": [
       "[TaggedDocument(words=['I', 'try', 'and', 'avoid', 'this', 'sort', 'of', 'conflict'], tags=[0]),\n",
       " TaggedDocument(words=['Had', 'a', 'friend', 'open', 'up', 'to', 'me', 'about', 'his', 'mental', 'addiction', 'to', 'weed', 'and', 'how', 'it', 'was', 'taking', 'over', 'his', 'life', 'and', 'making', 'him', 'depressed'], tags=[1]),\n",
       " TaggedDocument(words=['I', 'saved', 'a', 'girl', 'from', 'suicide', 'once', 'She', 'was', 'going', 'to', 'swallow', 'a', 'bunch', 'of', 'pills', 'and', 'I', 'talked', 'her', 'out', 'of', 'it', 'in', 'a', 'very', 'calm', 'loving', 'way'], tags=[1]),\n",
       " TaggedDocument(words=['i', 'cant', 'think', 'of', 'one', 'really', 'i', 'think', 'i', 'may', 'have', 'indirectly'], tags=[0]),\n",
       " TaggedDocument(words=['Only', 'really', 'one', 'friend', 'who', 'doesn', 't', 'fit', 'into', 'the', 'any', 'of', 'the', 'above', 'categories', 'Her', 'therapist', 'calls', 'it', 'spiraling', 'Anyway', 'she', 'pretty', 'much', 'calls', 'me', 'any', 'time', 'she', 'is', 'frustrated', 'by', 'something', 'with', 'her', 'boyfriend', 'to', 'ask', 'me', 'if', 'it', 's', 'logical', 'or', 'not', 'Before', 'they', 'would', 'just', 'fight', 'and', 'he', 'would', 'call', 'her', 'crazy', 'Now', 'she', 'asks', 'me', 'if', 'it', 's', 'ok', 'he', 'didn', 't', 'say', 'please', 'when', 'he', 'said', 'hand', 'me', 'the', 'remote'], tags=[0]),\n",
       " TaggedDocument(words=['a', 'couple', 'of', 'years', 'ago', 'my', 'friends', 'was', 'going', 'to', 'switch', 'school', 'because', 'of', 'low', 'self', 'esteem', 'too', 'I', 'helped', 'him', 'overcome', 'that', 'shit', 'too'], tags=[0]),\n",
       " TaggedDocument(words=['Roommate', 'when', 'he', 'was', 'going', 'through', 'death', 'and', 'loss', 'of', 'a', 'gf', 'Did', 'anything', 'to', 'get', 'him', 'out', 'of', 'his', 'bedroom'], tags=[1]),\n",
       " TaggedDocument(words=['i', 've', 'had', 'a', 'couple', 'of', 'friends', 'you', 'could', 'say', 'more', 'than', 'friends', 'with', 'quite', 'severe', 'depression', 'emotional', 'problems', 'i', 'helped', 'for', 'a', 'while', 'but', 'eventually', 'both', 'relationships', 'started', 'to', 'suffer', 'as', 'a', 'result', 'of', 'both', 'our', 'personal', 'problems'], tags=[1]),\n",
       " TaggedDocument(words=['Listened', 'to', 'someone', 'talk', 'about', 'relationship', 'troubles', 'Offered', 'some', 'advice', 'from', 'personal', 'experience'], tags=[0]),\n",
       " TaggedDocument(words=['I', 'will', 'always', 'listen', 'I', 'comforted', 'my', 'sister', 'when', 'she', 'lost', 'her', 'virgity', 'the', 'same', 'night', 'she', 'walked', 'in', 'on', 'her', 'boyfriend', 'cutting', 'himself', 'and', 'then', 'our', 'parents', 'found', 'out', 'she', 'threw', 'a', 'house', 'part', 'Simply', 'bring', 'supportive', 'was', 'my', 'focus'], tags=[1])]"
      ]
     },
     "execution_count": 58,
     "metadata": {},
     "output_type": "execute_result"
    }
   ],
   "source": [
    "tagged_docs[:10]"
   ]
  },
  {
   "cell_type": "markdown",
   "metadata": {},
   "source": [
    "train와 test data set을 나누어준다."
   ]
  },
  {
   "cell_type": "code",
   "execution_count": 42,
   "metadata": {
    "collapsed": true
   },
   "outputs": [],
   "source": [
    "import random"
   ]
  },
  {
   "cell_type": "code",
   "execution_count": 46,
   "metadata": {
    "collapsed": true
   },
   "outputs": [],
   "source": [
    "tagged_train_docs = random.sample(tagged_docs, 70)\n",
    "tagged_test_docs = random.sample(tagged_docs, 10)"
   ]
  },
  {
   "cell_type": "code",
   "execution_count": 47,
   "metadata": {
    "collapsed": true
   },
   "outputs": [],
   "source": [
    "from gensim.models import doc2vec\n",
    "\n",
    "# 사전 구축\n",
    "doc_vectorizer = doc2vec.Doc2Vec(size=725, alpha=0.025, min_alpha=0.025, seed=1234) # 725 = unique token 개수\n",
    "doc_vectorizer.build_vocab(tagged_train_docs)\n",
    "\n",
    "# logistic regression model 구축\n",
    "train_x = np.array(doc_vectorizer.infer_vector(doc.words) for doc in tagged_train_docs)\n",
    "train_y = np.array(doc.tags[0] for doc in tagged_train_docs)"
   ]
  },
  {
   "cell_type": "code",
   "execution_count": 48,
   "metadata": {
    "collapsed": true
   },
   "outputs": [],
   "source": [
    "# doc_vectorizer train\n",
    "for epoch in range(1000):\n",
    "    doc_vectorizer.train(tagged_train_docs, total_examples=725, epochs = 10)\n",
    "    doc_vectorizer.alpha -= 0.002\n",
    "    doc_vectorizer.min_alpha = doc_vectorizer.alpha"
   ]
  },
  {
   "cell_type": "code",
   "execution_count": 49,
   "metadata": {
    "collapsed": true
   },
   "outputs": [],
   "source": [
    "# logistic regression model 구축\n",
    "train_x = [doc_vectorizer.infer_vector(doc.words) for doc in tagged_train_docs]\n",
    "train_y = [doc.tags[0] for doc in tagged_train_docs]\n",
    "\n",
    "test_x = [doc_vectorizer.infer_vector(doc.words) for doc in tagged_test_docs]\n",
    "test_y = [doc.tags[0] for doc in tagged_test_docs]"
   ]
  },
  {
   "cell_type": "code",
   "execution_count": 50,
   "metadata": {},
   "outputs": [
    {
     "data": {
      "text/plain": [
       "0.80000000000000004"
      ]
     },
     "execution_count": 50,
     "metadata": {},
     "output_type": "execute_result"
    }
   ],
   "source": [
    "from sklearn.linear_model import LogisticRegression\n",
    "\n",
    "classifier = LogisticRegression(random_state = 4)\n",
    "classifier.fit(train_x, train_y)\n",
    "classifier.score(test_x, test_y)"
   ]
  },
  {
   "cell_type": "markdown",
   "metadata": {},
   "source": [
    "쨘!"
   ]
  },
  {
   "cell_type": "markdown",
   "metadata": {},
   "source": [
    "### Reference\n",
    "\n",
    "- https://www.kaggle.com/samdeeplearning/deepnlp\n",
    "- https://www.lucypark.kr/slides/2015-pyconkr/#13\n",
    "- YBIGTA 2071년 여름교육 0729 정규표현식 강의"
   ]
  }
 ],
 "metadata": {
  "kernelspec": {
   "display_name": "Python 3",
   "language": "python",
   "name": "python3"
  },
  "language_info": {
   "codemirror_mode": {
    "name": "ipython",
    "version": 3
   },
   "file_extension": ".py",
   "mimetype": "text/x-python",
   "name": "python",
   "nbconvert_exporter": "python",
   "pygments_lexer": "ipython3",
   "version": "3.6.1"
  }
 },
 "nbformat": 4,
 "nbformat_minor": 2
}
