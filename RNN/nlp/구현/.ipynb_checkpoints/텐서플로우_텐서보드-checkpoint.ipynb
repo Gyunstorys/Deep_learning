{
 "cells": [
  {
   "cell_type": "markdown",
   "metadata": {},
   "source": [
    "YBIGTA 10기 노혜미"
   ]
  },
  {
   "cell_type": "markdown",
   "metadata": {},
   "source": [
    "# tensor board"
   ]
  },
  {
   "cell_type": "markdown",
   "metadata": {},
   "source": [
    "- 텐서 플로우의 구조, 텐서 값의 변화 같은 것들을 시각적으로 보여주는 기능을 한다."
   ]
  },
  {
   "cell_type": "markdown",
   "metadata": {},
   "source": [
    "소스코드 출처\n",
    ": https://github.com/hunkim/DeepLearningZeroToAll/"
   ]
  },
  {
   "cell_type": "markdown",
   "metadata": {},
   "source": [
    "multivariable "
   ]
  },
  {
   "cell_type": "code",
   "execution_count": 1,
   "metadata": {
    "collapsed": true
   },
   "outputs": [],
   "source": [
    "import tensorflow as tf"
   ]
  },
  {
   "cell_type": "code",
   "execution_count": 2,
   "metadata": {
    "collapsed": true
   },
   "outputs": [],
   "source": [
    "x_data = [[73., 80., 75.],\n",
    "          [93., 88., 93.],\n",
    "          [89., 91., 90.],\n",
    "          [96., 98., 100.],\n",
    "          [73., 66., 70.]] # rank2, 5X3 matrix\n",
    "y_data = [[152.],\n",
    "          [185.],\n",
    "          [180.],\n",
    "          [196.],\n",
    "          [142.]] # rank2, 5X1 matrix\n",
    "X = tf.placeholder(tf.float32, shape=[None, 3], name = 'X') \n",
    "Y = tf.placeholder(tf.float32, shape=[None, 1], name = 'Y') "
   ]
  },
  {
   "cell_type": "code",
   "execution_count": 3,
   "metadata": {
    "collapsed": true
   },
   "outputs": [],
   "source": [
    "with tf.name_scope(\"layer1\") as scope:\n",
    "    W1 = tf.Variable(tf.random_normal([3, 1]), name='weight_1')\n",
    "    b1 = tf.Variable(tf.random_normal([1]), name='bias_1')\n",
    "    layer1 = tf.matmul(X, W1)+b1 # 5x3 3x1 = 5x1\n",
    "    \n",
    "    w1_hist = tf.summary.histogram(\"weights1\", W1)\n",
    "    b1_hist = tf.summary.histogram(\"biases1\", b1)\n",
    "    layer1_hist = tf.summary.histogram(\"layer1\", layer1)\n",
    "    \n",
    "with tf.name_scope(\"layer2\") as scope:\n",
    "    W2 = tf.Variable(tf.random_normal([1, 1]), name='weight_2')\n",
    "    b2 = tf.Variable(tf.random_normal([1]), name='bias_2')\n",
    "    hypothesis = tf.matmul(layer1, W2)+b2\n",
    "    \n",
    "    w2_hist = tf.summary.histogram(\"weights_2\", W2)\n",
    "    b2_hist = tf.summary.histogram(\"biases_2\", b2)\n",
    "    hypothesis_hist = tf.summary.histogram(\"hypothesis\", hypothesis)"
   ]
  },
  {
   "cell_type": "code",
   "execution_count": null,
   "metadata": {
    "collapsed": false
   },
   "outputs": [],
   "source": [
    "with tf.name_scope(\"cost\") as scope:\n",
    "    cost = -tf.reduce_mean(tf.square(hypothesis-Y))\n",
    "    cost_summ = tf.summary.scalar(\"cost\", cost)\n",
    "\n",
    "with tf.name_scope(\"train\") as scope:\n",
    "    train = tf.train.AdamOptimizer(learning_rate=0.01).minimize(cost)"
   ]
  },
  {
   "cell_type": "code",
   "execution_count": null,
   "metadata": {
    "collapsed": false
   },
   "outputs": [
    {
     "name": "stdout",
     "output_type": "stream",
     "text": [
      "0 -46693.9 [array([[-1.20441163],\n",
      "       [ 0.68535632],\n",
      "       [ 2.3525281 ]], dtype=float32), array([[-0.26642632]], dtype=float32)]\n",
      "5000 -4.40299e+12 [array([[ 88.67576599],\n",
      "       [ 90.56531525],\n",
      "       [ 92.23262787]], dtype=float32), array([[-89.88194275]], dtype=float32)]\n"
     ]
    }
   ],
   "source": [
    "with tf.Session() as sess:\n",
    "    merged_summary = tf.summary.merge_all()\n",
    "    # FileWriter의 인자로 경로를 주면 소스코드가 쓰이는 경로에 해당 파일이 만들어지고 log가 기록된다.\n",
    "    writer = tf.summary.FileWriter(\"./board/multivariable_linear_regression\")\n",
    "    writer.add_graph(sess.graph)  # Show the graph\n",
    "\n",
    "    # Initialize TensorFlow variables\n",
    "    sess.run(tf.global_variables_initializer())\n",
    "\n",
    "    for step in range(10001):\n",
    "        summary, _ = sess.run([merged_summary, train], feed_dict={X: x_data, Y: y_data})\n",
    "        writer.add_summary(summary, global_step=step) #실제로 쓰는 부분.\n",
    "\n",
    "        if step % 5000 == 0:\n",
    "            print(step, sess.run(cost, feed_dict={\n",
    "                  X: x_data, Y: y_data}), sess.run([W1, W2]))"
   ]
  },
  {
   "cell_type": "markdown",
   "metadata": {},
   "source": [
    "참고: http://tensorflowstepbystep.tistory.com/4"
   ]
  },
  {
   "cell_type": "markdown",
   "metadata": {},
   "source": [
    "1. anaconda prompt를 관리자 권한으로 실행한다.(anaconda prompt를 우클릭하면 관리자 권한으로 실행할 수 있다.)\n",
    "2. activate tensorflow 입력\n",
    "3. cd \"위에서 만든 파일이 들어있는 경로\" 입력\n",
    "- ex) cd C:\\Users\\nhm\\ybigta\\DeepLearningZeroToAll-b00a345e02ca751bdfcca73787aa5fd97e56bd8b\n",
    "4. 해당 경로로 이동된 걸 확인하고 tensorboard --logdir=\"log저장 directory\"\n",
    "- ex) tensorboard --logdir=board/multivariable_linear_regression\n",
    "5. Starting TensorBoard b'54' at http://DESKTOP-16K2P34:6006 이러한 문장이 나오면 성공! 해당 웹 주소를 그대로 복사해서 들어가면 된다."
   ]
  },
  {
   "cell_type": "code",
   "execution_count": null,
   "metadata": {
    "collapsed": true
   },
   "outputs": [],
   "source": []
  }
 ],
 "metadata": {
  "anaconda-cloud": {},
  "kernelspec": {
   "display_name": "Python [conda env:tensorflow]",
   "language": "python",
   "name": "conda-env-tensorflow-py"
  },
  "language_info": {
   "codemirror_mode": {
    "name": "ipython",
    "version": 3
   },
   "file_extension": ".py",
   "mimetype": "text/x-python",
   "name": "python",
   "nbconvert_exporter": "python",
   "pygments_lexer": "ipython3",
   "version": "3.6.1"
  }
 },
 "nbformat": 4,
 "nbformat_minor": 1
}
