{
 "cells": [
  {
   "cell_type": "markdown",
   "metadata": {},
   "source": [
    "# cs224n Lecture 4 - Word Window Classification and Neural Networks"
   ]
  },
  {
   "cell_type": "markdown",
   "metadata": {},
   "source": [
    "출처 : http://web.stanford.edu/class/cs224n/index.html"
   ]
  },
  {
   "cell_type": "markdown",
   "metadata": {},
   "source": [
    "Lec4 너무 어렵다 흑흑...."
   ]
  },
  {
   "cell_type": "markdown",
   "metadata": {},
   "source": [
    "![rnn link](https://i.imgur.com/9Of80ne.png)"
   ]
  },
  {
   "cell_type": "markdown",
   "metadata": {},
   "source": [
    "- Lec3까지 Word Vectors를 표현하는 법을 배웠다면, 이 Word Vectors들을 classification한다."
   ]
  },
  {
   "cell_type": "markdown",
   "metadata": {},
   "source": [
    "- n개의 데이터 셋이 있다. "
   ]
  },
  {
   "cell_type": "markdown",
   "metadata": {},
   "source": [
    "![rnn link](https://i.imgur.com/UAbnASf.png)"
   ]
  },
  {
   "cell_type": "markdown",
   "metadata": {
    "collapsed": true
   },
   "source": [
    "![rnn link](https://i.imgur.com/PBCqH8C.png)"
   ]
  },
  {
   "cell_type": "markdown",
   "metadata": {},
   "source": [
    "- Word Vectors를 두개의 boundary(class)로 분류했다. Losistic Classification(= Softmax Classification)을 이용하였다.\n",
    "- C는 구하는 class의 수이다. 여기선 C=2"
   ]
  },
  {
   "cell_type": "markdown",
   "metadata": {
    "collapsed": true
   },
   "source": [
    "![rnn link](https://i.imgur.com/GSn6YWY.png)"
   ]
  },
  {
   "cell_type": "markdown",
   "metadata": {},
   "source": [
    "- telly, TV, television은 같은 class이어야하지만 잘못 분류되었다. 데이터 수가 적으면 데이터가 바뀔 때 영향을 크게 받기 때문이다.\n",
    "- 따라서 train set이 작으면 word vectors를 train하지 말아라!!!!"
   ]
  },
  {
   "cell_type": "markdown",
   "metadata": {},
   "source": [
    "![rnn link](https://i.imgur.com/UAbnASf.png)"
   ]
  },
  {
   "cell_type": "markdown",
   "metadata": {},
   "source": [
    "- classification에 필요한 파라미터 W와 Word Vectors 모두 train해야한다. 파라미터가 많아 지면 Overfitting의 위험이 있다."
   ]
  },
  {
   "cell_type": "markdown",
   "metadata": {
    "collapsed": true
   },
   "source": [
    "![rnn link](https://i.imgur.com/xFyMhQM.png)"
   ]
  },
  {
   "cell_type": "markdown",
   "metadata": {
    "collapsed": true
   },
   "source": [
    "![rnn link](https://i.imgur.com/fwBpdSI.png)"
   ]
  },
  {
   "cell_type": "markdown",
   "metadata": {},
   "source": [
    "- p를 one-hot vector로 표현하기 때문에, 로지스틱회귀의 loss fuction과 같다."
   ]
  },
  {
   "cell_type": "markdown",
   "metadata": {
    "collapsed": true
   },
   "source": [
    "![rnn link](https://i.imgur.com/wbUBcM0.png)"
   ]
  },
  {
   "cell_type": "markdown",
   "metadata": {},
   "source": [
    "- Overfitting을 방지하기 위하여 redgularization!\n",
    "- y축은 error, x축은 parameter 수\n",
    "- 빨간 선은 test set, 파란 선은 train set"
   ]
  },
  {
   "cell_type": "markdown",
   "metadata": {
    "collapsed": true
   },
   "source": [
    "![rnn link](https://i.imgur.com/GiCOf9O.png)"
   ]
  },
  {
   "cell_type": "markdown",
   "metadata": {},
   "source": [
    "- windoww안의  centor word를 context word의 word vector를 이용하여 4개의 class(Person, location, organization, none)로 분류하는 것을 예제로 설명할 것이다."
   ]
  },
  {
   "cell_type": "markdown",
   "metadata": {
    "collapsed": true
   },
   "source": [
    "![rnn link](https://i.imgur.com/oHc3nP7.png)"
   ]
  },
  {
   "cell_type": "markdown",
   "metadata": {},
   "source": [
    "- window 안에 있는 모든 5개의 word vector을 concat하여 하나의 5d column vector로 표현한다."
   ]
  },
  {
   "cell_type": "markdown",
   "metadata": {
    "collapsed": true
   },
   "source": [
    "![rnn link](https://i.imgur.com/t85bXuH.png)"
   ]
  },
  {
   "cell_type": "markdown",
   "metadata": {},
   "source": [
    "- x가 5d column vector이므로 W는 C x 5d 행렬이다."
   ]
  },
  {
   "cell_type": "markdown",
   "metadata": {
    "collapsed": true
   },
   "source": [
    "![rnn link](https://i.imgur.com/b0AIySs.png)"
   ]
  },
  {
   "cell_type": "markdown",
   "metadata": {
    "collapsed": true
   },
   "source": [
    "![rnn link](https://i.imgur.com/uJP7GBJ.png)"
   ]
  },
  {
   "cell_type": "markdown",
   "metadata": {},
   "source": [
    "- 여기서부터 멘붕이다 ㅎ\n",
    "- 저 델타가 매우 중요하다고 한다!!!!!!!!델타는 각 class가 나올 추정확률벡터이다."
   ]
  },
  {
   "cell_type": "markdown",
   "metadata": {
    "collapsed": true
   },
   "source": [
    "![rnn link](https://i.imgur.com/Lz6FHB1.png)"
   ]
  },
  {
   "cell_type": "markdown",
   "metadata": {},
   "source": [
    "- 이렇게 word vector update!!"
   ]
  },
  {
   "cell_type": "markdown",
   "metadata": {
    "collapsed": true
   },
   "source": [
    "![rnn link](https://i.imgur.com/ZE0H4YU.png)"
   ]
  },
  {
   "cell_type": "markdown",
   "metadata": {},
   "source": [
    "- 이렇게 word vector를 update하며 주변 단어로 중심 단어를 분류한다!"
   ]
  },
  {
   "cell_type": "markdown",
   "metadata": {
    "collapsed": true
   },
   "source": [
    "![rnn link](https://i.imgur.com/nr7gCVR.png)"
   ]
  },
  {
   "cell_type": "markdown",
   "metadata": {},
   "source": [
    "- classification parameter도 update해야지!!"
   ]
  },
  {
   "cell_type": "markdown",
   "metadata": {},
   "source": [
    "## Backpropagation과 Neural Network부분은 다음에....to be continue....."
   ]
  }
 ],
 "metadata": {
  "kernelspec": {
   "display_name": "Python 3",
   "language": "python",
   "name": "python3"
  },
  "language_info": {
   "codemirror_mode": {
    "name": "ipython",
    "version": 3
   },
   "file_extension": ".py",
   "mimetype": "text/x-python",
   "name": "python",
   "nbconvert_exporter": "python",
   "pygments_lexer": "ipython3",
   "version": "3.6.1"
  }
 },
 "nbformat": 4,
 "nbformat_minor": 2
}
