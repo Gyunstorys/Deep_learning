{
 "cells": [
  {
   "cell_type": "markdown",
   "metadata": {},
   "source": [
    "# 1. woraxonomic resources로 하d meaning\n",
    "\n",
    "**과거 ** : 단어의 의미를 taxonomic resources로 해결하고 싶어했다. (분류학적인 방식) <br>\n",
    "예) wordnet <규> <br>\n",
    "여기서 **hypernym**이 나오는데, Y 가 X중 하나에 속하면 X는 Y의 **hypernym** 이다.<br>\n",
    "즉, tree형 구조로서의 단어의 의미로 접근하는 것이다. <br>\n",
    "\n",
    "### 단점 : nuance, 즉 사소한 의미의 차이를 이해할 수 없는 구조. 노란색 = 누르스름한 색 = 노리끼리한 색. <br>\n",
    "이 단점은 왜 나왔는가를 생각해보자. <br>\n",
    "\n",
    "즉, 하나의 단어를 atomic symbol, 문맥을 고려하지 않은 채 받아들인다. <br>\n",
    "이를 벡터로 표현한 것이 바로 **one-hot vector**. <br>\n",
    "따라서 one-hot vector는 위의 단점을 고스란히 안고 있을 수 밖에 없는 구조이다. <br>\n",
    "\n",
    "word 를 vector로 표현하는 것 까지는 좋은데, <br>\n",
    "그 내적이 유사도를 나타냈으면 좋겠다는 니즈에서 탄생한 것이 **distributional similarity**. <br>\n",
    "이 방식은 단어의 의미를 그 주위의 단어들로 판단하는 것이다. <br>\n",
    "예) 헬스. 덤벨, 바벨, 근육 등등의 단어들로 이해. <br>\n",
    "\n",
    "# 2. word2vec intro\n",
    "google 2013 miklov가 제안함 <br>\n",
    "\n",
    "word 를 vector로 표현하는 것 까지는 좋은데, <br>\n",
    "그 내적이 유사도를 나타냈으면 좋겠다는 니즈에서 탄생한 것이 word2vec. <br>\n",
    "\n"
   ]
  }
 ],
 "metadata": {
  "anaconda-cloud": {},
  "kernelspec": {
   "display_name": "Python [conda env:torch]",
   "language": "python",
   "name": "conda-env-torch-py"
  },
  "language_info": {
   "codemirror_mode": {
    "name": "ipython",
    "version": 3
   },
   "file_extension": ".py",
   "mimetype": "text/x-python",
   "name": "python",
   "nbconvert_exporter": "python",
   "pygments_lexer": "ipython3",
   "version": "3.6.1"
  }
 },
 "nbformat": 4,
 "nbformat_minor": 1
}
