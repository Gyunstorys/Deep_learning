{
 "cells": [
  {
   "cell_type": "markdown",
   "metadata": {},
   "source": [
    "# 1. NLP란?\n",
    "\n",
    "3 가지 도메인의 결합 : <br>\n",
    "* computer science\n",
    "* AI\n",
    "* 언어학\n",
    "\n",
    "**컴퓨터가 자연어를 이해하도록 하는 것. **<br>\n",
    "\n",
    "# 2. NLP levels\n",
    "\n",
    "![NLP levels](http://i.imgur.com/UrHY3AI.png)\n",
    "출처 : CS231d slides\n",
    "\n",
    "위의 단계부터 <br>\n",
    "글자(음운 내지는 음절)이해 -> 형태소(morpheme) 및 단어 이해 -> 문장 구조 이해 -> 의미 이해 -> 문장 사용에 대한 이해. <br>\n",
    "\n",
    "# 3. NLP 사용처\n",
    "\n",
    "* 문법 체크, 키워드 추출, 동의어 찾기\n",
    "* 웹사이트에서 필요한 정보 찾기 (ex. 날짜, 장소)\n",
    "* 감정어 분석\n",
    "* 자동 번역\n",
    "* 음성 인식\n",
    "* QNA(chatbot)\n",
    "\n",
    "사실상 Deep learning이 가장 먼저 퍼포먼스를 낸 분야는 Speech recognition <br>\n",
    "\n",
    "# 4. Human Language란?\n",
    "\n",
    "* 기호를 이해하고, 시그널을 categorization 한다.\n",
    "* 여기서 특징은 continuous. signal과 같이 discrete한 형태로 처리하지 않는다.\n",
    "* 따라서 컴퓨터에서는 large vocab, symbolic encoding(단어 이해)가 굉장히 heavy, data양도 작다\n",
    "\n",
    "# 5. 왜 NLP가 어려운가?\n",
    "* all ambiguous. 그 의미가 모호하다. ex) The Pope's baby steps on gays. 아버지가방에들어가신다.\n",
    "* Efficiency. 사람의 언어는 효율성에 그 목적이 있다.\n",
    "\n",
    "# 6. 단어의 의미.\n",
    "\n",
    "## 단어를 vectorizing(벡터화) 하여 의미를 부가한다.\n",
    "\n",
    "Google word2vec은 300d 의 vector를 사용한다. <br>\n",
    "각 축은 별다른 의미를 가지지 않는다. <br>\n",
    "그저 CBOW, skip-gram 등의 방식을 따르면 그 cosine similarity 가 의미의 유사도를 의미한다. <br>"
   ]
  },
  {
   "cell_type": "code",
   "execution_count": null,
   "metadata": {
    "collapsed": true
   },
   "outputs": [],
   "source": []
  }
 ],
 "metadata": {
  "anaconda-cloud": {},
  "kernelspec": {
   "display_name": "Python [default]",
   "language": "python",
   "name": "python3"
  },
  "language_info": {
   "codemirror_mode": {
    "name": "ipython",
    "version": 3
   },
   "file_extension": ".py",
   "mimetype": "text/x-python",
   "name": "python",
   "nbconvert_exporter": "python",
   "pygments_lexer": "ipython3",
   "version": "3.5.2"
  }
 },
 "nbformat": 4,
 "nbformat_minor": 1
}
