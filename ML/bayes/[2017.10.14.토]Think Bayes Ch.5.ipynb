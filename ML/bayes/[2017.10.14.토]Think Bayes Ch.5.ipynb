{
 "cells": [
  {
   "cell_type": "markdown",
   "metadata": {},
   "source": [
    "# Think Bayes"
   ]
  },
  {
   "cell_type": "markdown",
   "metadata": {},
   "source": [
    "+ [코드모음](https://github.com/AllenDowney/ThinkBayes2/tree/master/code)\n",
    "+ [thinkbayes2 모듈](https://github.com/AllenDowney/ThinkBayes2/blob/master/code/thinkbayes2.py)"
   ]
  },
  {
   "cell_type": "markdown",
   "metadata": {},
   "source": [
    "## Ch.5 : 공산과 가산"
   ]
  },
  {
   "cell_type": "markdown",
   "metadata": {},
   "source": [
    "### 5.1. 공산"
   ]
  },
  {
   "cell_type": "markdown",
   "metadata": {},
   "source": [
    "+ 보통 0 ~ 1 사이의 숫자로 확률을 나타내지만 **공산odds**이라는 개념으로 나타내는 방법도 있음  \n",
    "+ 승산 : 어떤 사건이 일어나지 않을 때의 확률과 일어났을 때의 확률의 비율  \n",
    "+ (ex) 우리팀 승률이 75% 라면 이길 가능성이 질 가능성의 3배 --> 승산 '3 : 1'   \n",
    "+ 반대로 확률이 낮은 경우 승산보다 **공산**으로 표현  \n",
    "+ (ex) 내가 건 말이 이길 확률이 10% 라면 --> 공산 '9 : 1'  \n",
    "+ 동일한 정보를 다르게 표기하는 방법  "
   ]
  },
  {
   "cell_type": "code",
   "execution_count": 2,
   "metadata": {},
   "outputs": [
    {
     "data": {
      "text/plain": [
       "'\\ndef Probability2(yes, no):  \\n    return yes/(yes+no)\\n'"
      ]
     },
     "execution_count": 2,
     "metadata": {},
     "output_type": "execute_result"
    }
   ],
   "source": [
    "'''\n",
    "def Probability2(yes, no):  \n",
    "    return yes/(yes+no)\n",
    "'''"
   ]
  },
  {
   "cell_type": "markdown",
   "metadata": {},
   "source": [
    "![horseracing](http://typesofbets.com/wp-content/uploads/2015/05/OddsPayoutChart1.jpg)  \n",
    "\n",
    "공산 1:5 --> $2.4  (승률 83%)\n",
    "  \n",
    "공산 50:1 --> $102 (승률 2% )"
   ]
  },
  {
   "cell_type": "markdown",
   "metadata": {},
   "source": [
    "+ 경마장 관객들의 생각을 상상하는데 유용  \n",
    "+ 내가 건 말에 대한 공산이 5:1 이라면 이는 6명 중 5명이 질 것이라고 생각 하는 것 --> 이길 확률은 1/6  "
   ]
  },
  {
   "cell_type": "markdown",
   "metadata": {},
   "source": [
    "### 5.2. 베이즈 이론의 공산 형태"
   ]
  },
  {
   "cell_type": "markdown",
   "metadata": {},
   "source": [
    "+ 1장에서 베이즈 이론은 다음과 같은 **확률 형태**    \n",
    "> $p(H|D)=\\frac{p(H) \\ p(D|H)}{P(D)}$  \n",
    "  \n",
    "+ A,B라는 두개의 가설이 있을 때 사후 확률 비는 다음과 같이 나타낼 수 있음  \n",
    "> $\\frac{p(A|D)}{P(B|D)}=\\frac{p(A) \\ p(D|A)}{p(B) \\ p(D|B)}$    \n",
    "  \n",
    "+ A에 대한 공산을 $o(A)$라고 하면 다음과 같은 결과를 얻을 수 있음  \n",
    "> $o(A|D)=o(A)\\frac{p(D|A)}{p(D|B)}$  , 혹은 $\\frac{o(A|D)}{o(A)}=\\frac{p(D|A)}{p(D|B)}$\n",
    "  \n",
    " + 사후공산은 사전공산과 우도비의 곱  \n",
    " + $o(A|D)$ : 사후공산,  $o(A)$ : 사전공산, $\\frac{p(D|A)}{p(D|B)}$ : 우도비(Bayes factor)  \n",
    " + Bayes factor > 1 : 데이터는 B의 가정 보다는 A의 가정에 가깝다. , 공산이 전보다 커졌다.  \n",
    " + Bayes factor < 1 : 데이터가 B가정에 비해 A가정일 때 더 적다. , A의 공산은 더 낮아진다.  \n",
    " + Bayes factor = 1 : 데이터는 각 가설에서 동일하다. 공산은 변하지 않는다."
   ]
  },
  {
   "cell_type": "markdown",
   "metadata": {},
   "source": [
    "### 5.4. 가산"
   ]
  },
  {
   "cell_type": "markdown",
   "metadata": {},
   "source": [
    "+ 베이지안 통계의 기본연산 : 사전분포와 데이터를 가지고 사후분포를 생성"
   ]
  },
  {
   "cell_type": "markdown",
   "metadata": {},
   "source": [
    "+ $P(A) --> P(D) --> P(A|D)$   \n",
    "( 사전분포 --> 데이터 --> 사후분포)    \n",
    "$P(D|A)$ : 우도    \n",
    "우도를 최대화 하는 $P(A|D)$"
   ]
  },
  {
   "cell_type": "markdown",
   "metadata": {},
   "source": [
    "+ 실제 베이즈 문제에서는 정규화, 덧셈과 최대값, 최소값 같은 연산을 포함"
   ]
  },
  {
   "cell_type": "markdown",
   "metadata": {},
   "source": [
    "+ 덧셈 연산 예제 : *던전 앤 드래곤*\n",
    " + 주사위를 던져서 캐릭터의 속성값 생성  \n",
    " + 6면체 주사위 3개를 굴린 값을 더해서 속성값(체력, 지능, 지혜, 민첩, 건강, 카리스마) 생성  \n",
    " ![dungeondragon](http://cfile8.uf.tistory.com/image/213D41345253B3D9251BE7)"
   ]
  },
  {
   "cell_type": "markdown",
   "metadata": {},
   "source": [
    "+ 플레이어 입장에서 세 주사위 합의 분포가 어떻게 되는지 궁금할 수 있음. 이를 계산하는 두 가지 방법  \n",
    " + 시뮬레이션 : 하나의 주사위에 대한 분포를 나타내는 Pmf가 주어졌을 때, 이를 사용해서 랜덤 샘플을 만들고, 더해서, 시뮬레이션으로 만들어진 값의 합에 대한 분포를 구한다.\n",
    " + 나열 : 주어진 두 개의 Pmf를 사용하여, 모든 가능한 수의 쌍을 나열하고 이 합의 분포를 계산한다.  "
   ]
  },
  {
   "cell_type": "markdown",
   "metadata": {},
   "source": [
    "+ 시뮬레이션 예시"
   ]
  },
  {
   "cell_type": "code",
   "execution_count": 4,
   "metadata": {
    "collapsed": true
   },
   "outputs": [],
   "source": [
    "from __future__ import print_function, division\n",
    "\n",
    "import random\n",
    "\n",
    "import thinkbayes2\n",
    "import thinkplot\n",
    "\n",
    "FORMATS = ['pdf', 'eps', 'png']"
   ]
  },
  {
   "cell_type": "code",
   "execution_count": 8,
   "metadata": {
    "collapsed": true
   },
   "outputs": [],
   "source": [
    "# 하나의 주사위를 나타내는 클래스\n",
    "class Die(thinkbayes2.Pmf):\n",
    "    \"\"\"Represents the PMF of outcomes for a die.\"\"\"\n",
    "\n",
    "    def __init__(self, sides, label=''):\n",
    "        \"\"\"Initializes the die.\n",
    "        sides: int number of sides\n",
    "        label: string\n",
    "        \"\"\"\n",
    "        hypos = range(1, sides+1)\n",
    "        thinkbayes2.Pmf.__init__(self, hypos, label=label)"
   ]
  },
  {
   "cell_type": "code",
   "execution_count": 6,
   "metadata": {
    "collapsed": true
   },
   "outputs": [],
   "source": [
    "# 육면체 주사위 생성\n",
    "d6 = Die(6)"
   ]
  },
  {
   "cell_type": "code",
   "execution_count": 9,
   "metadata": {
    "collapsed": true
   },
   "outputs": [],
   "source": [
    "# 주사위 1,000번 굴린 샘플값 생성\n",
    "dice = [d6]*3\n",
    "three = thinkbayes2.SampleSum(dice,1000)"
   ]
  },
  {
   "cell_type": "markdown",
   "metadata": {},
   "source": [
    "+ 나열 예시"
   ]
  },
  {
   "cell_type": "code",
   "execution_count": 15,
   "metadata": {},
   "outputs": [],
   "source": [
    "three_exact = d6+d6+d6"
   ]
  },
  {
   "cell_type": "markdown",
   "metadata": {},
   "source": [
    "+ 그래프"
   ]
  },
  {
   "cell_type": "code",
   "execution_count": 16,
   "metadata": {},
   "outputs": [
    {
     "name": "stdout",
     "output_type": "stream",
     "text": [
      "4 0.013000000000000001\n",
      "5 0.021\n",
      "6 0.049\n",
      "7 0.059000000000000004\n",
      "8 0.093\n",
      "9 0.115\n",
      "10 0.129\n",
      "11 0.121\n",
      "12 0.109\n",
      "13 0.1\n",
      "14 0.083\n",
      "15 0.054\n",
      "16 0.033\n",
      "17 0.015\n",
      "18 0.006\n"
     ]
    }
   ],
   "source": [
    "#시뮬레이션 (주사위 하나로 시뮬)\n",
    "three.label = 'sample'\n",
    "three.Print()"
   ]
  },
  {
   "cell_type": "code",
   "execution_count": 17,
   "metadata": {},
   "outputs": [
    {
     "name": "stdout",
     "output_type": "stream",
     "text": [
      "3 0.004629629629629629\n",
      "4 0.013888888888888888\n",
      "5 0.027777777777777776\n",
      "6 0.046296296296296294\n",
      "7 0.06944444444444445\n",
      "8 0.09722222222222222\n",
      "9 0.11574074074074073\n",
      "10 0.125\n",
      "11 0.125\n",
      "12 0.11574074074074074\n",
      "13 0.09722222222222224\n",
      "14 0.06944444444444445\n",
      "15 0.046296296296296294\n",
      "16 0.027777777777777776\n",
      "17 0.013888888888888888\n",
      "18 0.004629629629629629\n"
     ]
    }
   ],
   "source": [
    "#나열 (모든 가능한 수의 쌍 나열 후, 이 합의 분포 계싼)\n",
    "three_exact = d6 + d6 + d6\n",
    "three_exact.label = 'exact'\n",
    "three_exact.Print()"
   ]
  },
  {
   "cell_type": "code",
   "execution_count": 18,
   "metadata": {},
   "outputs": [
    {
     "name": "stdout",
     "output_type": "stream",
     "text": [
      "Writing dungeons1.pdf\n",
      "Writing dungeons1.eps\n",
      "Writing dungeons1.png\n"
     ]
    }
   ],
   "source": [
    "thinkplot.PrePlot(num=2)\n",
    "thinkplot.Pmf(three)\n",
    "thinkplot.Pmf(three_exact, linestyle='dashed')\n",
    "thinkplot.Save(root='dungeons1',\n",
    "            xlabel='Sum of three d6',\n",
    "            ylabel='Probability',\n",
    "            axis=[2, 19, 0, 0.15],\n",
    "            formats=FORMATS)\n",
    "\n",
    "thinkplot.Clf()\n",
    "thinkplot.PrePlot(num=1)"
   ]
  },
  {
   "cell_type": "markdown",
   "metadata": {},
   "source": [
    "+ 3개의 6면체 주사위 값의 근사값(시뮬레이션) 및 정확한 값(나열)의 분포  \n",
    "\n",
    "![dungeon](http://postfiles6.naver.net/MjAxNzEwMTRfMTQ5/MDAxNTA3OTIwNTAyMjE2.ydFOcj_ZVnlI5DX5qJtnF3WfUup6MJ4UgabOFM7aXVEg.VCFF5fU1ajphDsQmoJt6vbJ66IEaN-CHO2oba0zA1Gcg.PNG.taesiri/dungeons1.png?type=w2)  \n",
    "\n",
    "+ sample : 시뮬레이션 방법   \n",
    "+ exact : 나열 방법"
   ]
  },
  {
   "cell_type": "markdown",
   "metadata": {},
   "source": [
    "### 5.5. 최대값"
   ]
  },
  {
   "cell_type": "markdown",
   "metadata": {},
   "source": [
    "+ 캐릭터 생성 시 최고 속성이 중요하다. 플레이어는 속성의 최대값의 분포가 궁금하다.  \n",
    "+ 최대값을 계산하는 세 가지 방법.  \n",
    " + 시뮬레이션 : 단일 선택에 대한 분포를 나타내는 Pmf를 사용하여 랜덤샘플을 생성하고, 최대값을 찾고, 이렇게 시뮬레이션으로 만들어진 최대값의 분포를 누적한다.\n",
    " + 나열 : 주어진 두 개의 Pmfs로 부터 모든 가능한 값의 쌍을 나열하고 최대값의 분포를 구한다.  \n",
    " + 멱법 : Pmf를 Cdf로 바꿀 때 최대값에서 Cdf를 구하는 단순하고 효과적인 알고리즘.  "
   ]
  },
  {
   "cell_type": "markdown",
   "metadata": {},
   "source": [
    "+ $CDF(x) = p(X\\leq x)$  ,혹은 $F_x(x) = p(X\\leq x)$\n",
    "+ $f(x)=\\frac{d}{dx}F(x)$  \n",
    "+ [CDF보충설명 블로그](http://jangjy.tistory.com/113)\n",
    "  \n",
    " + 사진은 pdf와 cdf의 관계\n",
    "![cdf](http://www.weibull.com/hotwire/issue13/rb13_2.gif)  "
   ]
  },
  {
   "cell_type": "markdown",
   "metadata": {},
   "source": [
    "+ 시뮬레이션"
   ]
  },
  {
   "cell_type": "code",
   "execution_count": 19,
   "metadata": {
    "collapsed": true
   },
   "outputs": [],
   "source": [
    "def PmfMax(pmf1, pmf2):\n",
    "    \"\"\"Computes the distribution of the max of values drawn from two Pmfs.\n",
    "    pmf1, pmf2: Pmf objects\n",
    "    returns: new Pmf\n",
    "    \"\"\"\n",
    "    res = thinkbayes2.Pmf()\n",
    "    for v1, p1 in pmf1.Items():\n",
    "        for v2, p2 in pmf2.Items():\n",
    "            res.Incr(max(v1, v2), p1*p2)\n",
    "    return res"
   ]
  },
  {
   "cell_type": "code",
   "execution_count": 24,
   "metadata": {},
   "outputs": [
    {
     "name": "stdout",
     "output_type": "stream",
     "text": [
      "3 9.84640042005e-15\n",
      "4 4.03210097201e-11\n",
      "5 9.80606956393e-09\n",
      "6 6.20323226463e-07\n",
      "7 1.74701297953e-05\n",
      "8 0.000285572333648\n",
      "9 0.00247724167357\n",
      "10 0.0128440856934\n",
      "11 0.0439796447754\n",
      "12 0.105590541894\n",
      "13 0.18102225454\n",
      "14 0.212013521417\n",
      "15 0.194224527556\n",
      "16 0.141452169514\n",
      "17 0.0786340868805\n",
      "18 0.0274582534226\n"
     ]
    }
   ],
   "source": [
    "#최고 속성값 분포 계산\n",
    "best_attr_cdf = three_exact.Max(6)\n",
    "best_attr_cdf.label = ''\n",
    "best_attr_pmf = best_attr_cdf.MakePmf()\n",
    "best_attr_pmf.Print()"
   ]
  },
  {
   "cell_type": "code",
   "execution_count": 25,
   "metadata": {},
   "outputs": [
    {
     "name": "stdout",
     "output_type": "stream",
     "text": [
      "Writing dungeons2.pdf\n",
      "Writing dungeons2.eps\n",
      "Writing dungeons2.png\n"
     ]
    }
   ],
   "source": [
    "thinkplot.Pmf(best_attr_pmf)\n",
    "thinkplot.Save(root='dungeons2',\n",
    "                xlabel='Sum of three d6',\n",
    "                ylabel='Probability',\n",
    "                axis=[2, 19, 0, 0.23],\n",
    "                formats=FORMATS,\n",
    "                legend=False)"
   ]
  },
  {
   "cell_type": "markdown",
   "metadata": {},
   "source": [
    "+ 세 주사위를 6번 굴렸을 때의 최대값 분포 \n",
    "\n",
    "![dungeon3](http://postfiles10.naver.net/MjAxNzEwMTRfNTIg/MDAxNTA3OTIxNzc1MTQ1.-48TejN46LAkRs-qr3IY8qrBbmo-L7v9QNsi0MCsQgQg.vL1A0UCV1zJyJZhxfY38JdY4gGUCpb79INO-dF37FLQg.PNG.taesiri/dungeons2.png?type=w2)  \n",
    "  \n",
    "+ 최소 1개 속성이 18(최대능력치 6+6+6)인 캐릭터를 생성학 확률은 대략 3%  \n"
   ]
  },
  {
   "cell_type": "code",
   "execution_count": null,
   "metadata": {
    "collapsed": true
   },
   "outputs": [],
   "source": []
  },
  {
   "cell_type": "code",
   "execution_count": null,
   "metadata": {
    "collapsed": true
   },
   "outputs": [],
   "source": []
  }
 ],
 "metadata": {
  "kernelspec": {
   "display_name": "Python [default]",
   "language": "python",
   "name": "python3"
  },
  "language_info": {
   "codemirror_mode": {
    "name": "ipython",
    "version": 3
   },
   "file_extension": ".py",
   "mimetype": "text/x-python",
   "name": "python",
   "nbconvert_exporter": "python",
   "pygments_lexer": "ipython3",
   "version": "3.5.2"
  }
 },
 "nbformat": 4,
 "nbformat_minor": 2
}
