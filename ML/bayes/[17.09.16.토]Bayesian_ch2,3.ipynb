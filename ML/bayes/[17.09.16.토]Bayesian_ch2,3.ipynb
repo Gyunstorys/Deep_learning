{
 "cells": [
  {
   "cell_type": "markdown",
   "metadata": {},
   "source": [
    "# Think Bayes"
   ]
  },
  {
   "cell_type": "markdown",
   "metadata": {},
   "source": [
    "+ [코드모음](https://github.com/AllenDowney/ThinkBayes2/tree/master/code)\n",
    "+ [thinkbayes2 모듈](https://github.com/AllenDowney/ThinkBayes2/blob/master/code/thinkbayes2.py)"
   ]
  },
  {
   "cell_type": "code",
   "execution_count": 1,
   "metadata": {
    "collapsed": true
   },
   "outputs": [],
   "source": [
    "import thinkbayes2"
   ]
  },
  {
   "cell_type": "markdown",
   "metadata": {},
   "source": [
    "## ch.2 계산통계 (2017.09.16)"
   ]
  },
  {
   "cell_type": "markdown",
   "metadata": {},
   "source": [
    "### 2.2 쿠키문제"
   ]
  },
  {
   "cell_type": "markdown",
   "metadata": {},
   "source": [
    "+ [쿠키문제링크](https://github.com/YBIGTA/Deep_learning/blob/master/ML/bayes/%5B2017.08.26.%ED%86%A0%5DThink%20Bayes_ch1.pdf)"
   ]
  },
  {
   "cell_type": "code",
   "execution_count": 2,
   "metadata": {
    "collapsed": true
   },
   "outputs": [],
   "source": [
    "from thinkbayes2 import Pmf"
   ]
  },
  {
   "cell_type": "code",
   "execution_count": 3,
   "metadata": {
    "collapsed": true,
    "scrolled": true
   },
   "outputs": [],
   "source": [
    "pmf = Pmf()"
   ]
  },
  {
   "cell_type": "code",
   "execution_count": 4,
   "metadata": {
    "collapsed": true
   },
   "outputs": [],
   "source": [
    "# 각 가설에 대해 사전 확률을 포함하는 분포 : 사전분포\n",
    "pmf.Set('Bowl 1', 0.5)\n",
    "pmf.Set('Bowl 2', 0.5)"
   ]
  },
  {
   "cell_type": "code",
   "execution_count": 5,
   "metadata": {
    "collapsed": true
   },
   "outputs": [],
   "source": [
    "#새로운 데이터(바닐라쿠키 비율)에 근거하여 이 사전분포를 갱신. 사전확률에 우도를 곱한다.\n",
    "pmf.Mult('Bowl 1', 0.75)\n",
    "pmf.Mult('Bowl 2', 0.5)"
   ]
  },
  {
   "cell_type": "code",
   "execution_count": 6,
   "metadata": {
    "scrolled": true
   },
   "outputs": [
    {
     "data": {
      "text/plain": [
       "0.625"
      ]
     },
     "execution_count": 6,
     "metadata": {},
     "output_type": "execute_result"
    }
   ],
   "source": [
    "pmf.Normalize()"
   ]
  },
  {
   "cell_type": "code",
   "execution_count": 7,
   "metadata": {},
   "outputs": [
    {
     "name": "stdout",
     "output_type": "stream",
     "text": [
      "그릇1의 사후확률: 0.600000\n",
      "그릇2의 사후확률: 0.400000\n"
     ]
    }
   ],
   "source": [
    "print('그릇1의 사후확률: %f' %pmf.Prob('Bowl 1'))\n",
    "print('그릇2의 사후확률: %f' %pmf.Prob('Bowl 2'))"
   ]
  },
  {
   "cell_type": "markdown",
   "metadata": {},
   "source": [
    "### 2.6 m&m문제"
   ]
  },
  {
   "cell_type": "markdown",
   "metadata": {},
   "source": [
    "+ [m&m문제링크](https://github.com/YBIGTA/Deep_learning/blob/master/ML/bayes/%5B2017.08.26.%ED%86%A0%5DThink%20Bayes_ch1.pdf)"
   ]
  },
  {
   "cell_type": "code",
   "execution_count": 8,
   "metadata": {
    "collapsed": true
   },
   "outputs": [],
   "source": [
    "from thinkbayes2 import Suite"
   ]
  },
  {
   "cell_type": "code",
   "execution_count": 9,
   "metadata": {
    "collapsed": true
   },
   "outputs": [],
   "source": [
    "class M_and_M(Suite):\n",
    "    \"\"\"Map from hypothesis (A or B) to probability.\"\"\"\n",
    "\n",
    "    mix94 = dict(brown=30,\n",
    "                 yellow=20,\n",
    "                 red=20,\n",
    "                 green=10,\n",
    "                 orange=10,\n",
    "                 tan=10,\n",
    "                 blue=0)\n",
    "\n",
    "    mix96 = dict(blue=24,\n",
    "                 green=20,\n",
    "                 orange=16,\n",
    "                 yellow=14,\n",
    "                 red=13,\n",
    "                 brown=13,\n",
    "                 tan=0)\n",
    "\n",
    "    hypoA = dict(bag1=mix94, bag2=mix96)\n",
    "    hypoB = dict(bag1=mix96, bag2=mix94)\n",
    "\n",
    "    hypotheses = dict(A=hypoA, B=hypoB)\n",
    "\n",
    "    def Likelihood(self, data, hypo):\n",
    "        \"\"\"Computes the likelihood of the data under the hypothesis.\n",
    "        hypo: string hypothesis (A or B)\n",
    "        data: tuple of string bag, string color\n",
    "        \"\"\"\n",
    "        bag, color = data\n",
    "        mix = self.hypotheses[hypo][bag]\n",
    "        like = mix[color]\n",
    "        return like"
   ]
  },
  {
   "cell_type": "code",
   "execution_count": 10,
   "metadata": {},
   "outputs": [
    {
     "name": "stdout",
     "output_type": "stream",
     "text": [
      "A 0.7407407407407407\n",
      "B 0.2592592592592592\n"
     ]
    }
   ],
   "source": [
    "def main():\n",
    "    suite = M_and_M('AB')\n",
    "\n",
    "    suite.Update(('bag1', 'yellow'))\n",
    "    suite.Update(('bag2', 'green'))\n",
    "\n",
    "    suite.Print()\n",
    "\n",
    "\n",
    "if __name__ == '__main__':\n",
    "    main()"
   ]
  },
  {
   "cell_type": "markdown",
   "metadata": {},
   "source": [
    "## ch.3 추정1 (2017.09.16)"
   ]
  },
  {
   "cell_type": "markdown",
   "metadata": {},
   "source": [
    "### 3.1 주사위 문제"
   ]
  },
  {
   "cell_type": "markdown",
   "metadata": {},
   "source": [
    "+ 4면체, 6면체, 8면체, 12면체, 20면체 주사위가 든 상자 \n",
    "+ 상자에서 임의로 주사위 하나를 집어서 던졌더니 6이 나옴 \n",
    "+ 각 주사위를 선택했을 확률은?\n"
   ]
  },
  {
   "cell_type": "markdown",
   "metadata": {},
   "source": [
    "\n",
    "1. 가설 설정 \n",
    "2. 데이터 설정 \n",
    "3. 우도함수 작성 "
   ]
  },
  {
   "cell_type": "code",
   "execution_count": 11,
   "metadata": {
    "collapsed": true
   },
   "outputs": [],
   "source": [
    "class Dice(Suite):\n",
    "    def Likelihood(self, data, hypo):\n",
    "        if hypo < data:\n",
    "            return 0\n",
    "            #주사위를 굴려서 나온 값이 주사위의 면 수보다 크다\n",
    "            #이런 경우는 없으므로 우도0\n",
    "        else:\n",
    "            return 1.0/hypo\n",
    "            #hypo-면 주사위가 있을때 각 데이터의 값이 나올 수 있는 확률은 얼마인가?\n",
    "            #확률 : 데이터에 상관없이 1/hypo"
   ]
  },
  {
   "cell_type": "code",
   "execution_count": 12,
   "metadata": {},
   "outputs": [
    {
     "name": "stdout",
     "output_type": "stream",
     "text": [
      "After one 6\n",
      "사후확률분포\n",
      "4 0.0\n",
      "6 0.3921568627450979\n",
      "8 0.2941176470588235\n",
      "12 0.19607843137254896\n",
      "20 0.11764705882352941\n",
      "=======================\n",
      "After more rolls\n",
      "사후확률분포\n",
      "4 0.0\n",
      "6 0.0\n",
      "8 0.9432484536722127\n",
      "12 0.055206128061290875\n",
      "20 0.001545418266496554\n"
     ]
    }
   ],
   "source": [
    "def main():\n",
    "    suite = Dice([4, 6, 8, 12, 20])\n",
    "\n",
    "    suite.Update(6)\n",
    "    #주사위값이 6이 나왔을때 각 주사위에서 나왔을 확률\n",
    "    print('After one 6')\n",
    "    print('사후확률분포')\n",
    "    suite.Print()\n",
    "    \n",
    "    print('=======================')\n",
    "    \n",
    "    for roll in [6, 8, 7, 7, 5, 4]:\n",
    "        suite.Update(roll)\n",
    "\n",
    "    print('After more rolls')\n",
    "    print('사후확률분포')\n",
    "    suite.Print()\n",
    "\n",
    "\n",
    "if __name__ == '__main__':\n",
    "    main()"
   ]
  },
  {
   "cell_type": "markdown",
   "metadata": {},
   "source": [
    "### 3.2 기관차 문제"
   ]
  },
  {
   "cell_type": "markdown",
   "metadata": {},
   "source": [
    "+ 각 철도를 지나는 기관차 1부터 N까지 순서로 번호를 붙인다.\n",
    "+ 어느날 60호 기관차를 보았다.\n",
    "+ 이 때 이 철도에는 몇 개의 기관차가 지나가는지 추측"
   ]
  },
  {
   "cell_type": "markdown",
   "metadata": {},
   "source": [
    "1. 데이터를 보기 전에 N에 대해 알고 있는 것은? --> 사전확률  \n",
    "2. N에 어떤 값이 주어졌을 때 관측한 데이터(60호 기관차)의 우도는 어떻게 되는가?"
   ]
  },
  {
   "cell_type": "markdown",
   "metadata": {},
   "source": [
    "+ 가정  \n",
    "> N : 1부터 1,000까지 어떤 값이든 동일한 확률로 선택"
   ]
  },
  {
   "cell_type": "code",
   "execution_count": 13,
   "metadata": {
    "collapsed": true
   },
   "outputs": [],
   "source": [
    "hypos = range(1,1001)"
   ]
  },
  {
   "cell_type": "markdown",
   "metadata": {},
   "source": [
    "+ 우도함수\n",
    "+ N개의 기관차 중 60호 기관차를 볼 확률은? \n",
    "+ 열차운영회사가 하나라고 가정할 때 각기관차를 볼 확률 동일. 따라서 1/N"
   ]
  },
  {
   "cell_type": "code",
   "execution_count": 14,
   "metadata": {
    "collapsed": true
   },
   "outputs": [],
   "source": [
    "class Train(Suite):\n",
    "    def Likelihood(self,data,hypo):\n",
    "        if hypo < data:\n",
    "            return 0\n",
    "            #기차가 60번까지인데 61번 기차를 볼 수는 없으니 0\n",
    "        else:\n",
    "            return 1.0/hypo\n",
    "            #1/N"
   ]
  },
  {
   "cell_type": "code",
   "execution_count": 15,
   "metadata": {
    "collapsed": true
   },
   "outputs": [],
   "source": [
    "suite = Train(hypos)"
   ]
  },
  {
   "cell_type": "code",
   "execution_count": 16,
   "metadata": {
    "scrolled": true
   },
   "outputs": [
    {
     "data": {
      "text/plain": [
       "0.0028222671142652746"
      ]
     },
     "execution_count": 16,
     "metadata": {},
     "output_type": "execute_result"
    }
   ],
   "source": [
    "#갱신함수\n",
    "#데이터 : 60\n",
    "suite.Update(60)"
   ]
  },
  {
   "cell_type": "code",
   "execution_count": 17,
   "metadata": {
    "collapsed": true
   },
   "outputs": [],
   "source": [
    "#사후확률의 평균을 계산 : 각 확률 X 전철 번호\n",
    "def Mean(suite):\n",
    "    total = 0\n",
    "    for hypo, prob in suite.Items():\n",
    "        total += hypo*prob\n",
    "    return total"
   ]
  },
  {
   "cell_type": "code",
   "execution_count": 18,
   "metadata": {
    "scrolled": true
   },
   "outputs": [
    {
     "name": "stdout",
     "output_type": "stream",
     "text": [
      "333.41989326371095\n"
     ]
    }
   ],
   "source": [
    "print(Mean(suite))"
   ]
  },
  {
   "cell_type": "markdown",
   "metadata": {},
   "source": [
    "333대의 기관차가 지나갔다고 볼 수 있다."
   ]
  },
  {
   "cell_type": "code",
   "execution_count": 19,
   "metadata": {
    "collapsed": true
   },
   "outputs": [],
   "source": [
    "import thinkplot"
   ]
  },
  {
   "cell_type": "code",
   "execution_count": 20,
   "metadata": {
    "scrolled": true
   },
   "outputs": [
    {
     "name": "stdout",
     "output_type": "stream",
     "text": [
      "Writing train1.pdf\n",
      "Writing train1.eps\n"
     ]
    },
    {
     "name": "stderr",
     "output_type": "stream",
     "text": [
      "c:\\program files\\anaconda3\\lib\\site-packages\\matplotlib\\axes\\_axes.py:545: UserWarning: No labelled objects found. Use label='...' kwarg on individual plots.\n",
      "  warnings.warn(\"No labelled objects found. \"\n"
     ]
    }
   ],
   "source": [
    "thinkplot.PrePlot(1)\n",
    "thinkplot.Pmf(suite)\n",
    "thinkplot.Save(root='train1',xlabel='Number of trains',ylabel='Probability',formats=['pdf', 'eps'])"
   ]
  },
  {
   "cell_type": "markdown",
   "metadata": {},
   "source": [
    "![train_posterior_dist](img/train1.png)"
   ]
  },
  {
   "cell_type": "markdown",
   "metadata": {
    "collapsed": true
   },
   "source": [
    "### 3.3 사전확률로 알 수 있는 것"
   ]
  },
  {
   "cell_type": "markdown",
   "metadata": {},
   "source": [
    "> 사전확률을 1부터 1000까지의 균등분포로 가정  \n",
    "> 사후확률의 평균은 333이었음  \n",
    "> 상한값이 500 -> 사후확률 평균 207  \n",
    "> 상한값이 2000 -> 사후확률평균 552"
   ]
  },
  {
   "cell_type": "markdown",
   "metadata": {},
   "source": [
    "좋지 않은 추정방법 따라서 두 가지 방식으로 진행가능 (범위설정에 따라서 사후확률 평균 차이가 심함)\n",
    "+ 데이터를 더 확보한다.\n",
    "+ 배경지식을 더 확보한다."
   ]
  },
  {
   "cell_type": "markdown",
   "metadata": {},
   "source": [
    "#### 데이터가 더 많다면 사후확률 간 차이가 작아진다."
   ]
  },
  {
   "cell_type": "markdown",
   "metadata": {},
   "source": [
    "+ 60호 기관차에 이어서 30번과 90번 기관차도 보았다  --> 데이터 추가 확보"
   ]
  },
  {
   "cell_type": "code",
   "execution_count": 21,
   "metadata": {
    "collapsed": true
   },
   "outputs": [],
   "source": [
    "hypos500 = range(1,501)\n",
    "hypos1000 = range(1,1001)\n",
    "hypos2000 = range(1,2001)"
   ]
  },
  {
   "cell_type": "code",
   "execution_count": 22,
   "metadata": {
    "collapsed": true
   },
   "outputs": [],
   "source": [
    "class Train(Suite):\n",
    "    def Likelihood(self,data,hypo):\n",
    "        if hypo < data:\n",
    "            return 0\n",
    "            #기차가 60번까지인데 61번 기차를 볼 수는 없으니 0\n",
    "        else:\n",
    "            return 1.0/hypo\n",
    "            #1/N"
   ]
  },
  {
   "cell_type": "code",
   "execution_count": 23,
   "metadata": {
    "collapsed": true
   },
   "outputs": [],
   "source": [
    "suite500 = Train(hypos500)"
   ]
  },
  {
   "cell_type": "code",
   "execution_count": 24,
   "metadata": {
    "collapsed": true
   },
   "outputs": [],
   "source": [
    "suite1000 = Train(hypos1000)"
   ]
  },
  {
   "cell_type": "code",
   "execution_count": 25,
   "metadata": {
    "collapsed": true
   },
   "outputs": [],
   "source": [
    "suite2000 = Train(hypos2000)"
   ]
  },
  {
   "cell_type": "code",
   "execution_count": 26,
   "metadata": {
    "collapsed": true
   },
   "outputs": [],
   "source": [
    "for data in [60,30,90]:\n",
    "    suite500.Update(data)\n",
    "    suite1000.Update(data)\n",
    "    suite2000.Update(data)"
   ]
  },
  {
   "cell_type": "code",
   "execution_count": 27,
   "metadata": {
    "collapsed": true
   },
   "outputs": [],
   "source": [
    "#사후확률의 평균을 계산 : 각 확률 X 전철 번호\n",
    "def Mean(suite):\n",
    "    total = 0\n",
    "    for hypo, prob in suite.Items():\n",
    "        total += hypo*prob\n",
    "    return total"
   ]
  },
  {
   "cell_type": "code",
   "execution_count": 28,
   "metadata": {},
   "outputs": [
    {
     "name": "stdout",
     "output_type": "stream",
     "text": [
      "151.84958795903822\n",
      "164.3055864227336\n",
      "171.3381810915094\n"
     ]
    }
   ],
   "source": [
    "print(Mean(suite500))\n",
    "print(Mean(suite1000))\n",
    "print(Mean(suite2000))"
   ]
  },
  {
   "cell_type": "markdown",
   "metadata": {},
   "source": [
    "|상한선|사후평균|\n",
    "|------|------|\n",
    "|500   |152   |\n",
    "|1,000  |164   |\n",
    "|2,000  |171   |"
   ]
  },
  {
   "cell_type": "markdown",
   "metadata": {},
   "source": [
    "+ 데이터 증가 : 60호 기관차만 봄 --> 30호,60호,90호 기관차 확인  \n",
    "+ 상한선에 따른 사후평균의 차이가 줄어들었다."
   ]
  },
  {
   "cell_type": "markdown",
   "metadata": {},
   "source": [
    "### 3.4 사전확률의 대안"
   ]
  },
  {
   "cell_type": "markdown",
   "metadata": {},
   "source": [
    "+ 데이터를 더 확보할 수 없다면 배경지식을 많이 수집하여 사전 확률을 개선하는 방식도 있음  \n",
    "+ 1,000대의 기관차를 운영하는 회사라는 가정은 철도회사가 하나 뿐이라는 가정만큼 비합리적 \n",
    "   \n",
    "   \n",
    "   \n",
    "+ 철도 회사의 목록을 찾아보거나 운송 분야 전문가와 인터뷰를 통한 배경지식 확대 ... or  \n",
    "+ 학습된 추측 : (ex) 대부분의 산업에서 소기업이 다수, 중견기업은 적고, 대기업은 몇 곳 없다.\n",
    "  \n",
    "  \n",
    "    \n",
    "+ 회사 규모의 분포는 로버트 액스탤(Robert Axtell)이 사이언스 지에 이고한 **멱법칙**을 따른다.  \n",
    "[참고링크 : Zipf Distribution of U.S. Firm Sizes](http://science.sciencemag.org/content/293/5536/1818)"
   ]
  },
  {
   "cell_type": "markdown",
   "metadata": {},
   "source": [
    "$$PMF(x) \\propto (\\frac{1}{x})^a  $$\n",
    "\n",
    "+ $PMF(x)$는 x의 확률 누적함수이고 $\\alpha$는 보통 1에 가깝게 설정되는 매개변수"
   ]
  },
  {
   "cell_type": "code",
   "execution_count": 29,
   "metadata": {
    "collapsed": true
   },
   "outputs": [],
   "source": [
    "#멱법칙\n",
    "class Train(Dice):\n",
    "    def __init__(self,hypos,alpha=1.0):\n",
    "        Pmf.__init__(self)\n",
    "        for hypo in hypos:\n",
    "            self.Set(hypo, hypo**(-alpha))\n",
    "        self.Normalize()"
   ]
  },
  {
   "cell_type": "code",
   "execution_count": 30,
   "metadata": {
    "collapsed": true
   },
   "outputs": [],
   "source": [
    "#사전확률 생성\n",
    "new_hypos500 = range(1,501)\n",
    "new_hypos1000 = range(1,1001)\n",
    "new_hypos2000 = range(1,2001)\n",
    "\n",
    "new_suite500 = Train(new_hypos500)\n",
    "new_suite1000 = Train(new_hypos1000)\n",
    "new_suite2000 = Train(new_hypos2000)"
   ]
  },
  {
   "cell_type": "code",
   "execution_count": 31,
   "metadata": {
    "collapsed": true
   },
   "outputs": [],
   "source": [
    "for data in [60,30,90]:\n",
    "    new_suite500.Update(data)\n",
    "    new_suite1000.Update(data)\n",
    "    new_suite2000.Update(data)"
   ]
  },
  {
   "cell_type": "code",
   "execution_count": 32,
   "metadata": {
    "collapsed": true
   },
   "outputs": [],
   "source": [
    "#사후확률의 평균을 계산 : 각 확률 X 전철 번호\n",
    "def Mean(suite):\n",
    "    total = 0\n",
    "    for hypo, prob in suite.Items():\n",
    "        total += hypo*prob\n",
    "    return total"
   ]
  },
  {
   "cell_type": "code",
   "execution_count": 33,
   "metadata": {},
   "outputs": [
    {
     "name": "stdout",
     "output_type": "stream",
     "text": [
      "130.70846986256004\n",
      "133.2752313750312\n",
      "133.99746308073065\n"
     ]
    }
   ],
   "source": [
    "print(Mean(new_suite500))\n",
    "print(Mean(new_suite1000))\n",
    "print(Mean(new_suite2000))"
   ]
  },
  {
   "cell_type": "markdown",
   "metadata": {},
   "source": [
    "|상한선|사후평균|\n",
    "|------|------|\n",
    "|500   |131   |\n",
    "|1,000  |133   |\n",
    "|2,000  |134   |"
   ]
  },
  {
   "cell_type": "markdown",
   "metadata": {},
   "source": [
    "+ 옅은 색 : 멱법칙 사전확률에 따른 사후확률\n",
    "+ 짙은 색 : 균등분포 사전확률에 따른 사후확률\n",
    "![멱법칙 사전 확률에 따른 사후확률 분포와 균등 분포 사전확률 비교](img/train4.png)"
   ]
  },
  {
   "cell_type": "markdown",
   "metadata": {},
   "source": [
    "### 3.5 신뢰구간"
   ]
  },
  {
   "cell_type": "markdown",
   "metadata": {},
   "source": [
    "+ 점추정 : 평균, 중간값, 최대 우도값 사용  \n",
    "+ 구간추정 : 신뢰구간 정의 --> 사후분포확률을 더한 후 그 값이 5%와 95%에 해당하는 값을 기록. 즉 5분위와 95분위 값"
   ]
  },
  {
   "cell_type": "code",
   "execution_count": 34,
   "metadata": {
    "collapsed": true
   },
   "outputs": [],
   "source": [
    "def Percentile(pmf, percentage):\n",
    "    p = percentage/100.0\n",
    "    total = 0\n",
    "    for val, prob in pmf.Items():\n",
    "        total += prob\n",
    "        if total >= p:\n",
    "            return val"
   ]
  },
  {
   "cell_type": "code",
   "execution_count": 35,
   "metadata": {},
   "outputs": [
    {
     "name": "stdout",
     "output_type": "stream",
     "text": [
      "(91, 242)\n"
     ]
    }
   ],
   "source": [
    "#멱법칙 적용, N : 1000일때 신뢰구간\n",
    "interval = Percentile(new_suite1000,5), Percentile(new_suite1000,95)\n",
    "print(interval)"
   ]
  },
  {
   "cell_type": "markdown",
   "metadata": {},
   "source": [
    "### 3.6 누적분포 함수"
   ]
  },
  {
   "cell_type": "markdown",
   "metadata": {
    "collapsed": true
   },
   "source": [
    "+ 몇 분위 이상을 계산할 때 : PMF 보다 CDF가 효율적  \n",
    "+ CDF장점 : 분위수 계산이 효율적  \n",
    "+ CDF : PDF와 동일한 정보, PDF <-> CDF 변경 가능  "
   ]
  },
  {
   "cell_type": "code",
   "execution_count": 36,
   "metadata": {
    "collapsed": true
   },
   "outputs": [],
   "source": [
    "cdf = new_suite1000.MakeCdf()"
   ]
  },
  {
   "cell_type": "code",
   "execution_count": 37,
   "metadata": {
    "collapsed": true
   },
   "outputs": [],
   "source": [
    "interval_from_cdf = cdf.Percentile(5), cdf.Percentile(95)"
   ]
  },
  {
   "cell_type": "code",
   "execution_count": 38,
   "metadata": {},
   "outputs": [
    {
     "name": "stdout",
     "output_type": "stream",
     "text": [
      "(91, 242)\n"
     ]
    }
   ],
   "source": [
    "print(interval_from_cdf)"
   ]
  },
  {
   "cell_type": "markdown",
   "metadata": {},
   "source": [
    "### 3.7 독일 탱크 문제"
   ]
  },
  {
   "cell_type": "markdown",
   "metadata": {},
   "source": [
    "+ 2차 대전 당시 런던의 미대사관 EWD(Economic Warfare Division) : 독일 탱크 장비 생산량 추정  \n",
    "+ 탱크의 섀시와 엔진의 시리얼 번호, 기록 책, 장부, 수리 기록 확보  \n",
    "+ 시리얼 번호는 제조사에 따라 할당  \n",
    "+ 탱크 유형은 100개 숫자 블록  \n",
    "+ 각 블록의 수가 모두 사용된 것은 아니었음  \n",
    "+ 이 문제는 위의 기관차 문제와 유사  \n",
    "+ 기본 정보를 파악한 미국, 영국 분석가들은 추정치 도출 : 전후 기록물에 따르면 대체로 정확한 예측"
   ]
  },
  {
   "cell_type": "code",
   "execution_count": 42,
   "metadata": {
    "collapsed": true
   },
   "outputs": [],
   "source": [
    "import pandoc"
   ]
  },
  {
   "cell_type": "code",
   "execution_count": null,
   "metadata": {
    "collapsed": true
   },
   "outputs": [],
   "source": []
  }
 ],
 "metadata": {
  "anaconda-cloud": {},
  "kernelspec": {
   "display_name": "Python [default]",
   "language": "python",
   "name": "python3"
  },
  "language_info": {
   "codemirror_mode": {
    "name": "ipython",
    "version": 3
   },
   "file_extension": ".py",
   "mimetype": "text/x-python",
   "name": "python",
   "nbconvert_exporter": "python",
   "pygments_lexer": "ipython3",
   "version": "3.5.2"
  }
 },
 "nbformat": 4,
 "nbformat_minor": 2
}
