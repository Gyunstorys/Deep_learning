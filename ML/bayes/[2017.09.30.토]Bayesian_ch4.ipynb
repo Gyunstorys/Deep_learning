{
 "cells": [
  {
   "cell_type": "markdown",
   "metadata": {},
   "source": [
    "# Think Bayes"
   ]
  },
  {
   "cell_type": "markdown",
   "metadata": {},
   "source": [
    "+ [코드모음](https://github.com/AllenDowney/ThinkBayes2/tree/master/code)\n",
    "+ [thinkbayes2 모듈](https://github.com/AllenDowney/ThinkBayes2/blob/master/code/thinkbayes2.py)"
   ]
  },
  {
   "cell_type": "markdown",
   "metadata": {},
   "source": [
    "## Ch.4 : 추정2"
   ]
  },
  {
   "cell_type": "markdown",
   "metadata": {},
   "source": [
    "### 4.1 유로 문제"
   ]
  },
  {
   "cell_type": "markdown",
   "metadata": {},
   "source": [
    "> 가디언지 2002년 1월 4일 금요일  \n",
    "> 벨기에 1유로 동전 실험  \n",
    "> 축을 중심으로 250번 회전 : 앞면 140회, 뒷면 110회  \n",
    "> + LSE교수 베리 브라이트 : '내가 보기엔 의심스럽다. 만약 동전이 한 쪽으로 기울어지넥 아니라면, 결과가 이렇게 치우칠 확률은 7% 미만이다.'  \n",
    "> + 데이빗 맥케이 : 이 데이터로 동전이 한 쪽으로 기울었다는 것을 증명할 수 있는가?\n"
   ]
  },
  {
   "cell_type": "markdown",
   "metadata": {},
   "source": [
    "<답을 위한 2단계>  \n",
    "1. 앞면 나올 확률 추정  \n",
    "2. 데이터가 가설(동전이 기울었다)을 지지하는지 평가  "
   ]
  },
  {
   "cell_type": "markdown",
   "metadata": {},
   "source": [
    "+ $ x $ : 주어진 동전을 돌렸을 때 앞면이 나오며 넘어갈 확률  \n",
    "+ $ x $의 값은 동전의 무게 분포 등 물리적 성격에 따라 달라진다.    \n",
    "+ 동전의 무게가 완벽히 균등하다면 $ x $ : 50%  \n",
    "+ 한 쪽으로 기울어진 동전이라면 상대적으로 $ x $의 값은 달라진다.  \n",
    "+ 여기에 베이즈 이론을 적용하여 데이터 관측을 통해 $ x $ 추정 가능  \n",
    "+ $ Hx $ : 앞면이 나올 확률은 $ x$%  \n",
    "+ $ Hx $의 확률은 모든 $x$에 대해서 동일 (균등 사전 분포에서 시작)  "
   ]
  },
  {
   "cell_type": "code",
   "execution_count": 3,
   "metadata": {
    "collapsed": true
   },
   "outputs": [],
   "source": [
    "import thinkbayes2\n",
    "import thinkplot"
   ]
  },
  {
   "cell_type": "code",
   "execution_count": 15,
   "metadata": {},
   "outputs": [],
   "source": [
    "#우도함수\n",
    "class Euro(thinkbayes2.Suite):\n",
    "    \"\"\"Represents hypotheses about the probability of heads.\"\"\"\n",
    "\n",
    "    def Likelihood(self, data, hypo):\n",
    "        \"\"\"Computes the likelihood of the data under the hypothesis.\n",
    "        hypo: integer value of x, the probability of heads (0-100)\n",
    "        data: string 'H' or 'T'\n",
    "        \"\"\"\n",
    "        x = hypo / 100.0\n",
    "        if data == 'H':\n",
    "            return x\n",
    "        else:\n",
    "            return 1-x"
   ]
  },
  {
   "cell_type": "code",
   "execution_count": 16,
   "metadata": {
    "collapsed": true
   },
   "outputs": [],
   "source": [
    "# 균등 사전분포\n",
    "def UniformPrior():\n",
    "    \"\"\"Makes a Suite with a uniform prior.\"\"\"\n",
    "    suite = Euro(range(0, 101))\n",
    "    return suite"
   ]
  },
  {
   "cell_type": "code",
   "execution_count": 17,
   "metadata": {
    "collapsed": true
   },
   "outputs": [],
   "source": [
    "# 삼각 사전분포\n",
    "def TrianglePrior():\n",
    "    \"\"\"Makes a Suite with a triangular prior.\"\"\"\n",
    "    suite = Euro()\n",
    "    for x in range(0, 51):\n",
    "        suite.Set(x, x)\n",
    "    for x in range(51, 101):\n",
    "        suite.Set(x, 100-x) \n",
    "    suite.Normalize()\n",
    "    return suite"
   ]
  },
  {
   "cell_type": "code",
   "execution_count": 18,
   "metadata": {
    "collapsed": true
   },
   "outputs": [],
   "source": [
    "#앞면, 뒷면 횟수 정보 업데이트\n",
    "def RunUpdate(suite, heads=140, tails=110):\n",
    "    \"\"\"Updates the Suite with the given number of heads and tails.\n",
    "    suite: Suite object\n",
    "    heads: int\n",
    "    tails: int\n",
    "    \"\"\"\n",
    "    dataset = 'H' * heads + 'T' * tails\n",
    "\n",
    "    for data in dataset:\n",
    "        suite.Update(data)"
   ]
  },
  {
   "cell_type": "code",
   "execution_count": 19,
   "metadata": {
    "collapsed": true
   },
   "outputs": [],
   "source": [
    "def Summarize(suite):\n",
    "    \"\"\"Prints summary statistics for the suite.\"\"\"\n",
    "    print(suite.Prob(50))\n",
    "\n",
    "    print('MLE', suite.MaximumLikelihood())\n",
    "\n",
    "    print('Mean', suite.Mean())\n",
    "    print('Median', suite.Percentile(50)) \n",
    "\n",
    "    print('5th %ile', suite.Percentile(5)) \n",
    "    print('95th %ile', suite.Percentile(95)) \n",
    "\n",
    "    print('CI', suite.CredibleInterval(90))"
   ]
  },
  {
   "cell_type": "code",
   "execution_count": 20,
   "metadata": {
    "collapsed": true
   },
   "outputs": [],
   "source": [
    "def PlotSuites(suites, root):\n",
    "    \"\"\"Plots two suites.\n",
    "    suite1, suite2: Suite objects\n",
    "    root: string filename to write\n",
    "    \"\"\"\n",
    "    thinkplot.Clf()\n",
    "    thinkplot.PrePlot(len(suites))\n",
    "    thinkplot.Pmfs(suites)\n",
    "\n",
    "    thinkplot.Save(root=root,\n",
    "                   xlabel='x',\n",
    "                   ylabel='Probability',\n",
    "                   formats=['pdf', 'eps'])\n"
   ]
  },
  {
   "cell_type": "code",
   "execution_count": 21,
   "metadata": {
    "collapsed": true
   },
   "outputs": [],
   "source": [
    "def main():\n",
    "    # make the priors\n",
    "    suite1 = UniformPrior()\n",
    "    suite1.name = 'uniform'\n",
    "\n",
    "    suite2 = TrianglePrior()\n",
    "    suite2.name = 'triangle'\n",
    "\n",
    "    # plot the priors\n",
    "    PlotSuites([suite1, suite2], 'euro2')\n",
    "\n",
    "    # update\n",
    "    RunUpdate(suite1)\n",
    "    Summarize(suite1)\n",
    "\n",
    "    RunUpdate(suite2)\n",
    "    Summarize(suite2)\n",
    "\n",
    "    # plot the posteriors\n",
    "    PlotSuites([suite1], 'euro1')\n",
    "    PlotSuites([suite1, suite2], 'euro3')\n"
   ]
  },
  {
   "cell_type": "code",
   "execution_count": 22,
   "metadata": {},
   "outputs": [
    {
     "name": "stderr",
     "output_type": "stream",
     "text": [
      "c:\\program files\\anaconda3\\lib\\site-packages\\matplotlib\\axes\\_axes.py:545: UserWarning: No labelled objects found. Use label='...' kwarg on individual plots.\n",
      "  warnings.warn(\"No labelled objects found. \"\n"
     ]
    },
    {
     "name": "stdout",
     "output_type": "stream",
     "text": [
      "Writing euro2.pdf\n",
      "Writing euro2.eps\n",
      "0.02097652612954468\n",
      "MLE 56\n",
      "Mean 55.952380952380956\n",
      "Median 56\n",
      "5th %ile 51\n",
      "95th %ile 61\n",
      "CI (51, 61)\n",
      "0.02384753721469363\n",
      "MLE 56\n",
      "Mean 55.74349943859506\n",
      "Median 56\n",
      "5th %ile 51\n",
      "95th %ile 61\n",
      "CI (51, 61)\n",
      "Writing euro1.pdf\n",
      "Writing euro1.eps\n",
      "Writing euro3.pdf\n",
      "Writing euro3.eps\n"
     ]
    }
   ],
   "source": [
    "if __name__ == '__main__':\n",
    "    main()"
   ]
  },
  {
   "cell_type": "markdown",
   "metadata": {},
   "source": [
    "균등사전확률에 대한 사후 확률 분포\n",
    "![uniform](http://postfiles16.naver.net/MjAxNzA5MzBfMTM2/MDAxNTA2NzE4MTM0OTM3.cEmJOxmOMiPbg1dlNfbEb-aDQNWLVDSu3vF9lFomv_og.HOM72MQyd_5ElQqxhaYmNK8rkjvVLJIC1MkRqnzNc24g.PNG.taesiri/euro1.png?type=w2)"
   ]
  },
  {
   "cell_type": "markdown",
   "metadata": {},
   "source": [
    "### 4.2 사후 확률 요약하기"
   ]
  },
  {
   "cell_type": "code",
   "execution_count": 26,
   "metadata": {
    "scrolled": true
   },
   "outputs": [
    {
     "name": "stdout",
     "output_type": "stream",
     "text": [
      "0.02097652612954468\n",
      "MLE 56\n",
      "Mean 55.952380952380956\n",
      "Median 56\n",
      "5th %ile 51\n",
      "95th %ile 61\n",
      "CI (51, 61)\n"
     ]
    }
   ],
   "source": [
    "#요약\n",
    "suite1 = UniformPrior()\n",
    "suite1.name = 'uniform'\n",
    "\n",
    "RunUpdate(suite1)\n",
    "Summarize(suite1)"
   ]
  },
  {
   "cell_type": "markdown",
   "metadata": {},
   "source": [
    "결과값 :56  \n",
    "앞면의 비율인 140/250 * 100 = 0.56(56%)과 일치  \n",
    "평균 : 55.95  \n",
    "중위수 : 56  \n",
    "95% 신뢰구간 : (51, 61)  "
   ]
  },
  {
   "cell_type": "markdown",
   "metadata": {},
   "source": [
    "사후 신뢰구간이 50%를 포함하고 있지 않음 --> 동전이 평평하지 않다"
   ]
  },
  {
   "cell_type": "markdown",
   "metadata": {},
   "source": [
    "### 4.3 사전분포 범람"
   ]
  },
  {
   "cell_type": "markdown",
   "metadata": {},
   "source": [
    "+ 균등 사전 분포는 좋은 선택이 아니다.  \n",
    "+ 만약 동전이 한 쪽으로 치우쳐 있다면 $x$는 50%를 살짝 벗어날 것이지만  \n",
    "+ 벨기에 유로 동전은 심각하게 균등하지 않아서 $x$가 10%이거나 90%일 것이라고 생각하기 힘들다.  \n",
    "+ 50%에 가까운 $x$의 값에 더 높은 확률을 부여하고 극단 값에 낮은 확률을 부여하는 사전확률이 더 자연스럽다.  "
   ]
  },
  {
   "cell_type": "code",
   "execution_count": null,
   "metadata": {
    "collapsed": true
   },
   "outputs": [],
   "source": [
    "# 삼각 사전분포 (실행x)\n",
    "def TrianglePrior():\n",
    "    \"\"\"Makes a Suite with a triangular prior.\"\"\"\n",
    "    suite = Euro()\n",
    "    for x in range(0, 51):\n",
    "        suite.Set(x, x)\n",
    "    for x in range(51, 101):\n",
    "        suite.Set(x, 100-x) \n",
    "    suite.Normalize()\n",
    "    return suite"
   ]
  },
  {
   "cell_type": "markdown",
   "metadata": {},
   "source": [
    "균등 사전확률과 삼각 사전 확률  \n",
    "+ 짙은색 : 균등  \n",
    "+ 옅은색 : 삼각\n",
    "![삼각사전분포](http://postfiles10.naver.net/MjAxNzA5MzBfMTEx/MDAxNTA2NzIwMjUzMDc0.M9LgIgO-Xd9nn8rhw78KJS8WTCwWdrlNoAanhWAh0cYg.dt-h2jUdZG-SABikC5kL7EB-6d85hSUJMWpEX8ZyFJ4g.PNG.taesiri/euro2.png?type=w2)"
   ]
  },
  {
   "cell_type": "markdown",
   "metadata": {},
   "source": [
    "+ 동일한 데이터 셋의 사전확률을 갱신하여 사후 확률을 나타내기"
   ]
  },
  {
   "attachments": {},
   "cell_type": "markdown",
   "metadata": {},
   "source": [
    "+ 짙은색 : 균등  \n",
    "+ 옅은색 : 삼각\n",
    "![사후확률 비교](http://postfiles10.naver.net/MjAxNzA5MzBfMjI3/MDAxNTA2NzIwNDEzMjc3.lxN7rWlPvEV5AK4dJ626OqRaEpiKOlfEkc31koH5qa0g.xCF32AXqbb9tbX25CbTQ8RiEDMY6eDltGsrHdxOhmssg.PNG.taesiri/euro3.png?type=w2)"
   ]
  },
  {
   "cell_type": "markdown",
   "metadata": {},
   "source": [
    "+ 사전확률이 다름에도 불구하고(균등과 삼각)  사후 확률 분포는 유사하다.  "
   ]
  },
  {
   "cell_type": "code",
   "execution_count": 27,
   "metadata": {},
   "outputs": [
    {
     "name": "stdout",
     "output_type": "stream",
     "text": [
      "0.02384753721469363\n",
      "MLE 56\n",
      "Mean 55.74349943859506\n",
      "Median 56\n",
      "5th %ile 51\n",
      "95th %ile 61\n",
      "CI (51, 61)\n"
     ]
    }
   ],
   "source": [
    "#요약\n",
    "suite2 = TrianglePrior()\n",
    "suite2.name = 'triangle'\n",
    "\n",
    "RunUpdate(suite2)\n",
    "Summarize(suite2)"
   ]
  },
  {
   "cell_type": "markdown",
   "metadata": {},
   "source": [
    "+ MLE, 중간값, 신뢰구간은 균등분포와 동일  \n",
    "+ 평균은 55.74(삼각사전분포)로 55.95(균등사전분포)와 0.5% 미만의 차이   "
   ]
  },
  {
   "cell_type": "markdown",
   "metadata": {},
   "source": [
    "**사전 분포 범람**  \n",
    ": 데이터가 충분하다면 서로 다른 사전 확률을 가지고 시작해도 동일한 사후 확률로 수렴하는 경향"
   ]
  },
  {
   "cell_type": "markdown",
   "metadata": {},
   "source": [
    "### 4.5 베타 분포"
   ]
  },
  {
   "cell_type": "markdown",
   "metadata": {},
   "source": [
    "+ 베타 분포는 켤레 사전 분포(conjugate prior, 사후 분포가 사전 분포와 동일)  \n",
    "+ x에 대한 사전 분포가 베타 분포라면, 사후 확률 역시 베타 분포  \n",
    "+ 베타 분포의 모양은 $\\alpha$와 $\\beta$ 두 값에 따라 달라진다.  \n",
    "+ 사전분포가 alpha와 beta에 대한 분포이고 앞면 h와 뒷면 t의 데이터를 가지고 있다면  \n",
    "+ 사후확률은 alpha+h와 beta+t에 대한 베타 분포가 될 것. 즉, 두 개를 추가해서 갱신   \n",
    "+ 이는 베타 분포가 사전 분포로 적합한 경우에만 동작한다.  \n",
    "+ 베타 분포는 많은 경우에 좋은 추정값으로 사용. 균등 사전 분포의 경우 완벽하게 맞아 떨어진다.  \n",
    "+ alpha =1, beta=1인 베타 분포는 0부터 1까지 균등"
   ]
  },
  {
   "cell_type": "code",
   "execution_count": 31,
   "metadata": {
    "scrolled": true
   },
   "outputs": [
    {
     "data": {
      "text/plain": [
       "'\\nclass Beta:\\n    \"\"\"Represents a Beta distribution.\\n    See http://en.wikipedia.org/wiki/Beta_distribution\\n    \"\"\"\\n    def __init__(self, alpha=1, beta=1, label=None):\\n        \"\"\"Initializes a Beta distribution.\"\"\"\\n        self.alpha = alpha\\n        self.beta = beta\\n        self.label = label if label is not None else \\'_nolegend_\\'\\n\\n    def Update(self, data):\\n        \"\"\"Updates a Beta distribution.\\n        data: pair of int (heads, tails)\\n        \"\"\"\\n        heads, tails = data\\n        self.alpha += heads\\n        self.beta += tails\\n\\n    def Mean(self):\\n        \"\"\"Computes the mean of this distribution.\"\"\"\\n        return self.alpha / (self.alpha + self.beta)\\n'"
      ]
     },
     "execution_count": 31,
     "metadata": {},
     "output_type": "execute_result"
    }
   ],
   "source": [
    "'''\n",
    "class Beta:\n",
    "    \"\"\"Represents a Beta distribution.\n",
    "    See http://en.wikipedia.org/wiki/Beta_distribution\n",
    "    \"\"\"\n",
    "    def __init__(self, alpha=1, beta=1, label=None):\n",
    "        \"\"\"Initializes a Beta distribution.\"\"\"\n",
    "        self.alpha = alpha\n",
    "        self.beta = beta\n",
    "        self.label = label if label is not None else '_nolegend_'\n",
    "\n",
    "    def Update(self, data):\n",
    "        \"\"\"Updates a Beta distribution.\n",
    "        data: pair of int (heads, tails)\n",
    "        \"\"\"\n",
    "        heads, tails = data\n",
    "        self.alpha += heads\n",
    "        self.beta += tails\n",
    "\n",
    "    def Mean(self):\n",
    "        \"\"\"Computes the mean of this distribution.\"\"\"\n",
    "        return self.alpha / (self.alpha + self.beta)\n",
    "'''"
   ]
  },
  {
   "cell_type": "code",
   "execution_count": 30,
   "metadata": {},
   "outputs": [
    {
     "name": "stdout",
     "output_type": "stream",
     "text": [
      "0.5595238095238095\n"
     ]
    }
   ],
   "source": [
    "beta = thinkbayes2.Beta()\n",
    "beta.Update((140,110))\n",
    "print(beta.Mean())"
   ]
  },
  {
   "cell_type": "markdown",
   "metadata": {},
   "source": [
    "+ 사전확률 56%로 이전 결과와 동일"
   ]
  },
  {
   "cell_type": "markdown",
   "metadata": {},
   "source": [
    "### 결론"
   ]
  },
  {
   "cell_type": "markdown",
   "metadata": {},
   "source": [
    "+ 동일한 문제를 두 개의 서로 다른 사전 분포로 해결  \n",
    "+ 데이터 셋이 큰 경우에 사전 분포 범람 현상이 발생   \n",
    "+ 서로 다른 사전 확률로 시작하여도 데이터를 접하면서 (update) 사후 확률이 수렴  "
   ]
  },
  {
   "cell_type": "code",
   "execution_count": null,
   "metadata": {
    "collapsed": true
   },
   "outputs": [],
   "source": []
  }
 ],
 "metadata": {
  "anaconda-cloud": {},
  "kernelspec": {
   "display_name": "Python [default]",
   "language": "python",
   "name": "python3"
  },
  "language_info": {
   "codemirror_mode": {
    "name": "ipython",
    "version": 3
   },
   "file_extension": ".py",
   "mimetype": "text/x-python",
   "name": "python",
   "nbconvert_exporter": "python",
   "pygments_lexer": "ipython3",
   "version": "3.5.2"
  }
 },
 "nbformat": 4,
 "nbformat_minor": 2
}
