{
 "cells": [
  {
   "cell_type": "markdown",
   "metadata": {},
   "source": [
    "## Import"
   ]
  },
  {
   "cell_type": "code",
   "execution_count": 2,
   "metadata": {},
   "outputs": [],
   "source": [
    "import torch\n",
    "from torch import nn\n",
    "import torchvision.transforms as transforms\n",
    "import torch.backends.cudnn as cudnn\n",
    "import torchvision.datasets as dsets\n",
    "import itertools\n",
    "from torch.autograd import Variable"
   ]
  },
  {
   "cell_type": "code",
   "execution_count": 3,
   "metadata": {
    "collapsed": true
   },
   "outputs": [],
   "source": [
    "batchSize = 100\n",
    "z_size = 100\n",
    "h_size = 128"
   ]
  },
  {
   "cell_type": "markdown",
   "metadata": {},
   "source": [
    "# Data Set"
   ]
  },
  {
   "cell_type": "code",
   "execution_count": 4,
   "metadata": {},
   "outputs": [
    {
     "name": "stdout",
     "output_type": "stream",
     "text": [
      "Downloading http://yann.lecun.com/exdb/mnist/train-images-idx3-ubyte.gz\n",
      "Downloading http://yann.lecun.com/exdb/mnist/train-labels-idx1-ubyte.gz\n",
      "Downloading http://yann.lecun.com/exdb/mnist/t10k-images-idx3-ubyte.gz\n",
      "Downloading http://yann.lecun.com/exdb/mnist/t10k-labels-idx1-ubyte.gz\n",
      "Processing...\n",
      "Done!\n"
     ]
    }
   ],
   "source": [
    "transform = transforms.Compose([          \n",
    "        transforms.ToTensor()\n",
    "])\n",
    "\n",
    "cudnn.benchmark = True\n",
    "\n",
    "train_dataset = dsets.MNIST(root='./data/', train=True, download=True, transform=transform) \n",
    "data_loader = torch.utils.data.DataLoader(train_dataset, batch_size=100, shuffle=True)"
   ]
  },
  {
   "cell_type": "markdown",
   "metadata": {},
   "source": [
    "# Build Model"
   ]
  },
  {
   "cell_type": "code",
   "execution_count": 5,
   "metadata": {
    "collapsed": true
   },
   "outputs": [],
   "source": [
    "class Encoder(nn.Module):\n",
    "    def __init__(self):\n",
    "        super(Encoder, self).__init__()\n",
    "        \n",
    "        self.fc0 = nn.Sequential(\n",
    "        \n",
    "                nn.Linear(28*28,1024),\n",
    "                nn.BatchNorm1d(1024),\n",
    "                nn.LeakyReLU(0.1),\n",
    "            \n",
    "                nn.Linear(1024,512),\n",
    "                nn.BatchNorm1d(512),\n",
    "                nn.LeakyReLU(0.1),\n",
    "            \n",
    "                nn.Linear(512,256),\n",
    "                nn.BatchNorm1d(256),\n",
    "                nn.LeakyReLU(0.1),\n",
    "            \n",
    "        )\n",
    "        \n",
    "        self.fc1 = nn.Sequential(\n",
    "                nn.Linear(256,100),\n",
    "                nn.LeakyReLU(0.1)\n",
    "        )\n",
    "        \n",
    "        self.fc2 = nn.Sequential(\n",
    "                nn.Linear(256,100),\n",
    "                nn.LeakyReLU(0.1)\n",
    "        )\n",
    "        \n",
    "    def forward(self,x):\n",
    "        x = x.view(batchSize,-1)\n",
    "        x = self.fc0(x)\n",
    "        z_mu = self.fc1(x)\n",
    "        z_log_sigma = self.fc2(x)\n",
    "        \n",
    "        return z_mu, z_log_sigma\n",
    "        \n",
    "        "
   ]
  },
  {
   "cell_type": "code",
   "execution_count": 6,
   "metadata": {
    "collapsed": true
   },
   "outputs": [],
   "source": [
    "class Decoder(nn.Module):\n",
    "    def __init__(self):\n",
    "        super(Decoder, self).__init__()\n",
    "\n",
    "        self.model = nn.Sequential(\n",
    "        \n",
    "                nn.Linear(100,256),\n",
    "                nn.BatchNorm1d(256),\n",
    "                nn.LeakyReLU(0.1),\n",
    "            \n",
    "                nn.Linear(256,512),\n",
    "                nn.BatchNorm1d(512),\n",
    "                nn.LeakyReLU(0.1),\n",
    "            \n",
    "                nn.Linear(512,1024),\n",
    "                nn.BatchNorm1d(1024),\n",
    "                nn.LeakyReLU(0.1),\n",
    "            \n",
    "                nn.Linear(1024,28*28),\n",
    "                nn.Sigmoid()\n",
    "        )\n",
    "        \n",
    "    def forward(self,x):\n",
    "        x = self.model(x)\n",
    "        return x\n",
    "        \n",
    "        "
   ]
  },
  {
   "cell_type": "code",
   "execution_count": 7,
   "metadata": {
    "collapsed": true
   },
   "outputs": [],
   "source": [
    "def sample_z(z_mu, z_log_sigma):\n",
    "    epsilon = torch.FloatTensor(100*100).normal_(0,1).view((100,100))\n",
    "    z_samples = z_mu + torch.mul(z_log_sigma, Variable(epsilon))\n",
    "    \n",
    "    return z_samples"
   ]
  },
  {
   "cell_type": "code",
   "execution_count": 8,
   "metadata": {
    "collapsed": true,
    "scrolled": true
   },
   "outputs": [],
   "source": [
    "encoder = Encoder()\n",
    "decoder = Decoder()"
   ]
  },
  {
   "cell_type": "code",
   "execution_count": 12,
   "metadata": {
    "collapsed": true
   },
   "outputs": [],
   "source": [
    "criterion1 = nn.BCELoss()\n",
    "criterion2 = nn.KLDivLoss()"
   ]
  },
  {
   "cell_type": "code",
   "execution_count": 13,
   "metadata": {
    "collapsed": true
   },
   "outputs": [],
   "source": [
    "optimizer = torch.optim.Adam(itertools.chain(encoder.parameters(),decoder.parameters()),\n",
    "                             lr=1e-4,\n",
    "                             betas = (0.5,0.999)\n",
    "                            )\n"
   ]
  },
  {
   "cell_type": "code",
   "execution_count": 14,
   "metadata": {
    "collapsed": true
   },
   "outputs": [
    {
     "data": {
      "application/vnd.jupyter.widget-view+json": {
       "model_id": "3ed42f131c3e4256a6b0b05d62376dea"
      }
     },
     "metadata": {},
     "output_type": "display_data"
    },
    {
     "name": "stdout",
     "output_type": "stream",
     "text": [
      "epoch: 22, step: 1, loss: 154.88479614257812\n",
      "\n"
     ]
    },
    {
     "ename": "KeyboardInterrupt",
     "evalue": "",
     "output_type": "error",
     "traceback": [
      "\u001b[0;31m---------------------------------------------------------------------------\u001b[0m",
      "\u001b[0;31mKeyboardInterrupt\u001b[0m                         Traceback (most recent call last)",
      "\u001b[0;32m<ipython-input-14-65d0b7e5058a>\u001b[0m in \u001b[0;36m<module>\u001b[0;34m()\u001b[0m\n\u001b[1;32m     17\u001b[0m         \u001b[0mloss\u001b[0m \u001b[0;34m=\u001b[0m \u001b[0mreconstruction_loss\u001b[0m \u001b[0;34m+\u001b[0m \u001b[0mKLD\u001b[0m\u001b[0;34m\u001b[0m\u001b[0m\n\u001b[1;32m     18\u001b[0m \u001b[0;34m\u001b[0m\u001b[0m\n\u001b[0;32m---> 19\u001b[0;31m         \u001b[0mloss\u001b[0m\u001b[0;34m.\u001b[0m\u001b[0mbackward\u001b[0m\u001b[0;34m(\u001b[0m\u001b[0;34m)\u001b[0m\u001b[0;34m\u001b[0m\u001b[0m\n\u001b[0m\u001b[1;32m     20\u001b[0m \u001b[0;34m\u001b[0m\u001b[0m\n\u001b[1;32m     21\u001b[0m         \u001b[0moptimizer\u001b[0m\u001b[0;34m.\u001b[0m\u001b[0mstep\u001b[0m\u001b[0;34m(\u001b[0m\u001b[0;34m)\u001b[0m\u001b[0;34m\u001b[0m\u001b[0m\n",
      "\u001b[0;32m//anaconda/lib/python3.5/site-packages/torch/autograd/variable.py\u001b[0m in \u001b[0;36mbackward\u001b[0;34m(self, gradient, retain_variables)\u001b[0m\n\u001b[1;32m    144\u001b[0m                     'or with gradient w.r.t. the variable')\n\u001b[1;32m    145\u001b[0m             \u001b[0mgradient\u001b[0m \u001b[0;34m=\u001b[0m \u001b[0mself\u001b[0m\u001b[0;34m.\u001b[0m\u001b[0mdata\u001b[0m\u001b[0;34m.\u001b[0m\u001b[0mnew\u001b[0m\u001b[0;34m(\u001b[0m\u001b[0;34m)\u001b[0m\u001b[0;34m.\u001b[0m\u001b[0mresize_as_\u001b[0m\u001b[0;34m(\u001b[0m\u001b[0mself\u001b[0m\u001b[0;34m.\u001b[0m\u001b[0mdata\u001b[0m\u001b[0;34m)\u001b[0m\u001b[0;34m.\u001b[0m\u001b[0mfill_\u001b[0m\u001b[0;34m(\u001b[0m\u001b[0;36m1\u001b[0m\u001b[0;34m)\u001b[0m\u001b[0;34m\u001b[0m\u001b[0m\n\u001b[0;32m--> 146\u001b[0;31m         \u001b[0mself\u001b[0m\u001b[0;34m.\u001b[0m\u001b[0m_execution_engine\u001b[0m\u001b[0;34m.\u001b[0m\u001b[0mrun_backward\u001b[0m\u001b[0;34m(\u001b[0m\u001b[0;34m(\u001b[0m\u001b[0mself\u001b[0m\u001b[0;34m,\u001b[0m\u001b[0;34m)\u001b[0m\u001b[0;34m,\u001b[0m \u001b[0;34m(\u001b[0m\u001b[0mgradient\u001b[0m\u001b[0;34m,\u001b[0m\u001b[0;34m)\u001b[0m\u001b[0;34m,\u001b[0m \u001b[0mretain_variables\u001b[0m\u001b[0;34m)\u001b[0m\u001b[0;34m\u001b[0m\u001b[0m\n\u001b[0m\u001b[1;32m    147\u001b[0m \u001b[0;34m\u001b[0m\u001b[0m\n\u001b[1;32m    148\u001b[0m     \u001b[0;32mdef\u001b[0m \u001b[0mregister_hook\u001b[0m\u001b[0;34m(\u001b[0m\u001b[0mself\u001b[0m\u001b[0;34m,\u001b[0m \u001b[0mhook\u001b[0m\u001b[0;34m)\u001b[0m\u001b[0;34m:\u001b[0m\u001b[0;34m\u001b[0m\u001b[0m\n",
      "\u001b[0;31mKeyboardInterrupt\u001b[0m: "
     ]
    }
   ],
   "source": [
    "niter = 20\n",
    "\n",
    "for epoch in range(21,100):\n",
    "    for i, (data,_) in enumerate(tqdm_notebook(data_loader)):\n",
    "        encoder.zero_grad()\n",
    "        decoder.zero_grad()\n",
    "   \n",
    "        data_v = Variable(data)\n",
    "        z_mu, z_log_sigma = encoder(data_v)\n",
    "        z_samples = sample_z(z_mu,z_log_sigma)\n",
    "        fake = decoder(z_samples)\n",
    "        \n",
    "        reconstruction_loss = criterion1(fake,data_v)\n",
    "        KLD_element = z_mu.pow(2).add_(z_log_sigma.pow(2).exp()).mul_(-1).add_(1).add_(z_log_sigma.pow(2))\n",
    "        KLD = torch.sum(KLD_element).mul_(-0.5)\n",
    "        \n",
    "        loss = reconstruction_loss + KLD\n",
    "        \n",
    "        loss.backward()\n",
    "        \n",
    "        optimizer.step()\n",
    "        \n",
    "        if i%100 == 0:\n",
    "            print(\"epoch: {}, step: {}, loss: {}\".format(epoch+1,i+1,loss.data[0]))\n",
    "         \n",
    "        \n",
    "        \n",
    "        \n",
    "    # 결고ㅏ 이미지 저장\n",
    "    Z_v = Variable(torch.FloatTensor(8*8*z_size).normal_(0,1).view(64,-1))\n",
    "\n",
    "    samples = decoder(Z_v).data.numpy()\n",
    "    fig = plt.figure(figsize=(4, 4))\n",
    "    gs = gridspec.GridSpec(8, 8)\n",
    "    gs.update(wspace=0.05, hspace=0.05)\n",
    "    for j, sample in enumerate(samples):\n",
    "        ax = plt.subplot(gs[j])\n",
    "        plt.axis('off')\n",
    "        ax.set_xticklabels([])\n",
    "        ax.set_yticklabels([])\n",
    "        ax.set_aspect('equal')\n",
    "        plt.imshow(sample.reshape(28, 28), cmap='Greys_r')\n",
    "    fig.savefig(\"test_imgs_{}_{}.png\".format(epoch,i))\n",
    "\n",
    "\n",
    "        \n",
    "        "
   ]
  },
  {
   "cell_type": "code",
   "execution_count": null,
   "metadata": {
    "collapsed": true
   },
   "outputs": [],
   "source": [
    "torch.save(encoder.state_dict(),\"encoder.pth\")\n",
    "torch.save(decoder.state_dict(),\"decoder.pth\")"
   ]
  },
  {
   "cell_type": "code",
   "execution_count": 61,
   "metadata": {
    "collapsed": true
   },
   "outputs": [],
   "source": [
    "import matplotlib.pyplot as plt\n",
    "import matplotlib.gridspec as gridspec\n",
    "% matplotlib inline"
   ]
  },
  {
   "cell_type": "code",
   "execution_count": null,
   "metadata": {
    "collapsed": true,
    "scrolled": false
   },
   "outputs": [],
   "source": [
    "Z_v = Variable(torch.FloatTensor(8*8*z_size).normal_(0,1).view(64,-1))\n",
    "\n",
    "samples = decoder(Z_v).data.numpy()\n",
    "fig = plt.figure(figsize=(4, 4))\n",
    "gs = gridspec.GridSpec(8, 8)\n",
    "gs.update(wspace=0.05, hspace=0.05)\n",
    "for j, sample in enumerate(samples):\n",
    "    ax = plt.subplot(gs[j])\n",
    "    plt.axis('off')\n",
    "    ax.set_xticklabels([])\n",
    "    ax.set_yticklabels([])\n",
    "    ax.set_aspect('equal')\n",
    "    plt.imshow(sample.reshape(28, 28), cmap='Greys_r')\n",
    "fig.savefig(\"test_imgs_{}_{}.png\".format(epoch,i))\n",
    "\n"
   ]
  },
  {
   "cell_type": "markdown",
   "metadata": {},
   "source": [
    "#### 18th Epoch Image"
   ]
  },
  {
   "cell_type": "markdown",
   "metadata": {},
   "source": [
    "<a href=\"https://imgur.com/Ri1HUA2\"><img src=\"https://i.imgur.com/Ri1HUA2.png\" title=\"source: imgur.com\" /></a>"
   ]
  }
 ],
 "metadata": {
  "kernelspec": {
   "display_name": "Python 3",
   "language": "python",
   "name": "python3"
  },
  "language_info": {
   "codemirror_mode": {
    "name": "ipython",
    "version": 3
   },
   "file_extension": ".py",
   "mimetype": "text/x-python",
   "name": "python",
   "nbconvert_exporter": "python",
   "pygments_lexer": "ipython3",
   "version": "3.6.2"
  }
 },
 "nbformat": 4,
 "nbformat_minor": 2
}
