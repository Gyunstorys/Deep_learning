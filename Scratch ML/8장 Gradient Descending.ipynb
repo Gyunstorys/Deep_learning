{
 "cells": [
  {
   "cell_type": "markdown",
   "metadata": {},
   "source": [
    "작성자 : YBigta 10기 박승리"
   ]
  },
  {
   "cell_type": "markdown",
   "metadata": {},
   "source": [
    "# 8장 경사 하강법"
   ]
  },
  {
   "cell_type": "markdown",
   "metadata": {},
   "source": [
    "대부분의 머신 러닝 기법은 주어진 상황에서 가장 적합한 모델을 찾아가는 과정으로 이루어져 있다.\n",
    "\n",
    "가장 적합한 모델이란\n",
    "- 모델의 오류(error)를 최소화 하는\n",
    "- 또는 모델의 우도(likelihood)를 최대화하는\n",
    "\n",
    "것을 의미한다.\n",
    " \n",
    "우리가 여러 모델을 최적화 시킬 때, 문제를 해결하기 위하여 **경사 하강법(gradient descent)** 이라는 방법을 사용할 것이다.\n",
    "\n",
    "이번장에서 우리는 **경사 하강법(gradient descent)**을 밑바닥에서부터 구현해 볼 것이다."
   ]
  },
  {
   "cell_type": "markdown",
   "metadata": {},
   "source": [
    "### Gradient란?"
   ]
  },
  {
   "cell_type": "markdown",
   "metadata": {},
   "source": [
    "Gradient(경사, 기울기)는 벡터 미적분학에서 scaler field의 최대 증가율을 나타내는 vector field를 의미한다.\n",
    "\n",
    "쉽게 말해, 함수가 **가장 빠르게 증가**할 수 있는 방향을 의미한다."
   ]
  },
  {
   "cell_type": "markdown",
   "metadata": {},
   "source": [
    "![rnn link](https://i.imgur.com/PxGH7qY.png)"
   ]
  },
  {
   "cell_type": "markdown",
   "metadata": {},
   "source": [
    "따라서 함수의 최댓값을 구하는 방법으로 gradient를 활용할 수 있다. \n",
    "\n",
    "임의의 시작점을 잡은 후 gradient를 계산하고, gradient의 방향으로 조금씩 이동하는 과정을 여러 번 반복하는 것이다.\n",
    "\n",
    "마찬가지로 함수의 최솟값은 gradient의 반대 방향으로 이동함으로써 구할 수 있다."
   ]
  },
  {
   "cell_type": "markdown",
   "metadata": {},
   "source": [
    "![rnn link](https://i.imgur.com/oj966PR.png)"
   ]
  },
  {
   "cell_type": "code",
   "execution_count": 38,
   "metadata": {
    "collapsed": true
   },
   "outputs": [],
   "source": [
    "import matplotlib.pyplot as plt\n",
    "import numpy as np\n",
    "import math, random"
   ]
  },
  {
   "cell_type": "markdown",
   "metadata": {},
   "source": [
    "### Gradient 계산하기"
   ]
  },
  {
   "cell_type": "markdown",
   "metadata": {},
   "source": [
    "f가 변수가 하나인 함수인 경우, 점 x에서의 미분값은 미분의 정의에 따라 x가 아주 조금 변했을 때 f(x)의 변화량을 의미한다.\n",
    "\n",
    "x의 변화량을 h로 표기하며, h를 0에 근사시켜 아주 조금 변한다는 것을 표현한다.\n",
    "\n",
    "이 때의 미분값은 함수 변화율(difference quotient)의 극한값이다."
   ]
  },
  {
   "cell_type": "markdown",
   "metadata": {},
   "source": [
    "![rnn link](https://i.imgur.com/pZJZukj.png)"
   ]
  },
  {
   "cell_type": "code",
   "execution_count": 50,
   "metadata": {
    "collapsed": true
   },
   "outputs": [],
   "source": [
    "def difference_quotient(f, x, h):\n",
    "    return((f(x + h) - f(x)) / h)"
   ]
  },
  {
   "cell_type": "markdown",
   "metadata": {},
   "source": [
    "미분값을 구하기 위해서는 도함수(derivative)를 구해야 한다.\n",
    "\n",
    "python으로는 극한값을 구할 수 없지만, 아주 작은 e값을 대입하여 근사시킨 값을 구할 수 있다.\n",
    "\n",
    "f(x) = x^2 함수의 도함수를 구해보겠다."
   ]
  },
  {
   "cell_type": "code",
   "execution_count": 53,
   "metadata": {
    "collapsed": true
   },
   "outputs": [],
   "source": [
    "def plot_esimated_derivative():\n",
    "    \n",
    "    def square(x):\n",
    "        return x * x\n",
    "    \n",
    "    def derivative(x):\n",
    "        return 2 * x\n",
    "    \n",
    "    derivative_estimate = lambda x : difference_quotient(square, x, h = 0.00000000001)\n",
    "    \n",
    "    # 두 계산식에 따른 결과값이 거의 비슷함을 보여주기 위한 그래프\n",
    "    x = range(-10,10)\n",
    "    \n",
    "    plt.title(\"Actual Derivatives vs Estimates\")\n",
    "    plt.plot(x, list(map(derivative, x)), 'rx', label = 'Actual') # 빨간색 x\n",
    "    plt.plot(x, list(map(derivative_estimate, x)), '+b', label = 'Estimate') # 파란색 +\n",
    "    plt.legend(loc = 9)\n",
    "    plt.show()"
   ]
  },
  {
   "cell_type": "code",
   "execution_count": 54,
   "metadata": {},
   "outputs": [
    {
     "data": {
      "image/png": "[encoded data removed]",
      "text/plain": [
       "<matplotlib.figure.Figure at 0x23b19110b70>"
      ]
     },
     "metadata": {},
     "output_type": "display_data"
    }
   ],
   "source": [
    "plot_esimated_derivative()"
   ]
  },
  {
   "cell_type": "markdown",
   "metadata": {},
   "source": [
    "만약 f가 다변수 함수라면, 각각의 변수에 대해 작은 변화가 있을 때 f의 변화량을 알려주는 편도함수(partial derivative)가 여러 개 존재한다.\n",
    "\n",
    "i번째 편도함수는, i번째 변수를 제외한 다른 모든 입력변수를 고정시켜서 계산할 수 있다."
   ]
  },
  {
   "cell_type": "code",
   "execution_count": 55,
   "metadata": {
    "collapsed": true
   },
   "outputs": [],
   "source": [
    "def partial_diffrence_quotient(f, v, i, h):\n",
    "    \n",
    "    # 함수 f의 i번째 편도함수가 v에서 가지는 값\n",
    "    w = [v_j + (h if j == i else 0)\n",
    "            for j, v_j in enumerate(v)]\n",
    "    \n",
    "    return (f(w) - f(v)) / h\n",
    "\n",
    "def estimate_gradient(f, v, h=0.00001):\n",
    "    return [partial_difference_quotient(f, v, i, h)\n",
    "            for i, _ in enumerate(v)]"
   ]
  },
  {
   "cell_type": "markdown",
   "metadata": {},
   "source": [
    "하지만, 우리가 정의한 함수처럼 함수 두 값의 차이를 사용하여 근사하는 것은 계산해야 할 양이 많아진다는 단점이 있다.\n",
    "\n",
    "만약 v의 길이가 n이면(변수의 개수) estimate_gradient 함수는 총 2n번의 계산을 수행해야 하므로, 불필요한 계산이 많아진다."
   ]
  },
  {
   "cell_type": "markdown",
   "metadata": {},
   "source": [
    "### Gradient 적용하기"
   ]
  },
  {
   "cell_type": "markdown",
   "metadata": {},
   "source": [
    "함수 sum_of_square"
   ]
  },
  {
   "cell_type": "markdown",
   "metadata": {},
   "source": [
    "image"
   ]
  },
  {
   "cell_type": "markdown",
   "metadata": {},
   "source": [
    "함수 sum of square는 v가 0 벡터일 때 가장 작은 값을 가진다. \n",
    "\n",
    "우리는 경사 하강법을 이용하여 sum of square 3차원 벡터의 최솟값을 구하려고 한다.\n",
    "\n",
    "임의의 시작점을 잡고, gradient가 아주 작아질 때까지 경사의 반대 방향으로 조금씩 이동하면 구할 수 있다."
   ]
  },
  {
   "cell_type": "code",
   "execution_count": 63,
   "metadata": {
    "collapsed": true
   },
   "outputs": [],
   "source": [
    "from collections import Counter\n",
    "from scipy.spatial import distance\n",
    "from functools import reduce"
   ]
  },
  {
   "cell_type": "code",
   "execution_count": 84,
   "metadata": {
    "collapsed": true
   },
   "outputs": [],
   "source": [
    "def sum_of_squares(v):\n",
    "    return sum(v_i ** 2 for v_i in v)\n",
    "\n",
    "def step(v, direction, step_size):\n",
    "    # v에서 step_size만큼 이동하기\n",
    "    ls = []\n",
    "    for v_i, direction_i in zip(v, direction): # zip함수는 동일한 개수로 이루어진 자료형을 묶어주는 역할을 한다.\n",
    "        ls.append(v_i + step_size * direction_i)\n",
    "    return(np.array(ls))\n",
    "\n",
    "# sum_of_squares 함수의 도함수를 구해준다.\n",
    "def sum_of_squares_gradient(v):\n",
    "    return np.array([2 * v_i for v_i in v])\n",
    "\n",
    "def dist(x,y):   \n",
    "    return np.sqrt(np.sum((x-y)**2))"
   ]
  },
  {
   "cell_type": "code",
   "execution_count": 86,
   "metadata": {},
   "outputs": [
    {
     "name": "stdout",
     "output_type": "stream",
     "text": [
      "minimum v [-0.00422561  0.00084512 -0.00253537]\n",
      "minimum value 2.49980817865e-05\n"
     ]
    }
   ],
   "source": [
    "# 임의의 시작점을 선택한다\n",
    "v = np.array([random.randint(-10,10) for i in range(3)])\n",
    "tolerance = 0.000001 # 수렴값\n",
    "\n",
    "while True:\n",
    "    gradient = sum_of_squares_gradient(v)   # v의 gradient 계산\n",
    "    next_v = step(v, gradient, -0.0001)     # gradient의 음수만큼 이동\n",
    "    if dist(next_v, v) < tolerance:     # tolerance에 수렴하게 되면 멈춘다\n",
    "        break\n",
    "    v = next_v                              # 수렴할 때까지 반복\n",
    "\n",
    "print(\"minimum v\", v)\n",
    "print(\"minimum value\", sum_of_squares(v))"
   ]
  },
  {
   "cell_type": "markdown",
   "metadata": {},
   "source": [
    "### 적절한 step size 정하기"
   ]
  },
  {
   "cell_type": "markdown",
   "metadata": {},
   "source": [
    "gradient를 따라 이동할 때, 어떤 step size가 최적의 결과를 낼 수 있는지 확인해야 한다.\n",
    "\n",
    "방법은 다음과 같다.\n",
    "- step size를 고정\n",
    "- 시간에 따라 step size를 점차 줄임\n",
    "- step을 거칠 때마다 목적 함수를 최소화하는 step size로 정함\n",
    "\n",
    "step size에 여러가지 값을 할당해서, 그 중에서 어떤 step size가 가장 효과적인지 찾아보려고 한다."
   ]
  },
  {
   "cell_type": "code",
   "execution_count": null,
   "metadata": {
    "collapsed": true
   },
   "outputs": [],
   "source": [
    "step_sizes = [100, 10, 1, 0.1, 0.01, 0.001, 0.0001, 0.00001]"
   ]
  },
  {
   "cell_type": "markdown",
   "metadata": {},
   "source": [
    "그런데 어떤 x는 함수에 부적합한 값을 넣어서 오류를 발생시킬 수 있다. \n",
    "\n",
    "따라서 safe라는 함수를 통해, f에 오류가 발생했을 때 무한대(infinity)를 반환하는 함수를 정의한다."
   ]
  },
  {
   "cell_type": "code",
   "execution_count": 95,
   "metadata": {
    "collapsed": true
   },
   "outputs": [],
   "source": [
    "def safe(f):\n",
    "    # f와 같은 함수를 반환하지만, f에 오류가 발생하면 무한대를 반환한다.\n",
    "    def safe_f(*args, **kwargs):\n",
    "        try:\n",
    "            return f(*args, **kwargs)\n",
    "        except:\n",
    "            return float('inf') # 무한대를 표기\n",
    "    return safe_f"
   ]
  },
  {
   "cell_type": "code",
   "execution_count": 123,
   "metadata": {
    "collapsed": true
   },
   "outputs": [],
   "source": [
    "def minimize_batch(target_fn, gradient_fn, theta_0, tolerance=0.000001):\n",
    "    # 목적 함수(target_fn)을 최소화시키는 theta를 gradient descending을 사용해서 찾아준다.\n",
    "\n",
    "    step_sizes = np.array([100, 10, 1, 0.1, 0.01, 0.001, 0.0001, 0.00001])\n",
    "\n",
    "    theta = theta_0 # theta를 시작점으로 설정한다.\n",
    "    target_fn = safe(target_fn)\n",
    "    value = target_fn(theta) # 최소화시키려는 값\n",
    "\n",
    "    while True:\n",
    "        gradient = gradient_fn(theta)\n",
    "        next_thetas = [step(theta, gradient, -step_size) for step_size in step_sizes]\n",
    "\n",
    "        # 함수를 최소화시키는 theta를 선택한다.\n",
    "        # next_thetas에는 새롭게 gradient를 따라 이동한 x의 값들이 들어있다.\n",
    "        # 다음 theta, 즉 next_theta에는 target_fn(next_steps)의 값 중 가장 작은(목적함수) 값을 선택한다.\n",
    "        next_theta = min(next_thetas, key=target_fn)\n",
    "        next_value = target_fn(next_theta)\n",
    "\n",
    "        # 전 단계의 value와 이번 단계에서 새롭게 계산된 next_value의 값을 비교해, 그 차이가 tolerance만큼 수렴하면 멈춘다.\n",
    "        if abs(value - next_value) < tolerance:\n",
    "            return theta\n",
    "        else:\n",
    "            theta, value = next_theta, next_value"
   ]
  },
  {
   "cell_type": "code",
   "execution_count": 124,
   "metadata": {},
   "outputs": [
    {
     "name": "stdout",
     "output_type": "stream",
     "text": [
      "[-6  6  1]\n",
      "minimum v [-0.00099692  0.00099692  0.00016615]\n",
      "minimum value 2.01530993326e-06\n"
     ]
    }
   ],
   "source": [
    "v = np.array([random.randint(-10, 10) for i in range(3)])\n",
    "print(v)\n",
    "v = minimize_batch(sum_of_squares, sum_of_squares_gradient, v)\n",
    "print(\"minimum v\", v)\n",
    "print(\"minimum value\", sum_of_squares(v))"
   ]
  },
  {
   "cell_type": "markdown",
   "metadata": {},
   "source": [
    "### Stochastic Gradient Descent (SGD)"
   ]
  },
  {
   "cell_type": "markdown",
   "metadata": {},
   "source": [
    "앞에서 사용한 minimize_batch 함수는 이용하면 반복문을 한 번 돌 때마다 데이터 전체(모든 데이터 포인트, 모든 차원, 모든 변수)에 대한 gradient를 계산한다.\n",
    "\n",
    "위에서 실습한 예제는 데이터 포인트의 개수가 3개로 시간이 많이 걸리지 않았지만, 차원이 증가하면 계산 시간이 아주 오래 걸릴것이다.\n",
    "\n",
    "데이터 전체에 대한 오류값은 각각의 데이터 포인트에 대한 오류값들의 합과 같다.\n",
    "\n",
    "따라서 반복문을 한 번 돌 때마다 데이터 포인트 하나에 대한 gradient를 계산하는 SGD를 사용할 수 있다.\n",
    "\n",
    "한 번 반복문을 돌 때마다 임의의 순서대로 변수를 사용한다."
   ]
  },
  {
   "cell_type": "markdown",
   "metadata": {},
   "source": [
    "![rnn link](https://i.imgur.com/ZANr07V.png)"
   ]
  },
  {
   "cell_type": "code",
   "execution_count": 125,
   "metadata": {
    "collapsed": true
   },
   "outputs": [],
   "source": [
    "def in_random_order(data):\n",
    "    # 임의의 순서대로 data를 반환한다.\n",
    "    indexes = [i for i, _ in enumerate(data)] # data의 인덱스를 list로 생성\n",
    "    random.shuffle(indexes) # index를 섞는다.\n",
    "    for i in indexes:\n",
    "        yield data[i] # 섞인 순서대로 index를 반환"
   ]
  },
  {
   "cell_type": "markdown",
   "metadata": {},
   "source": [
    "SGD를 계산하면서, 함수값이 한동안 줄지 않으면 알고리즘을 종료하도록 한다."
   ]
  },
  {
   "cell_type": "code",
   "execution_count": 126,
   "metadata": {
    "collapsed": true
   },
   "outputs": [],
   "source": [
    "def minimize_stochastic(target_fn, gradient_fn, x, y, theta_0, alpha = 0.01):\n",
    "    # 데이터가 x, y 2개인 경우\n",
    "    \n",
    "    data = zip(x,y) # x = (3, 4, 5), y = (1, 5, 2)이면, zip(x,y) = ((3,1), (4,5), (5,2)) \n",
    "    theta = theta_0 # 처음 시작점\n",
    "    alpha = alpha_0 # 기본 step_size\n",
    "    min_theta, min_value = None, float('inf') # 시작할 때의 최솟값\n",
    "    iterations_with_no_implovement = 0\n",
    "    \n",
    "    while iterations_with_no_implovement < 100:\n",
    "        value = sum(target_fn(x_i, y_i, theta) for x_i, y_i in data)\n",
    "        \n",
    "        if value < min_value:\n",
    "            # 새로운 최솟값을 찾았다면, 그 값을 저장하고\n",
    "            # 처음 step size로 다시 돌아간다.\n",
    "            min_theta, min_value = theta, value\n",
    "            iterations_with_no_implovement = 0\n",
    "            alpha = alpha_0\n",
    "        else:\n",
    "            # 최솟값이 줄어들지 않는다면, step size를 축소한다.\n",
    "            iterations_with_no_implovement += 1\n",
    "            alpha *= 0.9\n",
    "            \n",
    "        # 각 변수에 대해 경사도를 계산한다. \n",
    "        # 반복문을 사용하여, 각 데이터 포인트에 대한 gradient를 계산한다.(위의 Minibatch Gradient Descent와의 차이 비교)\n",
    "        for x_i, y_i in in_random_order(data):\n",
    "            gradient_i = gradient_fn(x_i, y_i, theta)\n",
    "            theta = vector_subtract(theta, scalar_multiply(alpha, gradient_i))\n",
    "    \n",
    "    return min_theta"
   ]
  }
 ],
 "metadata": {
  "kernelspec": {
   "display_name": "Python 3",
   "language": "python",
   "name": "python3"
  },
  "language_info": {
   "codemirror_mode": {
    "name": "ipython",
    "version": 3
   },
   "file_extension": ".py",
   "mimetype": "text/x-python",
   "name": "python",
   "nbconvert_exporter": "python",
   "pygments_lexer": "ipython3",
   "version": "3.6.1"
  }
 },
 "nbformat": 4,
 "nbformat_minor": 2
}
